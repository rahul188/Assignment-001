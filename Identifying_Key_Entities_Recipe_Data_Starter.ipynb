{
 "cells": [
  {
   "cell_type": "markdown",
   "metadata": {
    "id": "42UBKEnat_xo"
   },
   "source": [
    "# **Identifying Key Entities in Recipe Data**"
   ]
  },
  {
   "cell_type": "markdown",
   "metadata": {
    "id": "Pme3h_fduOKh"
   },
   "source": [
    "\n",
    "**Business Objective**:\n",
    "The goal of this assignment is to train a Named Entity Recognition (NER) model using Conditional Random Fields (CRF) to extract key entities from recipe data. The model will classify words into predefined categories such as ingredients, quantities and units, enabling the creation of a structured database of recipes and ingredients that can be used to power advanced features in recipe management systems, dietary tracking apps, or e-commerce platforms."
   ]
  },
  {
   "cell_type": "markdown",
   "metadata": {
    "id": "FXzoAs8evNG0"
   },
   "source": [
    "### **Data Description**\n",
    "The given data is in JSON format, representing a **structured recipe ingredient list** with **Named Entity Recognition (NER) labels**. Below is a breakdown of the data fields:\n",
    "\n",
    "```json\n",
    "[\n",
    "    {\n",
    "        \"input\": \"6 Karela Bitter Gourd Pavakkai Salt 1 Onion 3 tablespoon Gram flour besan 2 teaspoons Turmeric powder Haldi Red Chilli Cumin seeds Jeera Coriander Powder Dhania Amchur Dry Mango Sunflower Oil\",\n",
    "        \"pos\": \"quantity ingredient ingredient ingredient ingredient ingredient quantity ingredient quantity unit ingredient ingredient ingredient quantity unit ingredient ingredient ingredient ingredient ingredient ingredient ingredient ingredient ingredient ingredient ingredient ingredient ingredient ingredient ingredient ingredient\"\n",
    "    },\n",
    "    {\n",
    "      \"input\": \"2-1/2 cups rice cooked 3 tomatoes teaspoons BC Belle Bhat powder 1 teaspoon chickpea lentils 1/2 cumin seeds white urad dal mustard green chilli dry red 2 cashew or peanuts 1-1/2 tablespoon oil asafoetida\",\n",
    "      \"pos\": \"quantity unit ingredient ingredient quantity ingredient unit ingredient ingredient ingredient ingredient quantity unit ingredient ingredient quantity ingredient ingredient ingredient ingredient ingredient ingredient ingredient ingredient ingredient ingredient quantity ingredient ingredient ingredient quantity unit ingredient ingredient\"\n",
    "    }\n",
    "]\n"
   ]
  },
  {
   "cell_type": "markdown",
   "metadata": {
    "id": "LSDcNvJlwC6N"
   },
   "source": [
    "| **Key**  | **Description**  |\n",
    "|----------|-----------------|\n",
    "| `input`  | Contains a raw ingredient list from a recipe. |\n",
    "| `pos`    | Represents the corresponding part-of-speech (POS) tags or NER labels, identifying quantities, ingredients, and units. |\n"
   ]
  },
  {
   "cell_type": "markdown",
   "metadata": {
    "id": "phenosA4se1c"
   },
   "source": [
    "## **1** Import libraries"
   ]
  },
  {
   "cell_type": "markdown",
   "metadata": {
    "id": "Br-jQHin3kQX"
   },
   "source": [
    "#### **1.1** Installation of sklearn-crfsuite"
   ]
  },
  {
   "cell_type": "markdown",
   "metadata": {
    "id": "DPhaJSfCwpfa"
   },
   "source": [
    "sklearn-crfsuite is a Python wrapper for CRFsuite, a fast and efficient implementation of Conditional Random Fields (CRFs). It is designed to integrate seamlessly with scikit-learn for structured prediction tasks such as Named Entity Recognition (NER), Part-of-Speech (POS) tagging, and chunking."
   ]
  },
  {
   "cell_type": "code",
   "execution_count": 1,
   "metadata": {
    "id": "_QawokgQXAMO"
   },
   "outputs": [
    {
     "name": "stdout",
     "output_type": "stream",
     "text": [
      "Collecting sklearn_crfsuite==0.5.0\n",
      "  Downloading sklearn_crfsuite-0.5.0-py2.py3-none-any.whl.metadata (4.9 kB)\n",
      "Collecting python-crfsuite>=0.9.7 (from sklearn_crfsuite==0.5.0)\n",
      "  Downloading python_crfsuite-0.9.11-cp313-cp313-win_amd64.whl.metadata (4.4 kB)\n",
      "Collecting scikit-learn>=0.24.0 (from sklearn_crfsuite==0.5.0)\n",
      "  Downloading scikit_learn-1.7.0-cp313-cp313-win_amd64.whl.metadata (14 kB)\n",
      "Collecting tabulate>=0.4.2 (from sklearn_crfsuite==0.5.0)\n",
      "  Using cached tabulate-0.9.0-py3-none-any.whl.metadata (34 kB)\n",
      "Collecting tqdm>=2.0 (from sklearn_crfsuite==0.5.0)\n",
      "  Using cached tqdm-4.67.1-py3-none-any.whl.metadata (57 kB)\n",
      "Collecting numpy>=1.22.0 (from scikit-learn>=0.24.0->sklearn_crfsuite==0.5.0)\n",
      "  Using cached numpy-2.3.1-cp313-cp313-win_amd64.whl.metadata (60 kB)\n",
      "Collecting scipy>=1.8.0 (from scikit-learn>=0.24.0->sklearn_crfsuite==0.5.0)\n",
      "  Downloading scipy-1.16.0-cp313-cp313-win_amd64.whl.metadata (60 kB)\n",
      "Collecting joblib>=1.2.0 (from scikit-learn>=0.24.0->sklearn_crfsuite==0.5.0)\n",
      "  Downloading joblib-1.5.1-py3-none-any.whl.metadata (5.6 kB)\n",
      "Collecting threadpoolctl>=3.1.0 (from scikit-learn>=0.24.0->sklearn_crfsuite==0.5.0)\n",
      "  Downloading threadpoolctl-3.6.0-py3-none-any.whl.metadata (13 kB)\n",
      "Requirement already satisfied: colorama in d:\\upgrad\\gen-ai\\starter+notebook+++data (2)\\.venv\\lib\\site-packages (from tqdm>=2.0->sklearn_crfsuite==0.5.0) (0.4.6)\n",
      "Downloading sklearn_crfsuite-0.5.0-py2.py3-none-any.whl (10 kB)\n",
      "Downloading python_crfsuite-0.9.11-cp313-cp313-win_amd64.whl (300 kB)\n",
      "Downloading scikit_learn-1.7.0-cp313-cp313-win_amd64.whl (10.7 MB)\n",
      "   ---------------------------------------- 0.0/10.7 MB ? eta -:--:--\n",
      "   ------ --------------------------------- 1.8/10.7 MB 10.2 MB/s eta 0:00:01\n",
      "   --------------- ------------------------ 4.2/10.7 MB 9.8 MB/s eta 0:00:01\n",
      "   -------------------- ------------------- 5.5/10.7 MB 8.5 MB/s eta 0:00:01\n",
      "   -------------------------- ------------- 7.1/10.7 MB 8.3 MB/s eta 0:00:01\n",
      "   ---------------------------------- ----- 9.2/10.7 MB 8.6 MB/s eta 0:00:01\n",
      "   ---------------------------------------- 10.7/10.7 MB 8.7 MB/s eta 0:00:00\n",
      "Downloading joblib-1.5.1-py3-none-any.whl (307 kB)\n",
      "Using cached numpy-2.3.1-cp313-cp313-win_amd64.whl (12.7 MB)\n",
      "Downloading scipy-1.16.0-cp313-cp313-win_amd64.whl (38.4 MB)\n",
      "   ---------------------------------------- 0.0/38.4 MB ? eta -:--:--\n",
      "   - -------------------------------------- 1.8/38.4 MB 8.5 MB/s eta 0:00:05\n",
      "   --- ------------------------------------ 3.1/38.4 MB 7.7 MB/s eta 0:00:05\n",
      "   ----- ---------------------------------- 5.2/38.4 MB 8.2 MB/s eta 0:00:05\n",
      "   -------- ------------------------------- 7.9/38.4 MB 9.3 MB/s eta 0:00:04\n",
      "   ----------- ---------------------------- 11.3/38.4 MB 10.6 MB/s eta 0:00:03\n",
      "   -------------- ------------------------- 13.9/38.4 MB 10.9 MB/s eta 0:00:03\n",
      "   ---------------- ----------------------- 15.5/38.4 MB 10.5 MB/s eta 0:00:03\n",
      "   ------------------ --------------------- 17.8/38.4 MB 10.5 MB/s eta 0:00:02\n",
      "   --------------------- ------------------ 20.4/38.4 MB 10.8 MB/s eta 0:00:02\n",
      "   ---------------------- ----------------- 22.0/38.4 MB 10.3 MB/s eta 0:00:02\n",
      "   ------------------------- -------------- 24.6/38.4 MB 10.5 MB/s eta 0:00:02\n",
      "   --------------------------- ------------ 26.7/38.4 MB 10.5 MB/s eta 0:00:02\n",
      "   ----------------------------- ---------- 28.6/38.4 MB 10.4 MB/s eta 0:00:01\n",
      "   ------------------------------- -------- 30.4/38.4 MB 10.2 MB/s eta 0:00:01\n",
      "   --------------------------------- ------ 32.5/38.4 MB 10.2 MB/s eta 0:00:01\n",
      "   ----------------------------------- ---- 34.1/38.4 MB 10.0 MB/s eta 0:00:01\n",
      "   ------------------------------------- -- 35.9/38.4 MB 9.9 MB/s eta 0:00:01\n",
      "   ---------------------------------------- 38.4/38.4 MB 10.1 MB/s eta 0:00:00\n",
      "Using cached tabulate-0.9.0-py3-none-any.whl (35 kB)\n",
      "Downloading threadpoolctl-3.6.0-py3-none-any.whl (18 kB)\n",
      "Using cached tqdm-4.67.1-py3-none-any.whl (78 kB)\n",
      "Installing collected packages: tqdm, threadpoolctl, tabulate, python-crfsuite, numpy, joblib, scipy, scikit-learn, sklearn_crfsuite\n",
      "\n",
      "   ---------------------------------------- 0/9 [tqdm]\n",
      "   ------------- -------------------------- 3/9 [python-crfsuite]\n",
      "   ----------------- ---------------------- 4/9 [numpy]\n",
      "   ----------------- ---------------------- 4/9 [numpy]\n",
      "   ----------------- ---------------------- 4/9 [numpy]\n",
      "   ----------------- ---------------------- 4/9 [numpy]\n",
      "   ----------------- ---------------------- 4/9 [numpy]\n",
      "   ----------------- ---------------------- 4/9 [numpy]\n",
      "   ----------------- ---------------------- 4/9 [numpy]\n",
      "   ----------------- ---------------------- 4/9 [numpy]\n",
      "   ----------------- ---------------------- 4/9 [numpy]\n",
      "   ----------------- ---------------------- 4/9 [numpy]\n",
      "   ----------------- ---------------------- 4/9 [numpy]\n",
      "   ----------------- ---------------------- 4/9 [numpy]\n",
      "   ----------------- ---------------------- 4/9 [numpy]\n",
      "   ----------------- ---------------------- 4/9 [numpy]\n",
      "   ----------------- ---------------------- 4/9 [numpy]\n",
      "   ----------------- ---------------------- 4/9 [numpy]\n",
      "   ----------------- ---------------------- 4/9 [numpy]\n",
      "   ----------------- ---------------------- 4/9 [numpy]\n",
      "   ----------------- ---------------------- 4/9 [numpy]\n",
      "   ----------------- ---------------------- 4/9 [numpy]\n",
      "   ---------------------- ----------------- 5/9 [joblib]\n",
      "   ---------------------- ----------------- 5/9 [joblib]\n",
      "   ---------------------- ----------------- 5/9 [joblib]\n",
      "   -------------------------- ------------- 6/9 [scipy]\n",
      "   -------------------------- ------------- 6/9 [scipy]\n",
      "   -------------------------- ------------- 6/9 [scipy]\n",
      "   -------------------------- ------------- 6/9 [scipy]\n",
      "   -------------------------- ------------- 6/9 [scipy]\n",
      "   -------------------------- ------------- 6/9 [scipy]\n",
      "   -------------------------- ------------- 6/9 [scipy]\n",
      "   -------------------------- ------------- 6/9 [scipy]\n",
      "   -------------------------- ------------- 6/9 [scipy]\n",
      "   -------------------------- ------------- 6/9 [scipy]\n",
      "   -------------------------- ------------- 6/9 [scipy]\n",
      "   -------------------------- ------------- 6/9 [scipy]\n",
      "   -------------------------- ------------- 6/9 [scipy]\n",
      "   -------------------------- ------------- 6/9 [scipy]\n",
      "   -------------------------- ------------- 6/9 [scipy]\n",
      "   -------------------------- ------------- 6/9 [scipy]\n",
      "   -------------------------- ------------- 6/9 [scipy]\n",
      "   -------------------------- ------------- 6/9 [scipy]\n",
      "   -------------------------- ------------- 6/9 [scipy]\n",
      "   -------------------------- ------------- 6/9 [scipy]\n",
      "   -------------------------- ------------- 6/9 [scipy]\n",
      "   -------------------------- ------------- 6/9 [scipy]\n",
      "   -------------------------- ------------- 6/9 [scipy]\n",
      "   -------------------------- ------------- 6/9 [scipy]\n",
      "   -------------------------- ------------- 6/9 [scipy]\n",
      "   -------------------------- ------------- 6/9 [scipy]\n",
      "   -------------------------- ------------- 6/9 [scipy]\n",
      "   -------------------------- ------------- 6/9 [scipy]\n",
      "   -------------------------- ------------- 6/9 [scipy]\n",
      "   -------------------------- ------------- 6/9 [scipy]\n",
      "   -------------------------- ------------- 6/9 [scipy]\n",
      "   -------------------------- ------------- 6/9 [scipy]\n",
      "   -------------------------- ------------- 6/9 [scipy]\n",
      "   -------------------------- ------------- 6/9 [scipy]\n",
      "   -------------------------- ------------- 6/9 [scipy]\n",
      "   -------------------------- ------------- 6/9 [scipy]\n",
      "   -------------------------- ------------- 6/9 [scipy]\n",
      "   -------------------------- ------------- 6/9 [scipy]\n",
      "   -------------------------- ------------- 6/9 [scipy]\n",
      "   -------------------------- ------------- 6/9 [scipy]\n",
      "   -------------------------- ------------- 6/9 [scipy]\n",
      "   -------------------------- ------------- 6/9 [scipy]\n",
      "   -------------------------- ------------- 6/9 [scipy]\n",
      "   -------------------------- ------------- 6/9 [scipy]\n",
      "   -------------------------- ------------- 6/9 [scipy]\n",
      "   -------------------------- ------------- 6/9 [scipy]\n",
      "   -------------------------- ------------- 6/9 [scipy]\n",
      "   -------------------------- ------------- 6/9 [scipy]\n",
      "   ------------------------------- -------- 7/9 [scikit-learn]\n",
      "   ------------------------------- -------- 7/9 [scikit-learn]\n",
      "   ------------------------------- -------- 7/9 [scikit-learn]\n",
      "   ------------------------------- -------- 7/9 [scikit-learn]\n",
      "   ------------------------------- -------- 7/9 [scikit-learn]\n",
      "   ------------------------------- -------- 7/9 [scikit-learn]\n",
      "   ------------------------------- -------- 7/9 [scikit-learn]\n",
      "   ------------------------------- -------- 7/9 [scikit-learn]\n",
      "   ------------------------------- -------- 7/9 [scikit-learn]\n",
      "   ------------------------------- -------- 7/9 [scikit-learn]\n",
      "   ------------------------------- -------- 7/9 [scikit-learn]\n",
      "   ------------------------------- -------- 7/9 [scikit-learn]\n",
      "   ------------------------------- -------- 7/9 [scikit-learn]\n",
      "   ------------------------------- -------- 7/9 [scikit-learn]\n",
      "   ------------------------------- -------- 7/9 [scikit-learn]\n",
      "   ------------------------------- -------- 7/9 [scikit-learn]\n",
      "   ------------------------------- -------- 7/9 [scikit-learn]\n",
      "   ------------------------------- -------- 7/9 [scikit-learn]\n",
      "   ------------------------------- -------- 7/9 [scikit-learn]\n",
      "   ------------------------------- -------- 7/9 [scikit-learn]\n",
      "   ------------------------------- -------- 7/9 [scikit-learn]\n",
      "   ------------------------------- -------- 7/9 [scikit-learn]\n",
      "   ------------------------------- -------- 7/9 [scikit-learn]\n",
      "   ------------------------------- -------- 7/9 [scikit-learn]\n",
      "   ------------------------------- -------- 7/9 [scikit-learn]\n",
      "   ------------------------------- -------- 7/9 [scikit-learn]\n",
      "   ------------------------------- -------- 7/9 [scikit-learn]\n",
      "   ------------------------------- -------- 7/9 [scikit-learn]\n",
      "   ---------------------------------------- 9/9 [sklearn_crfsuite]\n",
      "\n",
      "Successfully installed joblib-1.5.1 numpy-2.3.1 python-crfsuite-0.9.11 scikit-learn-1.7.0 scipy-1.16.0 sklearn_crfsuite-0.5.0 tabulate-0.9.0 threadpoolctl-3.6.0 tqdm-4.67.1\n"
     ]
    }
   ],
   "source": [
    "# installation of sklearn_crfsuite\n",
    "!pip install sklearn_crfsuite==0.5.0"
   ]
  },
  {
   "cell_type": "markdown",
   "metadata": {
    "id": "svqZwrHT3rzV"
   },
   "source": [
    "#### **1.2** Import necessary libraries"
   ]
  },
  {
   "cell_type": "code",
   "execution_count": 2,
   "metadata": {
    "id": "v2zLbaB0w1ZH"
   },
   "outputs": [],
   "source": [
    "# Import warnings\n",
    "import warnings\n",
    "warnings.filterwarnings('ignore')"
   ]
  },
  {
   "cell_type": "code",
   "execution_count": 1,
   "metadata": {
    "id": "0hlp-Ln4WsaV"
   },
   "outputs": [],
   "source": [
    "# Import necessary libraries\n",
    "import json  # For handling JSON data\n",
    "import pandas as pd  # For data manipulation and analysis\n",
    "import re  # For regular expressions (useful for text preprocessing)\n",
    "import matplotlib.pyplot as plt  # For visualisation\n",
    "import seaborn as sns  # For advanced data visualisation\n",
    "import sklearn_crfsuite  # CRF (Conditional Random Fields) implementation for sequence modeling\n",
    "import numpy as np  # For numerical computations\n",
    "# Saving and loading machine learning models\n",
    "import joblib\n",
    "import random\n",
    "import spacy\n",
    "from IPython.display import display, Markdown # For displaying well-formatted output\n",
    "\n",
    "from fractions import Fraction  # For handling fractional values in numerical data\n",
    "# Importing tools for feature engineering and model training\n",
    "from collections import Counter  # For counting occurrences of elements in a list\n",
    "from sklearn.model_selection import train_test_split  # For splitting dataset into train and test sets\n",
    "from sklearn_crfsuite import metrics  # For evaluating CRF models\n",
    "from sklearn_crfsuite.metrics import flat_classification_report\n",
    "from sklearn.utils.class_weight import compute_class_weight\n",
    "from collections import Counter\n",
    "from sklearn.metrics import confusion_matrix"
   ]
  },
  {
   "cell_type": "code",
   "execution_count": 2,
   "metadata": {
    "id": "k3_LR6N_2cli"
   },
   "outputs": [],
   "source": [
    "# Ensure pandas displays full content\n",
    "pd.set_option('display.max_colwidth', None)\n",
    "pd.set_option('display.expand_frame_repr', False)"
   ]
  },
  {
   "cell_type": "markdown",
   "metadata": {
    "id": "fUOu_u0fyMfh"
   },
   "source": [
    "## **2** Data Ingestion and Preparation <font color = red>[25 marks]</font> <br>"
   ]
  },
  {
   "cell_type": "markdown",
   "metadata": {
    "id": "-ksMVNgeyiLN"
   },
   "source": [
    "#### **2.1** *Read Recipe Data from Dataframe and prepare the data for analysis* <font color = red>[12 marks]</font> <br>\n",
    "Read the data from JSON file, print first five rows and describe the dataframe"
   ]
  },
  {
   "cell_type": "markdown",
   "metadata": {
    "id": "kxn28jL3z4GY"
   },
   "source": [
    "##### **2.1.1** **Define a *load_json_dataframe* function** <font color = red>[7 marks]</font> <br>\n",
    "\n",
    "Define a function that takes path of the ingredient_and_quantity.json file and reads it, convert it into dataframe - df and return it."
   ]
  },
  {
   "cell_type": "code",
   "execution_count": 5,
   "metadata": {
    "id": "dq6UgUYcPyOL"
   },
   "outputs": [],
   "source": [
    "# define a function to load json file to a dataframe\n",
    "def load_json_dataframe(file_path):\n",
    "    \"\"\"\n",
    "    Load JSON data from file and convert to pandas DataFrame\n",
    "    \n",
    "    Args:\n",
    "        file_path (str): Path to the JSON file\n",
    "        \n",
    "    Returns:\n",
    "        pd.DataFrame: DataFrame containing the JSON data\n",
    "    \"\"\"\n",
    "    try:\n",
    "        with open(file_path, 'r', encoding='utf-8') as f:\n",
    "            data = json.load(f)\n",
    "        df = pd.DataFrame(data)\n",
    "        return df\n",
    "    except FileNotFoundError:\n",
    "        print(f\"Error: File {file_path} not found.\")\n",
    "        return None\n",
    "    except json.JSONDecodeError:\n",
    "        print(f\"Error: Invalid JSON format in {file_path}\")\n",
    "        return None\n",
    "    except Exception as e:\n",
    "        print(f\"Error loading file: {e}\")\n",
    "        return None\n"
   ]
  },
  {
   "cell_type": "markdown",
   "metadata": {
    "id": "1NlhkH_605IA"
   },
   "source": [
    "##### **2.1.2** **Execute the *load_json_dataframe* function** <font color = red>[2 marks]</font> <br>"
   ]
  },
  {
   "cell_type": "code",
   "execution_count": 6,
   "metadata": {
    "id": "UONMkMsrxdxB"
   },
   "outputs": [
    {
     "name": "stdout",
     "output_type": "stream",
     "text": [
      "Data loaded successfully!\n",
      "DataFrame shape: (285, 2)\n"
     ]
    }
   ],
   "source": [
    "# read the json file by giving the file path and create a dataframe\n",
    "file_path = \"ingredient_and_quantity.json\"\n",
    "df = load_json_dataframe(file_path)\n",
    "\n",
    "if df is not None:\n",
    "    print(f\"Data loaded successfully!\")\n",
    "    print(f\"DataFrame shape: {df.shape}\")\n",
    "else:\n",
    "    print(\"Failed to load data\")\n"
   ]
  },
  {
   "cell_type": "markdown",
   "metadata": {
    "id": "_1VkDbev3UHP"
   },
   "source": [
    "##### **2.1.3** **Describe the dataframe** <font color = red>[3 marks]</font> <br>\n",
    "\n",
    "Print first five rows of dataframe along with dimensions. Display the information of dataframe"
   ]
  },
  {
   "cell_type": "code",
   "execution_count": 5,
   "metadata": {
    "id": "yZFj2skZxgpl"
   },
   "outputs": [
    {
     "name": "stdout",
     "output_type": "stream",
     "text": [
      "First 5 rows of the dataset:\n",
      "==================================================\n"
     ]
    },
    {
     "data": {
      "text/html": [
       "<div>\n",
       "<style scoped>\n",
       "    .dataframe tbody tr th:only-of-type {\n",
       "        vertical-align: middle;\n",
       "    }\n",
       "\n",
       "    .dataframe tbody tr th {\n",
       "        vertical-align: top;\n",
       "    }\n",
       "\n",
       "    .dataframe thead th {\n",
       "        text-align: right;\n",
       "    }\n",
       "</style>\n",
       "<table border=\"1\" class=\"dataframe\">\n",
       "  <thead>\n",
       "    <tr style=\"text-align: right;\">\n",
       "      <th></th>\n",
       "      <th>input</th>\n",
       "      <th>pos</th>\n",
       "    </tr>\n",
       "  </thead>\n",
       "  <tbody>\n",
       "    <tr>\n",
       "      <th>0</th>\n",
       "      <td>6 Karela Bitter Gourd Pavakkai Salt 1 Onion 3 tablespoon Gram flour besan 2 teaspoons Turmeric powder Haldi Red Chilli Cumin seeds Jeera Coriander Powder Dhania Amchur Dry Mango Sunflower Oil</td>\n",
       "      <td>quantity ingredient ingredient ingredient ingredient ingredient quantity ingredient quantity unit ingredient ingredient ingredient quantity unit ingredient ingredient ingredient ingredient ingredient ingredient ingredient ingredient ingredient ingredient ingredient ingredient ingredient ingredient ingredient ingredient</td>\n",
       "    </tr>\n",
       "    <tr>\n",
       "      <th>1</th>\n",
       "      <td>2-1/2 cups rice cooked 3 tomatoes teaspoons BC Belle Bhat powder 1 teaspoon chickpea lentils 1/2 cumin seeds white urad dal mustard green chilli dry red 2 cashew or peanuts 1-1/2 tablespoon oil asafoetida</td>\n",
       "      <td>quantity unit ingredient ingredient quantity ingredient unit ingredient ingredient ingredient ingredient quantity unit ingredient ingredient quantity ingredient ingredient ingredient ingredient ingredient ingredient ingredient ingredient ingredient ingredient quantity ingredient ingredient ingredient quantity unit ingredient ingredient</td>\n",
       "    </tr>\n",
       "    <tr>\n",
       "      <th>2</th>\n",
       "      <td>1-1/2 cups Rice Vermicelli Noodles Thin 1 Onion sliced 1/2 cup Carrots Gajjar chopped 1/3 Green peas Matar 2 Chillies 1/4 teaspoon Asafoetida hing Mustard seeds White Urad Dal Split Ghee sprig Curry leaves Salt Lemon juice</td>\n",
       "      <td>quantity unit ingredient ingredient ingredient ingredient quantity ingredient ingredient quantity unit ingredient ingredient ingredient quantity ingredient ingredient ingredient quantity ingredient quantity unit ingredient ingredient ingredient ingredient ingredient ingredient ingredient ingredient ingredient unit ingredient ingredient ingredient ingredient ingredient</td>\n",
       "    </tr>\n",
       "    <tr>\n",
       "      <th>3</th>\n",
       "      <td>500 grams Chicken 2 Onion chopped 1 Tomato 4 Green Chillies slit inch Ginger finely 6 cloves Garlic 1/2 teaspoon Turmeric powder Haldi Garam masala tablespoon Sesame Gingelly Oil 1/4 Methi Seeds Fenugreek Coriander Dhania Dry Red Fennel seeds Saunf cups Sorrel Leaves Gongura picked and</td>\n",
       "      <td>quantity unit ingredient quantity ingredient ingredient quantity ingredient quantity ingredient ingredient ingredient unit ingredient ingredient quantity unit ingredient quantity unit ingredient ingredient ingredient ingredient ingredient unit ingredient ingredient ingredient quantity ingredient ingredient ingredient ingredient ingredient ingredient ingredient ingredient ingredient ingredient unit ingredient ingredient ingredient ingredient ingredient</td>\n",
       "    </tr>\n",
       "    <tr>\n",
       "      <th>4</th>\n",
       "      <td>1 tablespoon chana dal white urad 2 red chillies coriander seeds 3 inches ginger onion tomato Teaspoon mustard asafoetida sprig curry</td>\n",
       "      <td>quantity unit ingredient ingredient ingredient ingredient quantity ingredient ingredient ingredient ingredient quantity unit ingredient ingredient ingredient unit ingredient ingredient unit ingredient</td>\n",
       "    </tr>\n",
       "  </tbody>\n",
       "</table>\n",
       "</div>"
      ],
      "text/plain": [
       "                                                                                                                                                                                                                                                                                            input                                                                                                                                                                                                                                                                                                                                                                                                                                                                      pos\n",
       "0                                                                                                 6 Karela Bitter Gourd Pavakkai Salt 1 Onion 3 tablespoon Gram flour besan 2 teaspoons Turmeric powder Haldi Red Chilli Cumin seeds Jeera Coriander Powder Dhania Amchur Dry Mango Sunflower Oil                                                                                                                                         quantity ingredient ingredient ingredient ingredient ingredient quantity ingredient quantity unit ingredient ingredient ingredient quantity unit ingredient ingredient ingredient ingredient ingredient ingredient ingredient ingredient ingredient ingredient ingredient ingredient ingredient ingredient ingredient ingredient\n",
       "1                                                                                    2-1/2 cups rice cooked 3 tomatoes teaspoons BC Belle Bhat powder 1 teaspoon chickpea lentils 1/2 cumin seeds white urad dal mustard green chilli dry red 2 cashew or peanuts 1-1/2 tablespoon oil asafoetida                                                                                                                        quantity unit ingredient ingredient quantity ingredient unit ingredient ingredient ingredient ingredient quantity unit ingredient ingredient quantity ingredient ingredient ingredient ingredient ingredient ingredient ingredient ingredient ingredient ingredient quantity ingredient ingredient ingredient quantity unit ingredient ingredient\n",
       "2                                                                  1-1/2 cups Rice Vermicelli Noodles Thin 1 Onion sliced 1/2 cup Carrots Gajjar chopped 1/3 Green peas Matar 2 Chillies 1/4 teaspoon Asafoetida hing Mustard seeds White Urad Dal Split Ghee sprig Curry leaves Salt Lemon juice                                                                                       quantity unit ingredient ingredient ingredient ingredient quantity ingredient ingredient quantity unit ingredient ingredient ingredient quantity ingredient ingredient ingredient quantity ingredient quantity unit ingredient ingredient ingredient ingredient ingredient ingredient ingredient ingredient ingredient unit ingredient ingredient ingredient ingredient ingredient\n",
       "3  500 grams Chicken 2 Onion chopped 1 Tomato 4 Green Chillies slit inch Ginger finely 6 cloves Garlic 1/2 teaspoon Turmeric powder Haldi Garam masala tablespoon Sesame Gingelly Oil 1/4 Methi Seeds Fenugreek Coriander Dhania Dry Red Fennel seeds Saunf cups Sorrel Leaves Gongura picked and  quantity unit ingredient quantity ingredient ingredient quantity ingredient quantity ingredient ingredient ingredient unit ingredient ingredient quantity unit ingredient quantity unit ingredient ingredient ingredient ingredient ingredient unit ingredient ingredient ingredient quantity ingredient ingredient ingredient ingredient ingredient ingredient ingredient ingredient ingredient ingredient unit ingredient ingredient ingredient ingredient ingredient\n",
       "4                                                                                                                                                           1 tablespoon chana dal white urad 2 red chillies coriander seeds 3 inches ginger onion tomato Teaspoon mustard asafoetida sprig curry                                                                                                                                                                                                                                                                 quantity unit ingredient ingredient ingredient ingredient quantity ingredient ingredient ingredient ingredient quantity unit ingredient ingredient ingredient unit ingredient ingredient unit ingredient"
      ]
     },
     "execution_count": 5,
     "metadata": {},
     "output_type": "execute_result"
    }
   ],
   "source": [
    "# display first five rows of the dataframe - df\n",
    "print(\"First 5 rows of the dataset:\")\n",
    "print(\"=\"*50)\n",
    "df.head()\n"
   ]
  },
  {
   "cell_type": "code",
   "execution_count": 6,
   "metadata": {
    "id": "Y7cA28XSx1I1"
   },
   "outputs": [
    {
     "name": "stdout",
     "output_type": "stream",
     "text": [
      "DataFrame dimensions: (285, 2)\n",
      "Number of rows: 285\n",
      "Number of columns: 2\n",
      "Column names: ['input', 'pos']\n"
     ]
    }
   ],
   "source": [
    "# print the dimensions of dataframe - df\n",
    "print(f\"DataFrame dimensions: {df.shape}\")\n",
    "print(f\"Number of rows: {df.shape[0]}\")\n",
    "print(f\"Number of columns: {df.shape[1]}\")\n",
    "print(f\"Column names: {list(df.columns)}\")\n"
   ]
  },
  {
   "cell_type": "code",
   "execution_count": 7,
   "metadata": {
    "id": "Q-gsbEhJx2rm"
   },
   "outputs": [
    {
     "name": "stdout",
     "output_type": "stream",
     "text": [
      "DataFrame Info:\n",
      "==============================\n",
      "<class 'pandas.core.frame.DataFrame'>\n",
      "RangeIndex: 285 entries, 0 to 284\n",
      "Data columns (total 2 columns):\n",
      " #   Column  Non-Null Count  Dtype \n",
      "---  ------  --------------  ----- \n",
      " 0   input   285 non-null    object\n",
      " 1   pos     285 non-null    object\n",
      "dtypes: object(2)\n",
      "memory usage: 4.6+ KB\n",
      "\n",
      "==============================\n",
      "DataFrame Description:\n",
      "==============================\n"
     ]
    },
    {
     "data": {
      "text/html": [
       "<div>\n",
       "<style scoped>\n",
       "    .dataframe tbody tr th:only-of-type {\n",
       "        vertical-align: middle;\n",
       "    }\n",
       "\n",
       "    .dataframe tbody tr th {\n",
       "        vertical-align: top;\n",
       "    }\n",
       "\n",
       "    .dataframe thead th {\n",
       "        text-align: right;\n",
       "    }\n",
       "</style>\n",
       "<table border=\"1\" class=\"dataframe\">\n",
       "  <thead>\n",
       "    <tr style=\"text-align: right;\">\n",
       "      <th></th>\n",
       "      <th>input</th>\n",
       "      <th>pos</th>\n",
       "    </tr>\n",
       "  </thead>\n",
       "  <tbody>\n",
       "    <tr>\n",
       "      <th>count</th>\n",
       "      <td>285</td>\n",
       "      <td>285</td>\n",
       "    </tr>\n",
       "    <tr>\n",
       "      <th>unique</th>\n",
       "      <td>285</td>\n",
       "      <td>284</td>\n",
       "    </tr>\n",
       "    <tr>\n",
       "      <th>top</th>\n",
       "      <td>6 Karela Bitter Gourd Pavakkai Salt 1 Onion 3 tablespoon Gram flour besan 2 teaspoons Turmeric powder Haldi Red Chilli Cumin seeds Jeera Coriander Powder Dhania Amchur Dry Mango Sunflower Oil</td>\n",
       "      <td>quantity ingredient ingredient ingredient ingredient quantity unit ingredient quantity unit ingredient ingredient ingredient quantity ingredient ingredient ingredient ingredient ingredient ingredient ingredient ingredient</td>\n",
       "    </tr>\n",
       "    <tr>\n",
       "      <th>freq</th>\n",
       "      <td>1</td>\n",
       "      <td>2</td>\n",
       "    </tr>\n",
       "  </tbody>\n",
       "</table>\n",
       "</div>"
      ],
      "text/plain": [
       "                                                                                                                                                                                                  input                                                                                                                                                                                                                            pos\n",
       "count                                                                                                                                                                                               285                                                                                                                                                                                                                            285\n",
       "unique                                                                                                                                                                                              285                                                                                                                                                                                                                            284\n",
       "top     6 Karela Bitter Gourd Pavakkai Salt 1 Onion 3 tablespoon Gram flour besan 2 teaspoons Turmeric powder Haldi Red Chilli Cumin seeds Jeera Coriander Powder Dhania Amchur Dry Mango Sunflower Oil  quantity ingredient ingredient ingredient ingredient quantity unit ingredient quantity unit ingredient ingredient ingredient quantity ingredient ingredient ingredient ingredient ingredient ingredient ingredient ingredient\n",
       "freq                                                                                                                                                                                                  1                                                                                                                                                                                                                              2"
      ]
     },
     "execution_count": 7,
     "metadata": {},
     "output_type": "execute_result"
    }
   ],
   "source": [
    "# print the information of the dataframe\n",
    "print(\"DataFrame Info:\")\n",
    "print(\"=\"*30)\n",
    "df.info()\n",
    "print(\"\\n\" + \"=\"*30)\n",
    "print(\"DataFrame Description:\")\n",
    "print(\"=\"*30)\n",
    "df.describe(include='all')\n"
   ]
  },
  {
   "cell_type": "markdown",
   "metadata": {
    "id": "1y18LwoqyFpk"
   },
   "source": [
    "#### **2.2** *Recipe Data Manipulation* <font color = red>[13 marks]</font> <br>\n",
    "Create derived metrics in dataframe and provide insights of the dataframe"
   ]
  },
  {
   "cell_type": "markdown",
   "metadata": {
    "id": "bhNG_XC1r4Qw"
   },
   "source": [
    "##### **2.2.1** **Create input_tokens and pos_tokens columns by splitting the input and pos from the dataframe** <font color = red>[3 marks]</font> <br>\n",
    "Split the input and pos into input_tokens and pos_tokens in the dataframe and display it in the dataframe"
   ]
  },
  {
   "cell_type": "code",
   "execution_count": 7,
   "metadata": {
    "id": "nma6uJwmXUas"
   },
   "outputs": [
    {
     "name": "stdout",
     "output_type": "stream",
     "text": [
      "Tokenization completed!\n",
      "Added columns: input_tokens, pos_tokens\n"
     ]
    }
   ],
   "source": [
    "# split the input and pos into input_tokens and pos_tokens in the dataframe\n",
    "\n",
    "# Tokenize input\n",
    "df['input_tokens'] = df['input'].apply(lambda x: x.split())\n",
    "\n",
    "# Tokenize POS\n",
    "df['pos_tokens'] = df['pos'].apply(lambda x: x.split())\n",
    "\n",
    "print(\"Tokenization completed!\")\n",
    "print(f\"Added columns: input_tokens, pos_tokens\")"
   ]
  },
  {
   "cell_type": "code",
   "execution_count": 9,
   "metadata": {
    "id": "9g-ajvFBzaaf"
   },
   "outputs": [
    {
     "name": "stdout",
     "output_type": "stream",
     "text": [
      "First 5 rows with tokenized columns:\n",
      "==================================================\n"
     ]
    },
    {
     "data": {
      "text/html": [
       "<div>\n",
       "<style scoped>\n",
       "    .dataframe tbody tr th:only-of-type {\n",
       "        vertical-align: middle;\n",
       "    }\n",
       "\n",
       "    .dataframe tbody tr th {\n",
       "        vertical-align: top;\n",
       "    }\n",
       "\n",
       "    .dataframe thead th {\n",
       "        text-align: right;\n",
       "    }\n",
       "</style>\n",
       "<table border=\"1\" class=\"dataframe\">\n",
       "  <thead>\n",
       "    <tr style=\"text-align: right;\">\n",
       "      <th></th>\n",
       "      <th>input</th>\n",
       "      <th>pos</th>\n",
       "      <th>input_tokens</th>\n",
       "      <th>pos_tokens</th>\n",
       "    </tr>\n",
       "  </thead>\n",
       "  <tbody>\n",
       "    <tr>\n",
       "      <th>0</th>\n",
       "      <td>6 Karela Bitter Gourd Pavakkai Salt 1 Onion 3 tablespoon Gram flour besan 2 teaspoons Turmeric powder Haldi Red Chilli Cumin seeds Jeera Coriander Powder Dhania Amchur Dry Mango Sunflower Oil</td>\n",
       "      <td>quantity ingredient ingredient ingredient ingredient ingredient quantity ingredient quantity unit ingredient ingredient ingredient quantity unit ingredient ingredient ingredient ingredient ingredient ingredient ingredient ingredient ingredient ingredient ingredient ingredient ingredient ingredient ingredient ingredient</td>\n",
       "      <td>[6, Karela, Bitter, Gourd, Pavakkai, Salt, 1, Onion, 3, tablespoon, Gram, flour, besan, 2, teaspoons, Turmeric, powder, Haldi, Red, Chilli, Cumin, seeds, Jeera, Coriander, Powder, Dhania, Amchur, Dry, Mango, Sunflower, Oil]</td>\n",
       "      <td>[quantity, ingredient, ingredient, ingredient, ingredient, ingredient, quantity, ingredient, quantity, unit, ingredient, ingredient, ingredient, quantity, unit, ingredient, ingredient, ingredient, ingredient, ingredient, ingredient, ingredient, ingredient, ingredient, ingredient, ingredient, ingredient, ingredient, ingredient, ingredient, ingredient]</td>\n",
       "    </tr>\n",
       "    <tr>\n",
       "      <th>1</th>\n",
       "      <td>2-1/2 cups rice cooked 3 tomatoes teaspoons BC Belle Bhat powder 1 teaspoon chickpea lentils 1/2 cumin seeds white urad dal mustard green chilli dry red 2 cashew or peanuts 1-1/2 tablespoon oil asafoetida</td>\n",
       "      <td>quantity unit ingredient ingredient quantity ingredient unit ingredient ingredient ingredient ingredient quantity unit ingredient ingredient quantity ingredient ingredient ingredient ingredient ingredient ingredient ingredient ingredient ingredient ingredient quantity ingredient ingredient ingredient quantity unit ingredient ingredient</td>\n",
       "      <td>[2-1/2, cups, rice, cooked, 3, tomatoes, teaspoons, BC, Belle, Bhat, powder, 1, teaspoon, chickpea, lentils, 1/2, cumin, seeds, white, urad, dal, mustard, green, chilli, dry, red, 2, cashew, or, peanuts, 1-1/2, tablespoon, oil, asafoetida]</td>\n",
       "      <td>[quantity, unit, ingredient, ingredient, quantity, ingredient, unit, ingredient, ingredient, ingredient, ingredient, quantity, unit, ingredient, ingredient, quantity, ingredient, ingredient, ingredient, ingredient, ingredient, ingredient, ingredient, ingredient, ingredient, ingredient, quantity, ingredient, ingredient, ingredient, quantity, unit, ingredient, ingredient]</td>\n",
       "    </tr>\n",
       "    <tr>\n",
       "      <th>2</th>\n",
       "      <td>1-1/2 cups Rice Vermicelli Noodles Thin 1 Onion sliced 1/2 cup Carrots Gajjar chopped 1/3 Green peas Matar 2 Chillies 1/4 teaspoon Asafoetida hing Mustard seeds White Urad Dal Split Ghee sprig Curry leaves Salt Lemon juice</td>\n",
       "      <td>quantity unit ingredient ingredient ingredient ingredient quantity ingredient ingredient quantity unit ingredient ingredient ingredient quantity ingredient ingredient ingredient quantity ingredient quantity unit ingredient ingredient ingredient ingredient ingredient ingredient ingredient ingredient ingredient unit ingredient ingredient ingredient ingredient ingredient</td>\n",
       "      <td>[1-1/2, cups, Rice, Vermicelli, Noodles, Thin, 1, Onion, sliced, 1/2, cup, Carrots, Gajjar, chopped, 1/3, Green, peas, Matar, 2, Chillies, 1/4, teaspoon, Asafoetida, hing, Mustard, seeds, White, Urad, Dal, Split, Ghee, sprig, Curry, leaves, Salt, Lemon, juice]</td>\n",
       "      <td>[quantity, unit, ingredient, ingredient, ingredient, ingredient, quantity, ingredient, ingredient, quantity, unit, ingredient, ingredient, ingredient, quantity, ingredient, ingredient, ingredient, quantity, ingredient, quantity, unit, ingredient, ingredient, ingredient, ingredient, ingredient, ingredient, ingredient, ingredient, ingredient, unit, ingredient, ingredient, ingredient, ingredient, ingredient]</td>\n",
       "    </tr>\n",
       "    <tr>\n",
       "      <th>3</th>\n",
       "      <td>500 grams Chicken 2 Onion chopped 1 Tomato 4 Green Chillies slit inch Ginger finely 6 cloves Garlic 1/2 teaspoon Turmeric powder Haldi Garam masala tablespoon Sesame Gingelly Oil 1/4 Methi Seeds Fenugreek Coriander Dhania Dry Red Fennel seeds Saunf cups Sorrel Leaves Gongura picked and</td>\n",
       "      <td>quantity unit ingredient quantity ingredient ingredient quantity ingredient quantity ingredient ingredient ingredient unit ingredient ingredient quantity unit ingredient quantity unit ingredient ingredient ingredient ingredient ingredient unit ingredient ingredient ingredient quantity ingredient ingredient ingredient ingredient ingredient ingredient ingredient ingredient ingredient ingredient unit ingredient ingredient ingredient ingredient ingredient</td>\n",
       "      <td>[500, grams, Chicken, 2, Onion, chopped, 1, Tomato, 4, Green, Chillies, slit, inch, Ginger, finely, 6, cloves, Garlic, 1/2, teaspoon, Turmeric, powder, Haldi, Garam, masala, tablespoon, Sesame, Gingelly, Oil, 1/4, Methi, Seeds, Fenugreek, Coriander, Dhania, Dry, Red, Fennel, seeds, Saunf, cups, Sorrel, Leaves, Gongura, picked, and]</td>\n",
       "      <td>[quantity, unit, ingredient, quantity, ingredient, ingredient, quantity, ingredient, quantity, ingredient, ingredient, ingredient, unit, ingredient, ingredient, quantity, unit, ingredient, quantity, unit, ingredient, ingredient, ingredient, ingredient, ingredient, unit, ingredient, ingredient, ingredient, quantity, ingredient, ingredient, ingredient, ingredient, ingredient, ingredient, ingredient, ingredient, ingredient, ingredient, unit, ingredient, ingredient, ingredient, ingredient, ingredient]</td>\n",
       "    </tr>\n",
       "    <tr>\n",
       "      <th>4</th>\n",
       "      <td>1 tablespoon chana dal white urad 2 red chillies coriander seeds 3 inches ginger onion tomato Teaspoon mustard asafoetida sprig curry</td>\n",
       "      <td>quantity unit ingredient ingredient ingredient ingredient quantity ingredient ingredient ingredient ingredient quantity unit ingredient ingredient ingredient unit ingredient ingredient unit ingredient</td>\n",
       "      <td>[1, tablespoon, chana, dal, white, urad, 2, red, chillies, coriander, seeds, 3, inches, ginger, onion, tomato, Teaspoon, mustard, asafoetida, sprig, curry]</td>\n",
       "      <td>[quantity, unit, ingredient, ingredient, ingredient, ingredient, quantity, ingredient, ingredient, ingredient, ingredient, quantity, unit, ingredient, ingredient, ingredient, unit, ingredient, ingredient, unit, ingredient]</td>\n",
       "    </tr>\n",
       "  </tbody>\n",
       "</table>\n",
       "</div>"
      ],
      "text/plain": [
       "                                                                                                                                                                                                                                                                                            input                                                                                                                                                                                                                                                                                                                                                                                                                                                                      pos                                                                                                                                                                                                                                                                                                                                   input_tokens                                                                                                                                                                                                                                                                                                                                                                                                                                                                                                              pos_tokens\n",
       "0                                                                                                 6 Karela Bitter Gourd Pavakkai Salt 1 Onion 3 tablespoon Gram flour besan 2 teaspoons Turmeric powder Haldi Red Chilli Cumin seeds Jeera Coriander Powder Dhania Amchur Dry Mango Sunflower Oil                                                                                                                                         quantity ingredient ingredient ingredient ingredient ingredient quantity ingredient quantity unit ingredient ingredient ingredient quantity unit ingredient ingredient ingredient ingredient ingredient ingredient ingredient ingredient ingredient ingredient ingredient ingredient ingredient ingredient ingredient ingredient                                                                                                                [6, Karela, Bitter, Gourd, Pavakkai, Salt, 1, Onion, 3, tablespoon, Gram, flour, besan, 2, teaspoons, Turmeric, powder, Haldi, Red, Chilli, Cumin, seeds, Jeera, Coriander, Powder, Dhania, Amchur, Dry, Mango, Sunflower, Oil]                                                                                                                                                        [quantity, ingredient, ingredient, ingredient, ingredient, ingredient, quantity, ingredient, quantity, unit, ingredient, ingredient, ingredient, quantity, unit, ingredient, ingredient, ingredient, ingredient, ingredient, ingredient, ingredient, ingredient, ingredient, ingredient, ingredient, ingredient, ingredient, ingredient, ingredient, ingredient]\n",
       "1                                                                                    2-1/2 cups rice cooked 3 tomatoes teaspoons BC Belle Bhat powder 1 teaspoon chickpea lentils 1/2 cumin seeds white urad dal mustard green chilli dry red 2 cashew or peanuts 1-1/2 tablespoon oil asafoetida                                                                                                                        quantity unit ingredient ingredient quantity ingredient unit ingredient ingredient ingredient ingredient quantity unit ingredient ingredient quantity ingredient ingredient ingredient ingredient ingredient ingredient ingredient ingredient ingredient ingredient quantity ingredient ingredient ingredient quantity unit ingredient ingredient                                                                                                [2-1/2, cups, rice, cooked, 3, tomatoes, teaspoons, BC, Belle, Bhat, powder, 1, teaspoon, chickpea, lentils, 1/2, cumin, seeds, white, urad, dal, mustard, green, chilli, dry, red, 2, cashew, or, peanuts, 1-1/2, tablespoon, oil, asafoetida]                                                                                                                                    [quantity, unit, ingredient, ingredient, quantity, ingredient, unit, ingredient, ingredient, ingredient, ingredient, quantity, unit, ingredient, ingredient, quantity, ingredient, ingredient, ingredient, ingredient, ingredient, ingredient, ingredient, ingredient, ingredient, ingredient, quantity, ingredient, ingredient, ingredient, quantity, unit, ingredient, ingredient]\n",
       "2                                                                  1-1/2 cups Rice Vermicelli Noodles Thin 1 Onion sliced 1/2 cup Carrots Gajjar chopped 1/3 Green peas Matar 2 Chillies 1/4 teaspoon Asafoetida hing Mustard seeds White Urad Dal Split Ghee sprig Curry leaves Salt Lemon juice                                                                                       quantity unit ingredient ingredient ingredient ingredient quantity ingredient ingredient quantity unit ingredient ingredient ingredient quantity ingredient ingredient ingredient quantity ingredient quantity unit ingredient ingredient ingredient ingredient ingredient ingredient ingredient ingredient ingredient unit ingredient ingredient ingredient ingredient ingredient                                                                           [1-1/2, cups, Rice, Vermicelli, Noodles, Thin, 1, Onion, sliced, 1/2, cup, Carrots, Gajjar, chopped, 1/3, Green, peas, Matar, 2, Chillies, 1/4, teaspoon, Asafoetida, hing, Mustard, seeds, White, Urad, Dal, Split, Ghee, sprig, Curry, leaves, Salt, Lemon, juice]                                                                                                [quantity, unit, ingredient, ingredient, ingredient, ingredient, quantity, ingredient, ingredient, quantity, unit, ingredient, ingredient, ingredient, quantity, ingredient, ingredient, ingredient, quantity, ingredient, quantity, unit, ingredient, ingredient, ingredient, ingredient, ingredient, ingredient, ingredient, ingredient, ingredient, unit, ingredient, ingredient, ingredient, ingredient, ingredient]\n",
       "3  500 grams Chicken 2 Onion chopped 1 Tomato 4 Green Chillies slit inch Ginger finely 6 cloves Garlic 1/2 teaspoon Turmeric powder Haldi Garam masala tablespoon Sesame Gingelly Oil 1/4 Methi Seeds Fenugreek Coriander Dhania Dry Red Fennel seeds Saunf cups Sorrel Leaves Gongura picked and  quantity unit ingredient quantity ingredient ingredient quantity ingredient quantity ingredient ingredient ingredient unit ingredient ingredient quantity unit ingredient quantity unit ingredient ingredient ingredient ingredient ingredient unit ingredient ingredient ingredient quantity ingredient ingredient ingredient ingredient ingredient ingredient ingredient ingredient ingredient ingredient unit ingredient ingredient ingredient ingredient ingredient  [500, grams, Chicken, 2, Onion, chopped, 1, Tomato, 4, Green, Chillies, slit, inch, Ginger, finely, 6, cloves, Garlic, 1/2, teaspoon, Turmeric, powder, Haldi, Garam, masala, tablespoon, Sesame, Gingelly, Oil, 1/4, Methi, Seeds, Fenugreek, Coriander, Dhania, Dry, Red, Fennel, seeds, Saunf, cups, Sorrel, Leaves, Gongura, picked, and]  [quantity, unit, ingredient, quantity, ingredient, ingredient, quantity, ingredient, quantity, ingredient, ingredient, ingredient, unit, ingredient, ingredient, quantity, unit, ingredient, quantity, unit, ingredient, ingredient, ingredient, ingredient, ingredient, unit, ingredient, ingredient, ingredient, quantity, ingredient, ingredient, ingredient, ingredient, ingredient, ingredient, ingredient, ingredient, ingredient, ingredient, unit, ingredient, ingredient, ingredient, ingredient, ingredient]\n",
       "4                                                                                                                                                           1 tablespoon chana dal white urad 2 red chillies coriander seeds 3 inches ginger onion tomato Teaspoon mustard asafoetida sprig curry                                                                                                                                                                                                                                                                 quantity unit ingredient ingredient ingredient ingredient quantity ingredient ingredient ingredient ingredient quantity unit ingredient ingredient ingredient unit ingredient ingredient unit ingredient                                                                                                                                                                                    [1, tablespoon, chana, dal, white, urad, 2, red, chillies, coriander, seeds, 3, inches, ginger, onion, tomato, Teaspoon, mustard, asafoetida, sprig, curry]                                                                                                                                                                                                                                                                                          [quantity, unit, ingredient, ingredient, ingredient, ingredient, quantity, ingredient, ingredient, ingredient, ingredient, quantity, unit, ingredient, ingredient, ingredient, unit, ingredient, ingredient, unit, ingredient]"
      ]
     },
     "execution_count": 9,
     "metadata": {},
     "output_type": "execute_result"
    }
   ],
   "source": [
    "# display first five rows of the dataframe - df\n",
    "print(\"First 5 rows with tokenized columns:\")\n",
    "print(\"=\"*50)\n",
    "df.head()\n"
   ]
  },
  {
   "cell_type": "markdown",
   "metadata": {
    "id": "-JtvsBYur-oV"
   },
   "source": [
    "##### **2.2.2** **Provide the length for input_tokens and pos_tokens and validate their length** <font color = red>[2 marks]</font> <br>\n",
    "\n",
    "Create input_length and pos_length columns in the dataframe and validate both the lengths. Check for the rows that are unequal in input and pos length\n"
   ]
  },
  {
   "cell_type": "code",
   "execution_count": 8,
   "metadata": {
    "id": "GeVRD2IK1Jrg"
   },
   "outputs": [
    {
     "name": "stdout",
     "output_type": "stream",
     "text": [
      "Length columns created!\n",
      "Added columns: input_length, pos_length\n",
      "\n",
      "Sample lengths:\n",
      "   input_length  pos_length\n",
      "0            31          31\n",
      "1            34          34\n",
      "2            37          37\n",
      "3            46          46\n",
      "4            21          21\n"
     ]
    }
   ],
   "source": [
    "# create input_length and pos_length columns for the input_tokens and pos-tokens\n",
    "df['input_length'] = df['input_tokens'].apply(len)\n",
    "df['pos_length'] = df['pos_tokens'].apply(len)\n",
    "\n",
    "print(\"Length columns created!\")\n",
    "print(f\"Added columns: input_length, pos_length\")\n",
    "print(f\"\\nSample lengths:\")\n",
    "print(df[['input_length', 'pos_length']].head())\n"
   ]
  },
  {
   "cell_type": "code",
   "execution_count": 11,
   "metadata": {
    "id": "BPMOlLnz1P1H"
   },
   "outputs": [
    {
     "name": "stdout",
     "output_type": "stream",
     "text": [
      "Number of rows with mismatched lengths: 5\n",
      "\n",
      "Rows with mismatched lengths:\n",
      "==================================================\n",
      "Index 17: input_length=15, pos_length=14\n",
      "Input: 2 cups curd 1 cup gourd cucumber green cor coriander 1/2 teaspoon cumin powder salt...\n",
      "POS: quantity unit ingredient quantity unit ingredient ingredient ingredient ingredient quantity unit ing...\n",
      "------------------------------\n",
      "Index 27: input_length=37, pos_length=36\n",
      "Input: 1 Baguette sliced 1 1/2 tablespoon Butter 1/2 Garlic minced cup Spinach Leaves Palak Red Bell pepper...\n",
      "POS: quantity ingredient ingredient quantity unit ingredient quantity ingredient ingredient unit ingredie...\n",
      "------------------------------\n",
      "Index 79: input_length=38, pos_length=37\n",
      "Input: 1/2 cup Poha Flattened rice 2 tablespoons Rice flour 2 1/2 liter Milk 1 Nolen Gur or brown sugar Car...\n",
      "POS: quantity unit ingredient ingredient ingredient quantity unit ingredient ingredient quantity unit ing...\n",
      "------------------------------\n",
      "Index 164: input_length=54, pos_length=53\n",
      "Input: 1/2 cup All Purpose Flour Maida Whole Wheat 1/4 Hung Curd Greek Yogurt 250 grams Chicken minced 1 Sp...\n",
      "POS: quantity unit ingredient ingredient ingredient ingredient ingredient ingredient quantity ingredient ...\n",
      "------------------------------\n",
      "Index 207: input_length=18, pos_length=17\n",
      "Input: 1 cup Cashew nuts Badam Almond 1 1/4 cups Sugar 1/2 Water teaspoon Cardamom Powder Ghee for greasing...\n",
      "POS: quantity unit ingredient ingredient ingredient ingredient quantity unit ingredient quantity ingredie...\n",
      "------------------------------\n"
     ]
    }
   ],
   "source": [
    "# check for the equality of input_length and pos_length in the dataframe\n",
    "length_mismatch = df[df['input_length'] != df['pos_length']]\n",
    "print(f\"Number of rows with mismatched lengths: {len(length_mismatch)}\")\n",
    "\n",
    "if len(length_mismatch) > 0:\n",
    "    print(\"\\nRows with mismatched lengths:\")\n",
    "    print(\"=\"*50)\n",
    "    for idx, row in length_mismatch.iterrows():\n",
    "        print(f\"Index {idx}: input_length={row['input_length']}, pos_length={row['pos_length']}\")\n",
    "        print(f\"Input: {row['input'][:100]}...\")\n",
    "        print(f\"POS: {row['pos'][:100]}...\")\n",
    "        print(\"-\" * 30)\n",
    "else:\n",
    "    print(\"All rows have matching input and pos lengths!\")\n"
   ]
  },
  {
   "cell_type": "markdown",
   "metadata": {
    "id": "dpJQu3JE_P7Z"
   },
   "source": [
    "##### **2.2.3** **Define a unique_labels function and validate the labels in pos_tokens** <font color = red>[2 marks]</font> <br>\n",
    "\n",
    "Define a unique_labels function which checks for all the unique pos labels in the recipe & execute it.\n"
   ]
  },
  {
   "cell_type": "code",
   "execution_count": 12,
   "metadata": {
    "id": "-4aMFCxXO_GJ"
   },
   "outputs": [
    {
     "name": "stdout",
     "output_type": "stream",
     "text": [
      "Total unique labels found: 3\n",
      "Unique labels: ['ingredient', 'quantity', 'unit']\n",
      "\n",
      "Label frequencies:\n",
      "ingredient: 7543\n",
      "quantity: 1414\n",
      "unit: 1190\n"
     ]
    }
   ],
   "source": [
    "# Define a unique_labels function to checks for all the unique pos labels in the recipe & print it\n",
    "def unique_labels(dataframe):\n",
    "    \"\"\"\n",
    "    Extract and display all unique POS labels from the dataset\n",
    "    \n",
    "    Args:\n",
    "        dataframe: DataFrame containing pos_tokens column\n",
    "        \n",
    "    Returns:\n",
    "        set: Set of unique labels\n",
    "    \"\"\"\n",
    "    all_labels = set()\n",
    "    for pos_list in dataframe['pos_tokens']:\n",
    "        all_labels.update(pos_list)\n",
    "    \n",
    "    print(f\"Total unique labels found: {len(all_labels)}\")\n",
    "    print(f\"Unique labels: {sorted(all_labels)}\")\n",
    "    \n",
    "    # Count frequency of each label\n",
    "    label_counts = {}\n",
    "    for pos_list in dataframe['pos_tokens']:\n",
    "        for label in pos_list:\n",
    "            label_counts[label] = label_counts.get(label, 0) + 1\n",
    "    \n",
    "    print(f\"\\nLabel frequencies:\")\n",
    "    for label, count in sorted(label_counts.items(), key=lambda x: x[1], reverse=True):\n",
    "        print(f\"{label}: {count}\")\n",
    "    \n",
    "    return all_labels\n",
    "\n",
    "# Execute the function\n",
    "unique_labels_set = unique_labels(df)\n"
   ]
  },
  {
   "cell_type": "markdown",
   "metadata": {
    "id": "JbriClEV9CW5"
   },
   "source": [
    "##### **2.2.3** **Provide the insights seen in the recipe data after validation** <font color = red>[1 marks]</font> <br>\n",
    "\n",
    "Provide the indexes that requires cleaning and formatting in the dataframe"
   ]
  },
  {
   "cell_type": "markdown",
   "metadata": {
    "id": "rrNQ4AtD9RPk"
   },
   "source": [
    "<font color = red>[write your answer]</font> <br>\n",
    "\n",
    "**Insights from Recipe Data Validation:**\n",
    "\n",
    "Based on the analysis, I found **5 rows** that have mismatched lengths between input tokens and POS tokens:\n",
    "\n",
    "- **Index 17**: input_length=15, pos_length=14 (1 token missing in POS)\n",
    "- **Index 27**: input_length=37, pos_length=36 (1 token missing in POS)  \n",
    "- **Index 79**: input_length=38, pos_length=37 (1 token missing in POS)\n",
    "- **Index 164**: input_length=54, pos_length=53 (1 token missing in POS)\n",
    "- **Index 207**: input_length=18, pos_length=17 (1 token missing in POS)\n",
    "\n",
    "**Issues identified:**\n",
    "1. All mismatched rows have fewer POS tags than input tokens\n",
    "2. This could be due to tokenization issues or missing annotations\n",
    "3. These rows need to be cleaned/removed to ensure data quality for model training\n",
    "\n",
    "**Indexes requiring cleaning:** 17, 27, 79, 164, 207\n"
   ]
  },
  {
   "cell_type": "markdown",
   "metadata": {
    "id": "Qtqtij2-CD2m"
   },
   "source": [
    "##### **2.2.4** **Drop the rows that have invalid data provided in previous cell** <font color = red> [2 marks]</font> <br>"
   ]
  },
  {
   "cell_type": "code",
   "execution_count": 13,
   "metadata": {
    "id": "jaiy1pYWCFPA"
   },
   "outputs": [
    {
     "name": "stdout",
     "output_type": "stream",
     "text": [
      "Original dataset size: 285\n",
      "Rows to be dropped (mismatched lengths): [17, 27, 79, 164, 207]\n",
      "Cleaned dataset size: 280\n",
      "Number of rows removed: 5\n",
      "Dataset cleaning completed!\n"
     ]
    }
   ],
   "source": [
    "# drop the irrelevant recipe data\n",
    "print(f\"Original dataset size: {len(df)}\")\n",
    "\n",
    "# Identify rows with mismatched lengths\n",
    "invalid_rows = df[df['input_length'] != df['pos_length']].index\n",
    "print(f\"Rows to be dropped (mismatched lengths): {list(invalid_rows)}\")\n",
    "\n",
    "# Drop the invalid rows\n",
    "df_clean = df.drop(invalid_rows).copy()\n",
    "df_clean.reset_index(drop=True, inplace=True)\n",
    "\n",
    "print(f\"Cleaned dataset size: {len(df_clean)}\")\n",
    "print(f\"Number of rows removed: {len(df) - len(df_clean)}\")\n",
    "\n",
    "# Update df to the cleaned version\n",
    "df = df_clean.copy()\n",
    "print(\"Dataset cleaning completed!\")\n"
   ]
  },
  {
   "cell_type": "markdown",
   "metadata": {
    "id": "_RJEStPSC9PB"
   },
   "source": [
    "##### **2.2.5** **Update the input_length & pos_length in dataframe**<font color = red> [2 marks]</font> <br>"
   ]
  },
  {
   "cell_type": "code",
   "execution_count": 14,
   "metadata": {
    "id": "XjJd7gPI5_ca"
   },
   "outputs": [
    {
     "name": "stdout",
     "output_type": "stream",
     "text": [
      "Updated length columns after cleaning:\n",
      "Input length range: 7 - 93\n",
      "POS length range: 7 - 93\n",
      "Average input length: 35.68\n",
      "Average POS length: 35.68\n"
     ]
    }
   ],
   "source": [
    "# update the input and pos length in input_length and pos_length\n",
    "df['input_length'] = df['input_tokens'].apply(len)\n",
    "df['pos_length'] = df['pos_tokens'].apply(len)\n",
    "\n",
    "print(\"Updated length columns after cleaning:\")\n",
    "print(f\"Input length range: {df['input_length'].min()} - {df['input_length'].max()}\")\n",
    "print(f\"POS length range: {df['pos_length'].min()} - {df['pos_length'].max()}\")\n",
    "print(f\"Average input length: {df['input_length'].mean():.2f}\")\n",
    "print(f\"Average POS length: {df['pos_length'].mean():.2f}\")\n"
   ]
  },
  {
   "cell_type": "markdown",
   "metadata": {
    "id": "qJdYJ2TEDBzd"
   },
   "source": [
    "##### **2.2.6** **Validate the input_length and pos_length by checking unequal rows** <font color = red> [1 marks]</font> <br>"
   ]
  },
  {
   "cell_type": "code",
   "execution_count": 15,
   "metadata": {
    "id": "fdSsdOPM8aXo"
   },
   "outputs": [
    {
     "name": "stdout",
     "output_type": "stream",
     "text": [
      "Number of rows with mismatched lengths after cleaning: 0\n",
      "✅ Validation successful! All rows now have matching input and pos lengths.\n",
      "Dataset ready for model training with 280 clean samples.\n"
     ]
    }
   ],
   "source": [
    "# validate the input length and pos length as input_length and pos_length\n",
    "mismatched_rows = df[df['input_length'] != df['pos_length']]\n",
    "print(f\"Number of rows with mismatched lengths after cleaning: {len(mismatched_rows)}\")\n",
    "\n",
    "if len(mismatched_rows) == 0:\n",
    "    print(\"✅ Validation successful! All rows now have matching input and pos lengths.\")\n",
    "    print(f\"Dataset ready for model training with {len(df)} clean samples.\")\n",
    "else:\n",
    "    print(\"❌ Still have mismatched rows:\")\n",
    "    print(mismatched_rows[['input_length', 'pos_length']].head())\n"
   ]
  },
  {
   "cell_type": "markdown",
   "metadata": {
    "id": "TwKLW4em-qMu"
   },
   "source": [
    "## **3** Train Validation Split (70 train - 30 val) <font color = red>[6 marks]</font> <br>"
   ]
  },
  {
   "cell_type": "markdown",
   "metadata": {
    "id": "z_pJDTVO-71z"
   },
   "source": [
    "#### **3.1** *Perform train and validation split ratio* <font color = red>[6 marks]</font> <br>\n",
    "Split the dataset with the help of input_tokens and pos_tokens and make a ratio of 70:30 split for training and validation datasets."
   ]
  },
  {
   "cell_type": "markdown",
   "metadata": {
    "id": "l-64gdDiIy9u"
   },
   "source": [
    "###### **3.1.1** **Split the dataset into train_df and val_df into 70:30 ratio** <font color = red> [1 marks]</font> <br>"
   ]
  },
  {
   "cell_type": "code",
   "execution_count": 16,
   "metadata": {
    "id": "W20A_-9E_WOv"
   },
   "outputs": [
    {
     "name": "stdout",
     "output_type": "stream",
     "text": [
      "Original dataset size: 280\n",
      "Training set size: 196 (70.0%)\n",
      "Validation set size: 84 (30.0%)\n",
      "Dataset split completed successfully!\n"
     ]
    }
   ],
   "source": [
    "# split the dataset into training and validation sets\n",
    "train_df, val_df = train_test_split(df, test_size=0.3, random_state=42, shuffle=True)\n",
    "\n",
    "# Reset indices\n",
    "train_df = train_df.reset_index(drop=True)\n",
    "val_df = val_df.reset_index(drop=True)\n",
    "\n",
    "print(f\"Original dataset size: {len(df)}\")\n",
    "print(f\"Training set size: {len(train_df)} ({len(train_df)/len(df)*100:.1f}%)\")\n",
    "print(f\"Validation set size: {len(val_df)} ({len(val_df)/len(df)*100:.1f}%)\")\n",
    "print(\"Dataset split completed successfully!\")\n"
   ]
  },
  {
   "cell_type": "markdown",
   "metadata": {
    "id": "PUA05_77JRAv"
   },
   "source": [
    "###### **3.1.2** **Print the first five rows of train_df and val_df** <font color = red> [1 marks]</font> <br>"
   ]
  },
  {
   "cell_type": "code",
   "execution_count": 17,
   "metadata": {
    "id": "pgMZfsbV_XhK"
   },
   "outputs": [
    {
     "name": "stdout",
     "output_type": "stream",
     "text": [
      "First 5 rows of Training DataFrame:\n",
      "==================================================\n"
     ]
    },
    {
     "data": {
      "text/html": [
       "<div>\n",
       "<style scoped>\n",
       "    .dataframe tbody tr th:only-of-type {\n",
       "        vertical-align: middle;\n",
       "    }\n",
       "\n",
       "    .dataframe tbody tr th {\n",
       "        vertical-align: top;\n",
       "    }\n",
       "\n",
       "    .dataframe thead th {\n",
       "        text-align: right;\n",
       "    }\n",
       "</style>\n",
       "<table border=\"1\" class=\"dataframe\">\n",
       "  <thead>\n",
       "    <tr style=\"text-align: right;\">\n",
       "      <th></th>\n",
       "      <th>input</th>\n",
       "      <th>pos</th>\n",
       "      <th>input_tokens</th>\n",
       "      <th>pos_tokens</th>\n",
       "      <th>input_length</th>\n",
       "      <th>pos_length</th>\n",
       "    </tr>\n",
       "  </thead>\n",
       "  <tbody>\n",
       "    <tr>\n",
       "      <th>0</th>\n",
       "      <td>250 grams Okra Oil 1 Onion finely chopped Tomato Grated teaspoon Ginger 2 Garlic Finely 1/2 Cumin seeds 1/4 Teaspoon asafoetida cup cottage cheese pinched coriander powder mango red chilli turmeric</td>\n",
       "      <td>quantity unit ingredient ingredient quantity ingredient ingredient ingredient ingredient ingredient unit ingredient quantity ingredient ingredient quantity ingredient ingredient quantity unit ingredient unit ingredient ingredient ingredient ingredient ingredient ingredient ingredient ingredient ingredient</td>\n",
       "      <td>[250, grams, Okra, Oil, 1, Onion, finely, chopped, Tomato, Grated, teaspoon, Ginger, 2, Garlic, Finely, 1/2, Cumin, seeds, 1/4, Teaspoon, asafoetida, cup, cottage, cheese, pinched, coriander, powder, mango, red, chilli, turmeric]</td>\n",
       "      <td>[quantity, unit, ingredient, ingredient, quantity, ingredient, ingredient, ingredient, ingredient, ingredient, unit, ingredient, quantity, ingredient, ingredient, quantity, ingredient, ingredient, quantity, unit, ingredient, unit, ingredient, ingredient, ingredient, ingredient, ingredient, ingredient, ingredient, ingredient, ingredient]</td>\n",
       "      <td>31</td>\n",
       "      <td>31</td>\n",
       "    </tr>\n",
       "    <tr>\n",
       "      <th>1</th>\n",
       "      <td>200 grams Paneer Homemade Cottage Cheese 2 Potato Aloo Bay leaf tej patta Dry Red Chilli 1 tablespoon Panch Phoran Masala roasted and powdered Tomato big sized teaspoon Turmeric powder Haldi Cumin seeds Jeera Ginger grated Salt 1/2 Sugar Sunflower Oil</td>\n",
       "      <td>quantity unit ingredient ingredient ingredient ingredient quantity ingredient ingredient ingredient ingredient ingredient ingredient ingredient ingredient ingredient quantity unit ingredient ingredient ingredient ingredient ingredient ingredient ingredient ingredient ingredient unit ingredient ingredient ingredient ingredient ingredient ingredient ingredient ingredient ingredient quantity ingredient ingredient ingredient</td>\n",
       "      <td>[200, grams, Paneer, Homemade, Cottage, Cheese, 2, Potato, Aloo, Bay, leaf, tej, patta, Dry, Red, Chilli, 1, tablespoon, Panch, Phoran, Masala, roasted, and, powdered, Tomato, big, sized, teaspoon, Turmeric, powder, Haldi, Cumin, seeds, Jeera, Ginger, grated, Salt, 1/2, Sugar, Sunflower, Oil]</td>\n",
       "      <td>[quantity, unit, ingredient, ingredient, ingredient, ingredient, quantity, ingredient, ingredient, ingredient, ingredient, ingredient, ingredient, ingredient, ingredient, ingredient, quantity, unit, ingredient, ingredient, ingredient, ingredient, ingredient, ingredient, ingredient, ingredient, ingredient, unit, ingredient, ingredient, ingredient, ingredient, ingredient, ingredient, ingredient, ingredient, ingredient, quantity, ingredient, ingredient, ingredient]</td>\n",
       "      <td>41</td>\n",
       "      <td>41</td>\n",
       "    </tr>\n",
       "    <tr>\n",
       "      <th>2</th>\n",
       "      <td>500 grams Cabbage Patta Gobi Muttaikose 1 teaspoon Mustard seeds 1-1/2 White Urad Dal Split sprig Curry leaves Green Chilli 1/4 cup Fresh coconut Salt</td>\n",
       "      <td>quantity unit ingredient ingredient ingredient ingredient quantity unit ingredient ingredient quantity ingredient ingredient ingredient ingredient unit ingredient ingredient ingredient ingredient quantity unit ingredient ingredient ingredient</td>\n",
       "      <td>[500, grams, Cabbage, Patta, Gobi, Muttaikose, 1, teaspoon, Mustard, seeds, 1-1/2, White, Urad, Dal, Split, sprig, Curry, leaves, Green, Chilli, 1/4, cup, Fresh, coconut, Salt]</td>\n",
       "      <td>[quantity, unit, ingredient, ingredient, ingredient, ingredient, quantity, unit, ingredient, ingredient, quantity, ingredient, ingredient, ingredient, ingredient, unit, ingredient, ingredient, ingredient, ingredient, quantity, unit, ingredient, ingredient, ingredient]</td>\n",
       "      <td>25</td>\n",
       "      <td>25</td>\n",
       "    </tr>\n",
       "    <tr>\n",
       "      <th>3</th>\n",
       "      <td>500 grams Fresh Figs 1/4 cup Lemon juice 1 teaspoon zest 2 Red Chilli flakes 1/2 Honey Brown Sugar (Demerara Sugar)</td>\n",
       "      <td>quantity unit ingredient ingredient quantity unit ingredient ingredient quantity unit ingredient quantity ingredient ingredient ingredient quantity ingredient ingredient ingredient ingredient ingredient</td>\n",
       "      <td>[500, grams, Fresh, Figs, 1/4, cup, Lemon, juice, 1, teaspoon, zest, 2, Red, Chilli, flakes, 1/2, Honey, Brown, Sugar, (Demerara, Sugar)]</td>\n",
       "      <td>[quantity, unit, ingredient, ingredient, quantity, unit, ingredient, ingredient, quantity, unit, ingredient, quantity, ingredient, ingredient, ingredient, quantity, ingredient, ingredient, ingredient, ingredient, ingredient]</td>\n",
       "      <td>21</td>\n",
       "      <td>21</td>\n",
       "    </tr>\n",
       "    <tr>\n",
       "      <th>4</th>\n",
       "      <td>2 cups Water 1 teaspoon Tea leaves 1/4 Milk 10 Saffron strands</td>\n",
       "      <td>quantity unit ingredient quantity unit ingredient ingredient quantity ingredient quantity ingredient ingredient</td>\n",
       "      <td>[2, cups, Water, 1, teaspoon, Tea, leaves, 1/4, Milk, 10, Saffron, strands]</td>\n",
       "      <td>[quantity, unit, ingredient, quantity, unit, ingredient, ingredient, quantity, ingredient, quantity, ingredient, ingredient]</td>\n",
       "      <td>12</td>\n",
       "      <td>12</td>\n",
       "    </tr>\n",
       "  </tbody>\n",
       "</table>\n",
       "</div>"
      ],
      "text/plain": [
       "                                                                                                                                                                                                                                                         input                                                                                                                                                                                                                                                                                                                                                                                                                                       pos                                                                                                                                                                                                                                                                                           input_tokens                                                                                                                                                                                                                                                                                                                                                                                                                                                                          pos_tokens  input_length  pos_length\n",
       "0                                                        250 grams Okra Oil 1 Onion finely chopped Tomato Grated teaspoon Ginger 2 Garlic Finely 1/2 Cumin seeds 1/4 Teaspoon asafoetida cup cottage cheese pinched coriander powder mango red chilli turmeric                                                                                                                        quantity unit ingredient ingredient quantity ingredient ingredient ingredient ingredient ingredient unit ingredient quantity ingredient ingredient quantity ingredient ingredient quantity unit ingredient unit ingredient ingredient ingredient ingredient ingredient ingredient ingredient ingredient ingredient                                                                  [250, grams, Okra, Oil, 1, Onion, finely, chopped, Tomato, Grated, teaspoon, Ginger, 2, Garlic, Finely, 1/2, Cumin, seeds, 1/4, Teaspoon, asafoetida, cup, cottage, cheese, pinched, coriander, powder, mango, red, chilli, turmeric]                                                                                                                                  [quantity, unit, ingredient, ingredient, quantity, ingredient, ingredient, ingredient, ingredient, ingredient, unit, ingredient, quantity, ingredient, ingredient, quantity, ingredient, ingredient, quantity, unit, ingredient, unit, ingredient, ingredient, ingredient, ingredient, ingredient, ingredient, ingredient, ingredient, ingredient]            31          31\n",
       "1  200 grams Paneer Homemade Cottage Cheese 2 Potato Aloo Bay leaf tej patta Dry Red Chilli 1 tablespoon Panch Phoran Masala roasted and powdered Tomato big sized teaspoon Turmeric powder Haldi Cumin seeds Jeera Ginger grated Salt 1/2 Sugar Sunflower Oil  quantity unit ingredient ingredient ingredient ingredient quantity ingredient ingredient ingredient ingredient ingredient ingredient ingredient ingredient ingredient quantity unit ingredient ingredient ingredient ingredient ingredient ingredient ingredient ingredient ingredient unit ingredient ingredient ingredient ingredient ingredient ingredient ingredient ingredient ingredient quantity ingredient ingredient ingredient  [200, grams, Paneer, Homemade, Cottage, Cheese, 2, Potato, Aloo, Bay, leaf, tej, patta, Dry, Red, Chilli, 1, tablespoon, Panch, Phoran, Masala, roasted, and, powdered, Tomato, big, sized, teaspoon, Turmeric, powder, Haldi, Cumin, seeds, Jeera, Ginger, grated, Salt, 1/2, Sugar, Sunflower, Oil]  [quantity, unit, ingredient, ingredient, ingredient, ingredient, quantity, ingredient, ingredient, ingredient, ingredient, ingredient, ingredient, ingredient, ingredient, ingredient, quantity, unit, ingredient, ingredient, ingredient, ingredient, ingredient, ingredient, ingredient, ingredient, ingredient, unit, ingredient, ingredient, ingredient, ingredient, ingredient, ingredient, ingredient, ingredient, ingredient, quantity, ingredient, ingredient, ingredient]            41          41\n",
       "2                                                                                                       500 grams Cabbage Patta Gobi Muttaikose 1 teaspoon Mustard seeds 1-1/2 White Urad Dal Split sprig Curry leaves Green Chilli 1/4 cup Fresh coconut Salt                                                                                                                                                                                        quantity unit ingredient ingredient ingredient ingredient quantity unit ingredient ingredient quantity ingredient ingredient ingredient ingredient unit ingredient ingredient ingredient ingredient quantity unit ingredient ingredient ingredient                                                                                                                       [500, grams, Cabbage, Patta, Gobi, Muttaikose, 1, teaspoon, Mustard, seeds, 1-1/2, White, Urad, Dal, Split, sprig, Curry, leaves, Green, Chilli, 1/4, cup, Fresh, coconut, Salt]                                                                                                                                                                                                        [quantity, unit, ingredient, ingredient, ingredient, ingredient, quantity, unit, ingredient, ingredient, quantity, ingredient, ingredient, ingredient, ingredient, unit, ingredient, ingredient, ingredient, ingredient, quantity, unit, ingredient, ingredient, ingredient]            25          25\n",
       "3                                                                                                                                          500 grams Fresh Figs 1/4 cup Lemon juice 1 teaspoon zest 2 Red Chilli flakes 1/2 Honey Brown Sugar (Demerara Sugar)                                                                                                                                                                                                                                quantity unit ingredient ingredient quantity unit ingredient ingredient quantity unit ingredient quantity ingredient ingredient ingredient quantity ingredient ingredient ingredient ingredient ingredient                                                                                                                                                              [500, grams, Fresh, Figs, 1/4, cup, Lemon, juice, 1, teaspoon, zest, 2, Red, Chilli, flakes, 1/2, Honey, Brown, Sugar, (Demerara, Sugar)]                                                                                                                                                                                                                                                    [quantity, unit, ingredient, ingredient, quantity, unit, ingredient, ingredient, quantity, unit, ingredient, quantity, ingredient, ingredient, ingredient, quantity, ingredient, ingredient, ingredient, ingredient, ingredient]            21          21\n",
       "4                                                                                                                                                                                               2 cups Water 1 teaspoon Tea leaves 1/4 Milk 10 Saffron strands                                                                                                                                                                                                                                                                                                                           quantity unit ingredient quantity unit ingredient ingredient quantity ingredient quantity ingredient ingredient                                                                                                                                                                                                                            [2, cups, Water, 1, teaspoon, Tea, leaves, 1/4, Milk, 10, Saffron, strands]                                                                                                                                                                                                                                                                                                                                                        [quantity, unit, ingredient, quantity, unit, ingredient, ingredient, quantity, ingredient, quantity, ingredient, ingredient]            12          12"
      ]
     },
     "execution_count": 17,
     "metadata": {},
     "output_type": "execute_result"
    }
   ],
   "source": [
    "# print the first five rows of train_df\n",
    "print(\"First 5 rows of Training DataFrame:\")\n",
    "print(\"=\"*50)\n",
    "train_df.head()\n"
   ]
  },
  {
   "cell_type": "code",
   "execution_count": 18,
   "metadata": {
    "id": "Kgtg5WE4_d7h"
   },
   "outputs": [
    {
     "name": "stdout",
     "output_type": "stream",
     "text": [
      "First 5 rows of Validation DataFrame:\n",
      "==================================================\n"
     ]
    },
    {
     "data": {
      "text/html": [
       "<div>\n",
       "<style scoped>\n",
       "    .dataframe tbody tr th:only-of-type {\n",
       "        vertical-align: middle;\n",
       "    }\n",
       "\n",
       "    .dataframe tbody tr th {\n",
       "        vertical-align: top;\n",
       "    }\n",
       "\n",
       "    .dataframe thead th {\n",
       "        text-align: right;\n",
       "    }\n",
       "</style>\n",
       "<table border=\"1\" class=\"dataframe\">\n",
       "  <thead>\n",
       "    <tr style=\"text-align: right;\">\n",
       "      <th></th>\n",
       "      <th>input</th>\n",
       "      <th>pos</th>\n",
       "      <th>input_tokens</th>\n",
       "      <th>pos_tokens</th>\n",
       "      <th>input_length</th>\n",
       "      <th>pos_length</th>\n",
       "    </tr>\n",
       "  </thead>\n",
       "  <tbody>\n",
       "    <tr>\n",
       "      <th>0</th>\n",
       "      <td>1 cup Ada 2 liter Milk 3/4 Sugar tablespoon Ghee 1/2 teaspoon Cardamom Powder Elaichi</td>\n",
       "      <td>quantity unit ingredient quantity unit ingredient quantity ingredient unit ingredient quantity unit ingredient ingredient ingredient</td>\n",
       "      <td>[1, cup, Ada, 2, liter, Milk, 3/4, Sugar, tablespoon, Ghee, 1/2, teaspoon, Cardamom, Powder, Elaichi]</td>\n",
       "      <td>[quantity, unit, ingredient, quantity, unit, ingredient, quantity, ingredient, unit, ingredient, quantity, unit, ingredient, ingredient, ingredient]</td>\n",
       "      <td>15</td>\n",
       "      <td>15</td>\n",
       "    </tr>\n",
       "    <tr>\n",
       "      <th>1</th>\n",
       "      <td>1 Carrot Gajjar chopped 7 Potatoes Aloo 2 cups Cauliflower gobi cut to small florets Onion tablespoon Ginger Garlic Paste Salt teaspoons Sunflower Oil 1/2 cup Fresh coconut grated teaspoon Whole Black Peppercorns Green Chillies Fennel seeds Saunf Poppy 6 Cashew nuts inch Cinnamon Stick Dalchini Star anise 3 Cloves Laung Cardamom Elaichi Pods/Seeds Cumin Jeera</td>\n",
       "      <td>quantity ingredient ingredient ingredient quantity ingredient ingredient quantity unit ingredient ingredient ingredient ingredient ingredient ingredient ingredient unit ingredient ingredient ingredient ingredient unit ingredient ingredient quantity unit ingredient ingredient ingredient unit ingredient ingredient ingredient ingredient ingredient ingredient ingredient ingredient ingredient quantity ingredient ingredient unit ingredient ingredient ingredient ingredient ingredient quantity ingredient ingredient ingredient ingredient ingredient ingredient ingredient</td>\n",
       "      <td>[1, Carrot, Gajjar, chopped, 7, Potatoes, Aloo, 2, cups, Cauliflower, gobi, cut, to, small, florets, Onion, tablespoon, Ginger, Garlic, Paste, Salt, teaspoons, Sunflower, Oil, 1/2, cup, Fresh, coconut, grated, teaspoon, Whole, Black, Peppercorns, Green, Chillies, Fennel, seeds, Saunf, Poppy, 6, Cashew, nuts, inch, Cinnamon, Stick, Dalchini, Star, anise, 3, Cloves, Laung, Cardamom, Elaichi, Pods/Seeds, Cumin, Jeera]</td>\n",
       "      <td>[quantity, ingredient, ingredient, ingredient, quantity, ingredient, ingredient, quantity, unit, ingredient, ingredient, ingredient, ingredient, ingredient, ingredient, ingredient, unit, ingredient, ingredient, ingredient, ingredient, unit, ingredient, ingredient, quantity, unit, ingredient, ingredient, ingredient, unit, ingredient, ingredient, ingredient, ingredient, ingredient, ingredient, ingredient, ingredient, ingredient, quantity, ingredient, ingredient, unit, ingredient, ingredient, ingredient, ingredient, ingredient, quantity, ingredient, ingredient, ingredient, ingredient, ingredient, ingredient, ingredient]</td>\n",
       "      <td>56</td>\n",
       "      <td>56</td>\n",
       "    </tr>\n",
       "    <tr>\n",
       "      <th>2</th>\n",
       "      <td>1 tablespoon Sunflower Oil 3 Potato Aloo Ginger paste Green Chilli chopped 1-1/12 tablespoons Sesame seeds Til teaspoon Red powder Cumin Jeera Coriander Powder Dhania 1/2 Garam masala 2 Sweet Chutney Date Tamarind Leaves few</td>\n",
       "      <td>quantity unit ingredient ingredient quantity ingredient ingredient ingredient ingredient ingredient ingredient ingredient quantity unit ingredient ingredient ingredient unit ingredient ingredient ingredient ingredient ingredient ingredient ingredient quantity ingredient ingredient quantity ingredient ingredient ingredient ingredient ingredient ingredient</td>\n",
       "      <td>[1, tablespoon, Sunflower, Oil, 3, Potato, Aloo, Ginger, paste, Green, Chilli, chopped, 1-1/12, tablespoons, Sesame, seeds, Til, teaspoon, Red, powder, Cumin, Jeera, Coriander, Powder, Dhania, 1/2, Garam, masala, 2, Sweet, Chutney, Date, Tamarind, Leaves, few]</td>\n",
       "      <td>[quantity, unit, ingredient, ingredient, quantity, ingredient, ingredient, ingredient, ingredient, ingredient, ingredient, ingredient, quantity, unit, ingredient, ingredient, ingredient, unit, ingredient, ingredient, ingredient, ingredient, ingredient, ingredient, ingredient, quantity, ingredient, ingredient, quantity, ingredient, ingredient, ingredient, ingredient, ingredient, ingredient]</td>\n",
       "      <td>35</td>\n",
       "      <td>35</td>\n",
       "    </tr>\n",
       "    <tr>\n",
       "      <th>3</th>\n",
       "      <td>1 cup green peas gram flour 1/2 cheese tsp ginger 2 chillies turmeric powder cumin teaspoon salt oil</td>\n",
       "      <td>quantity unit ingredient ingredient ingredient ingredient quantity ingredient unit ingredient quantity ingredient ingredient ingredient ingredient unit ingredient ingredient</td>\n",
       "      <td>[1, cup, green, peas, gram, flour, 1/2, cheese, tsp, ginger, 2, chillies, turmeric, powder, cumin, teaspoon, salt, oil]</td>\n",
       "      <td>[quantity, unit, ingredient, ingredient, ingredient, ingredient, quantity, ingredient, unit, ingredient, quantity, ingredient, ingredient, ingredient, ingredient, unit, ingredient, ingredient]</td>\n",
       "      <td>18</td>\n",
       "      <td>18</td>\n",
       "    </tr>\n",
       "    <tr>\n",
       "      <th>4</th>\n",
       "      <td>2 cups Brown Rice cooked tablespoons Garlic chopped 1 Green Chilli 1/2 cup Carrots (Gajjar) beans (French Beans) Bell Pepper (Capsicum) Onion Cabbage (Patta Gobi/ Muttaikose) tablespoon Roasted tomato pasta sauce - or store bought Red teaspoon Soy Ginger freshly grated Spring Greens Salt Vinegar Extra Virgin Olive Oil as required</td>\n",
       "      <td>quantity unit ingredient ingredient ingredient unit ingredient ingredient quantity ingredient ingredient quantity unit ingredient ingredient ingredient ingredient ingredient ingredient ingredient ingredient ingredient ingredient ingredient ingredient ingredient unit ingredient ingredient ingredient ingredient ingredient ingredient ingredient ingredient ingredient unit ingredient ingredient ingredient ingredient ingredient ingredient ingredient ingredient ingredient ingredient ingredient ingredient ingredient ingredient</td>\n",
       "      <td>[2, cups, Brown, Rice, cooked, tablespoons, Garlic, chopped, 1, Green, Chilli, 1/2, cup, Carrots, (Gajjar), beans, (French, Beans), Bell, Pepper, (Capsicum), Onion, Cabbage, (Patta, Gobi/, Muttaikose), tablespoon, Roasted, tomato, pasta, sauce, -, or, store, bought, Red, teaspoon, Soy, Ginger, freshly, grated, Spring, Greens, Salt, Vinegar, Extra, Virgin, Olive, Oil, as, required]</td>\n",
       "      <td>[quantity, unit, ingredient, ingredient, ingredient, unit, ingredient, ingredient, quantity, ingredient, ingredient, quantity, unit, ingredient, ingredient, ingredient, ingredient, ingredient, ingredient, ingredient, ingredient, ingredient, ingredient, ingredient, ingredient, ingredient, unit, ingredient, ingredient, ingredient, ingredient, ingredient, ingredient, ingredient, ingredient, ingredient, unit, ingredient, ingredient, ingredient, ingredient, ingredient, ingredient, ingredient, ingredient, ingredient, ingredient, ingredient, ingredient, ingredient, ingredient]</td>\n",
       "      <td>51</td>\n",
       "      <td>51</td>\n",
       "    </tr>\n",
       "  </tbody>\n",
       "</table>\n",
       "</div>"
      ],
      "text/plain": [
       "                                                                                                                                                                                                                                                                                                                                                                       input                                                                                                                                                                                                                                                                                                                                                                                                                                                                                                                                                                                      pos                                                                                                                                                                                                                                                                                                                                                                                                                        input_tokens                                                                                                                                                                                                                                                                                                                                                                                                                                                                                                                                                                                                                                        pos_tokens  input_length  pos_length\n",
       "0                                                                                                                                                                                                                                                                                      1 cup Ada 2 liter Milk 3/4 Sugar tablespoon Ghee 1/2 teaspoon Cardamom Powder Elaichi                                                                                                                                                                                                                                                                                                                                                                                                                                                     quantity unit ingredient quantity unit ingredient quantity ingredient unit ingredient quantity unit ingredient ingredient ingredient                                                                                                                                                                                                                                                                                                                               [1, cup, Ada, 2, liter, Milk, 3/4, Sugar, tablespoon, Ghee, 1/2, teaspoon, Cardamom, Powder, Elaichi]                                                                                                                                                                                                                                                                                                                                                                                                                                                                                              [quantity, unit, ingredient, quantity, unit, ingredient, quantity, ingredient, unit, ingredient, quantity, unit, ingredient, ingredient, ingredient]            15          15\n",
       "1  1 Carrot Gajjar chopped 7 Potatoes Aloo 2 cups Cauliflower gobi cut to small florets Onion tablespoon Ginger Garlic Paste Salt teaspoons Sunflower Oil 1/2 cup Fresh coconut grated teaspoon Whole Black Peppercorns Green Chillies Fennel seeds Saunf Poppy 6 Cashew nuts inch Cinnamon Stick Dalchini Star anise 3 Cloves Laung Cardamom Elaichi Pods/Seeds Cumin Jeera  quantity ingredient ingredient ingredient quantity ingredient ingredient quantity unit ingredient ingredient ingredient ingredient ingredient ingredient ingredient unit ingredient ingredient ingredient ingredient unit ingredient ingredient quantity unit ingredient ingredient ingredient unit ingredient ingredient ingredient ingredient ingredient ingredient ingredient ingredient ingredient quantity ingredient ingredient unit ingredient ingredient ingredient ingredient ingredient quantity ingredient ingredient ingredient ingredient ingredient ingredient ingredient  [1, Carrot, Gajjar, chopped, 7, Potatoes, Aloo, 2, cups, Cauliflower, gobi, cut, to, small, florets, Onion, tablespoon, Ginger, Garlic, Paste, Salt, teaspoons, Sunflower, Oil, 1/2, cup, Fresh, coconut, grated, teaspoon, Whole, Black, Peppercorns, Green, Chillies, Fennel, seeds, Saunf, Poppy, 6, Cashew, nuts, inch, Cinnamon, Stick, Dalchini, Star, anise, 3, Cloves, Laung, Cardamom, Elaichi, Pods/Seeds, Cumin, Jeera]  [quantity, ingredient, ingredient, ingredient, quantity, ingredient, ingredient, quantity, unit, ingredient, ingredient, ingredient, ingredient, ingredient, ingredient, ingredient, unit, ingredient, ingredient, ingredient, ingredient, unit, ingredient, ingredient, quantity, unit, ingredient, ingredient, ingredient, unit, ingredient, ingredient, ingredient, ingredient, ingredient, ingredient, ingredient, ingredient, ingredient, quantity, ingredient, ingredient, unit, ingredient, ingredient, ingredient, ingredient, ingredient, quantity, ingredient, ingredient, ingredient, ingredient, ingredient, ingredient, ingredient]            56          56\n",
       "2                                                                                                                                           1 tablespoon Sunflower Oil 3 Potato Aloo Ginger paste Green Chilli chopped 1-1/12 tablespoons Sesame seeds Til teaspoon Red powder Cumin Jeera Coriander Powder Dhania 1/2 Garam masala 2 Sweet Chutney Date Tamarind Leaves few                                                                                                                                                                                                                     quantity unit ingredient ingredient quantity ingredient ingredient ingredient ingredient ingredient ingredient ingredient quantity unit ingredient ingredient ingredient unit ingredient ingredient ingredient ingredient ingredient ingredient ingredient quantity ingredient ingredient quantity ingredient ingredient ingredient ingredient ingredient ingredient                                                                                                                                                                [1, tablespoon, Sunflower, Oil, 3, Potato, Aloo, Ginger, paste, Green, Chilli, chopped, 1-1/12, tablespoons, Sesame, seeds, Til, teaspoon, Red, powder, Cumin, Jeera, Coriander, Powder, Dhania, 1/2, Garam, masala, 2, Sweet, Chutney, Date, Tamarind, Leaves, few]                                                                                                                                                                                                                                          [quantity, unit, ingredient, ingredient, quantity, ingredient, ingredient, ingredient, ingredient, ingredient, ingredient, ingredient, quantity, unit, ingredient, ingredient, ingredient, unit, ingredient, ingredient, ingredient, ingredient, ingredient, ingredient, ingredient, quantity, ingredient, ingredient, quantity, ingredient, ingredient, ingredient, ingredient, ingredient, ingredient]            35          35\n",
       "3                                                                                                                                                                                                                                                                       1 cup green peas gram flour 1/2 cheese tsp ginger 2 chillies turmeric powder cumin teaspoon salt oil                                                                                                                                                                                                                                                                                                                                                                                                            quantity unit ingredient ingredient ingredient ingredient quantity ingredient unit ingredient quantity ingredient ingredient ingredient ingredient unit ingredient ingredient                                                                                                                                                                                                                                                                                                             [1, cup, green, peas, gram, flour, 1/2, cheese, tsp, ginger, 2, chillies, turmeric, powder, cumin, teaspoon, salt, oil]                                                                                                                                                                                                                                                                                                                                                                                                                                                  [quantity, unit, ingredient, ingredient, ingredient, ingredient, quantity, ingredient, unit, ingredient, quantity, ingredient, ingredient, ingredient, ingredient, unit, ingredient, ingredient]            18          18\n",
       "4                                2 cups Brown Rice cooked tablespoons Garlic chopped 1 Green Chilli 1/2 cup Carrots (Gajjar) beans (French Beans) Bell Pepper (Capsicum) Onion Cabbage (Patta Gobi/ Muttaikose) tablespoon Roasted tomato pasta sauce - or store bought Red teaspoon Soy Ginger freshly grated Spring Greens Salt Vinegar Extra Virgin Olive Oil as required                                             quantity unit ingredient ingredient ingredient unit ingredient ingredient quantity ingredient ingredient quantity unit ingredient ingredient ingredient ingredient ingredient ingredient ingredient ingredient ingredient ingredient ingredient ingredient ingredient unit ingredient ingredient ingredient ingredient ingredient ingredient ingredient ingredient ingredient unit ingredient ingredient ingredient ingredient ingredient ingredient ingredient ingredient ingredient ingredient ingredient ingredient ingredient ingredient                                     [2, cups, Brown, Rice, cooked, tablespoons, Garlic, chopped, 1, Green, Chilli, 1/2, cup, Carrots, (Gajjar), beans, (French, Beans), Bell, Pepper, (Capsicum), Onion, Cabbage, (Patta, Gobi/, Muttaikose), tablespoon, Roasted, tomato, pasta, sauce, -, or, store, bought, Red, teaspoon, Soy, Ginger, freshly, grated, Spring, Greens, Salt, Vinegar, Extra, Virgin, Olive, Oil, as, required]                                                  [quantity, unit, ingredient, ingredient, ingredient, unit, ingredient, ingredient, quantity, ingredient, ingredient, quantity, unit, ingredient, ingredient, ingredient, ingredient, ingredient, ingredient, ingredient, ingredient, ingredient, ingredient, ingredient, ingredient, ingredient, unit, ingredient, ingredient, ingredient, ingredient, ingredient, ingredient, ingredient, ingredient, ingredient, unit, ingredient, ingredient, ingredient, ingredient, ingredient, ingredient, ingredient, ingredient, ingredient, ingredient, ingredient, ingredient, ingredient, ingredient]            51          51"
      ]
     },
     "execution_count": 18,
     "metadata": {},
     "output_type": "execute_result"
    }
   ],
   "source": [
    "# print the first five rows of the val_df\n",
    "print(\"First 5 rows of Validation DataFrame:\")\n",
    "print(\"=\"*50)\n",
    "val_df.head()\n"
   ]
  },
  {
   "cell_type": "markdown",
   "metadata": {
    "id": "7prEiaiqI_VZ"
   },
   "source": [
    "###### **3.1.3** **Extract the dataset into train_df and val_df into X_train, X_val, y_train and y_val and display their length** <font color = red> [2 marks]</font> <br>\n",
    "\n",
    "Extract X_train, X_val, y_train and y_val by extracting the list of input_tokens and pos_tokens from train_df and val_df and also display their length"
   ]
  },
  {
   "cell_type": "code",
   "execution_count": 20,
   "metadata": {
    "id": "BFVnCD71IHXF"
   },
   "outputs": [
    {
     "name": "stdout",
     "output_type": "stream",
     "text": [
      "Training dataset size: 199\n",
      "Validation dataset size: 86\n",
      "Extraction completed!\n",
      "X_train type: <class 'list'>, length: 199\n",
      "y_train type: <class 'list'>, length: 199\n",
      "X_val type: <class 'list'>, length: 86\n",
      "y_val type: <class 'list'>, length: 86\n"
     ]
    }
   ],
   "source": [
    "# First, let's create train_df and val_df by splitting the main dataframe\n",
    "train_df, val_df = train_test_split(df, test_size=0.3, random_state=42, shuffle=True)\n",
    "\n",
    "# Reset index to avoid any index issues\n",
    "train_df = train_df.reset_index(drop=True)\n",
    "val_df = val_df.reset_index(drop=True)\n",
    "\n",
    "print(f\"Training dataset size: {len(train_df)}\")\n",
    "print(f\"Validation dataset size: {len(val_df)}\")\n",
    "\n",
    "# Now extract the training and validation sets by taking input_tokens and pos_tokens\n",
    "# Training sets\n",
    "X_train = train_df['input_tokens'].tolist()\n",
    "y_train = train_df['pos_tokens'].tolist()\n",
    "\n",
    "# Validation sets  \n",
    "X_val = val_df['input_tokens'].tolist()\n",
    "y_val = val_df['pos_tokens'].tolist()\n",
    "\n",
    "print(\"Extraction completed!\")\n",
    "print(f\"X_train type: {type(X_train)}, length: {len(X_train)}\")\n",
    "print(f\"y_train type: {type(y_train)}, length: {len(y_train)}\")\n",
    "print(f\"X_val type: {type(X_val)}, length: {len(X_val)}\")\n",
    "print(f\"y_val type: {type(y_val)}, length: {len(y_val)}\")\n"
   ]
  },
  {
   "cell_type": "code",
   "execution_count": 20,
   "metadata": {
    "id": "yQPOVz3J_fiq"
   },
   "outputs": [
    {
     "name": "stdout",
     "output_type": "stream",
     "text": [
      "Shape validation:\n",
      "Training samples - X_train: 196, y_train: 196\n",
      "Validation samples - X_val: 84, y_val: 84\n",
      "\n",
      "Sample data structure:\n",
      "X_train[0] (first recipe tokens): ['250', 'grams', 'Okra', 'Oil', '1', 'Onion', 'finely', 'chopped', 'Tomato', 'Grated']...\n",
      "y_train[0] (first recipe labels): ['quantity', 'unit', 'ingredient', 'ingredient', 'quantity', 'ingredient', 'ingredient', 'ingredient', 'ingredient', 'ingredient']...\n",
      "\n",
      "Token length verification:\n",
      "Length of X_train[0]: 31\n",
      "Length of y_train[0]: 31\n",
      "Lengths match: True\n"
     ]
    }
   ],
   "source": [
    "# validate the shape of training and validation samples\n",
    "print(\"Shape validation:\")\n",
    "print(f\"Training samples - X_train: {len(X_train)}, y_train: {len(y_train)}\")\n",
    "print(f\"Validation samples - X_val: {len(X_val)}, y_val: {len(y_val)}\")\n",
    "\n",
    "print(f\"\\nSample data structure:\")\n",
    "print(f\"X_train[0] (first recipe tokens): {X_train[0][:10]}...\")  # Show first 10 tokens\n",
    "print(f\"y_train[0] (first recipe labels): {y_train[0][:10]}...\")  # Show first 10 labels\n",
    "\n",
    "print(f\"\\nToken length verification:\")\n",
    "print(f\"Length of X_train[0]: {len(X_train[0])}\")\n",
    "print(f\"Length of y_train[0]: {len(y_train[0])}\")\n",
    "print(f\"Lengths match: {len(X_train[0]) == len(y_train[0])}\")\n"
   ]
  },
  {
   "cell_type": "markdown",
   "metadata": {
    "id": "8uicUYglLeiA"
   },
   "source": [
    "###### **3.1.4** **Display the number of unique labels present in y_train** <font color = red> [2 marks]</font> <br>"
   ]
  },
  {
   "cell_type": "code",
   "execution_count": 21,
   "metadata": {
    "id": "hzWtzpdINt6X"
   },
   "outputs": [
    {
     "name": "stdout",
     "output_type": "stream",
     "text": [
      "Number of unique labels in training set: 3\n",
      "Unique labels: ['ingredient', 'quantity', 'unit']\n",
      "\n",
      "Label distribution in training set:\n",
      "ingredient: 5323 (74.8%)\n",
      "quantity: 980 (13.8%)\n",
      "unit: 811 (11.4%)\n"
     ]
    }
   ],
   "source": [
    "# Display the number of unique labels present in y_train\n",
    "all_labels_train = set()\n",
    "for recipe_labels in y_train:\n",
    "    all_labels_train.update(recipe_labels)\n",
    "\n",
    "print(f\"Number of unique labels in training set: {len(all_labels_train)}\")\n",
    "print(f\"Unique labels: {sorted(all_labels_train)}\")\n",
    "\n",
    "# Count frequencies in training set\n",
    "label_counts_train = {}\n",
    "for recipe_labels in y_train:\n",
    "    for label in recipe_labels:\n",
    "        label_counts_train[label] = label_counts_train.get(label, 0) + 1\n",
    "\n",
    "print(f\"\\nLabel distribution in training set:\")\n",
    "for label, count in sorted(label_counts_train.items(), key=lambda x: x[1], reverse=True):\n",
    "    percentage = (count / sum(label_counts_train.values())) * 100\n",
    "    print(f\"{label}: {count} ({percentage:.1f}%)\")\n"
   ]
  },
  {
   "cell_type": "markdown",
   "metadata": {
    "id": "QFm46QrB4gmj"
   },
   "source": [
    "## **4** Exploratory Recipe Data Analysis on Training Dataset <font color = red>[16 marks]</font> <br>"
   ]
  },
  {
   "cell_type": "markdown",
   "metadata": {
    "id": "KUWIp0n_NeH6"
   },
   "source": [
    "#### **4.1** *Flatten the lists for input_tokens & pos_tokens* <font color = red>[2 marks]</font> <br>\n",
    "\n",
    "Define a function **flatten_list** for flattening the structure for input_tokens and pos_tokens. The input parameter passed to this function is a nested list.\n",
    "\n",
    "Initialise the dataset_name with a value ***'Training'***\n",
    "\n",
    "\n"
   ]
  },
  {
   "cell_type": "code",
   "execution_count": 22,
   "metadata": {
    "id": "WzcY0gPiOe8o"
   },
   "outputs": [
    {
     "name": "stdout",
     "output_type": "stream",
     "text": [
      "flatten_list function defined successfully!\n"
     ]
    }
   ],
   "source": [
    "# flatten the list for nested_list (input_tokens, pos_tokens)\n",
    "def flatten_list(nested_list):\n",
    "    \"\"\"\n",
    "    Flatten a nested list structure into a single list\n",
    "    \n",
    "    Args:\n",
    "        nested_list: List of lists to be flattened\n",
    "        \n",
    "    Returns:\n",
    "        list: Flattened list containing all elements\n",
    "    \"\"\"\n",
    "    flattened = []\n",
    "    for sublist in nested_list:\n",
    "        if isinstance(sublist, list):\n",
    "            flattened.extend(sublist)\n",
    "        else:\n",
    "            flattened.append(sublist)\n",
    "    return flattened\n",
    "\n",
    "print(\"flatten_list function defined successfully!\")\n"
   ]
  },
  {
   "cell_type": "code",
   "execution_count": 23,
   "metadata": {
    "id": "DXRda29gNBH8"
   },
   "outputs": [],
   "source": [
    "# initialise the dataset_name\n",
    "dataset_name = 'Training'"
   ]
  },
  {
   "cell_type": "markdown",
   "metadata": {
    "id": "eGOqhd8OOr1E"
   },
   "source": [
    "#### **4.2** *Extract and validate the tokens after using the flattening technique* <font color = red>[2 marks]</font> <br>\n",
    "\n",
    "Define a function named ***extract_and_validate_tokens*** with parameters dataframe and dataset_name (Training/Validation), validate the length of input_tokens and pos_tokens from dataframe and display first 10 records for both the input_tokens and pos_tokens. Execute this function\n",
    "\n",
    "\n"
   ]
  },
  {
   "cell_type": "code",
   "execution_count": 24,
   "metadata": {
    "id": "H3GMX83xP7ja"
   },
   "outputs": [
    {
     "name": "stdout",
     "output_type": "stream",
     "text": [
      "extract_and_validate_tokens function defined successfully!\n"
     ]
    }
   ],
   "source": [
    "# define a extract_and_validate_tokens with parameters (df, dataset_name)\n",
    "# call the flatten_list and apply it on input_tokens and pos_tokens\n",
    "# validate their length and display first 10 records having input and pos tokens\n",
    "\n",
    "def extract_and_validate_tokens(df, dataset_name):\n",
    "    \"\"\"\n",
    "    Extract and validate tokens from dataframe using flatten_list function\n",
    "    \n",
    "    Args:\n",
    "        df: DataFrame containing input_tokens and pos_tokens columns\n",
    "        dataset_name: String indicating 'Training' or 'Validation'\n",
    "        \n",
    "    Returns:\n",
    "        tuple: (flattened_input_tokens, flattened_pos_tokens)\n",
    "    \"\"\"\n",
    "    print(f\"=== {dataset_name} Dataset Token Extraction ===\")\n",
    "    \n",
    "    # Extract input_tokens and pos_tokens from dataframe\n",
    "    input_tokens_list = df['input_tokens'].tolist()\n",
    "    pos_tokens_list = df['pos_tokens'].tolist()\n",
    "    \n",
    "    # Flatten the nested lists\n",
    "    flattened_input_tokens = flatten_list(input_tokens_list)\n",
    "    flattened_pos_tokens = flatten_list(pos_tokens_list)\n",
    "    \n",
    "    # Validate lengths\n",
    "    print(f\"Total {dataset_name} input tokens: {len(flattened_input_tokens)}\")\n",
    "    print(f\"Total {dataset_name} POS tokens: {len(flattened_pos_tokens)}\")\n",
    "    print(f\"Lengths match: {len(flattened_input_tokens) == len(flattened_pos_tokens)}\")\n",
    "    \n",
    "    # Display first 10 records\n",
    "    print(f\"\\nFirst 10 input tokens: {flattened_input_tokens[:10]}\")\n",
    "    print(f\"First 10 POS tokens: {flattened_pos_tokens[:10]}\")\n",
    "    \n",
    "    return flattened_input_tokens, flattened_pos_tokens\n",
    "\n",
    "print(\"extract_and_validate_tokens function defined successfully!\")\n"
   ]
  },
  {
   "cell_type": "code",
   "execution_count": 25,
   "metadata": {
    "id": "ajdbYMgeLpf9"
   },
   "outputs": [
    {
     "name": "stdout",
     "output_type": "stream",
     "text": [
      "=== Training Dataset Token Extraction ===\n",
      "Total Training input tokens: 7114\n",
      "Total Training POS tokens: 7114\n",
      "Lengths match: True\n",
      "\n",
      "First 10 input tokens: ['250', 'grams', 'Okra', 'Oil', '1', 'Onion', 'finely', 'chopped', 'Tomato', 'Grated']\n",
      "First 10 POS tokens: ['quantity', 'unit', 'ingredient', 'ingredient', 'quantity', 'ingredient', 'ingredient', 'ingredient', 'ingredient', 'ingredient']\n",
      "\n",
      "Extraction completed for Training dataset!\n",
      "Ready for further analysis with 7114 tokens.\n"
     ]
    }
   ],
   "source": [
    "# extract the tokens and its pos tags\n",
    "tokens, pos_tags = extract_and_validate_tokens(train_df, dataset_name)\n",
    "\n",
    "print(f\"\\nExtraction completed for {dataset_name} dataset!\")\n",
    "print(f\"Ready for further analysis with {len(tokens)} tokens.\")\n"
   ]
  },
  {
   "cell_type": "markdown",
   "metadata": {
    "id": "htZVn5wcQSok"
   },
   "source": [
    "#### **4.3** *Categorise tokens into labels (unit, ingredient, quantity)* <font color = red>[2 marks]</font> <br>\n",
    "\n",
    "Define a function ***categorize_tokens*** to categorise tokens into ingredients, units and quantities by using extracted tokens in the previous code and return a list of ingredients, units and quantities. Execute this function to get the list.\n",
    "\n"
   ]
  },
  {
   "cell_type": "code",
   "execution_count": 26,
   "metadata": {
    "id": "7xq0a4L7Quct"
   },
   "outputs": [
    {
     "name": "stdout",
     "output_type": "stream",
     "text": [
      "categorize_tokens function defined successfully!\n"
     ]
    }
   ],
   "source": [
    "# define a categorize_tokens function and provide the tokens and pos_tags as parameters and create ingredient, unit and quantity list and return it\n",
    "# validate the list that it comprised of these labels, if not return empty arrays\n",
    "\n",
    "def categorize_tokens(tokens, pos_tags):\n",
    "    \"\"\"\n",
    "    Categorize tokens into ingredients, units, and quantities based on POS tags\n",
    "    \n",
    "    Args:\n",
    "        tokens: List of input tokens\n",
    "        pos_tags: List of corresponding POS tags\n",
    "        \n",
    "    Returns:\n",
    "        tuple: (ingredients_list, units_list, quantities_list)\n",
    "    \"\"\"\n",
    "    if len(tokens) != len(pos_tags):\n",
    "        print(\"Error: Length mismatch between tokens and pos_tags\")\n",
    "        return [], [], []\n",
    "    \n",
    "    ingredients = []\n",
    "    units = []\n",
    "    quantities = []\n",
    "    \n",
    "    # Categorize tokens based on their POS tags\n",
    "    for token, tag in zip(tokens, pos_tags):\n",
    "        if tag == 'ingredient':\n",
    "            ingredients.append(token)\n",
    "        elif tag == 'unit':\n",
    "            units.append(token)\n",
    "        elif tag == 'quantity':\n",
    "            quantities.append(token)\n",
    "    \n",
    "    print(f\"Categorization completed:\")\n",
    "    print(f\"- Ingredients: {len(ingredients)} tokens\")\n",
    "    print(f\"- Units: {len(units)} tokens\") \n",
    "    print(f\"- Quantities: {len(quantities)} tokens\")\n",
    "    print(f\"- Total: {len(ingredients) + len(units) + len(quantities)} tokens\")\n",
    "    \n",
    "    # Validate that we have all expected labels\n",
    "    expected_labels = {'ingredient', 'unit', 'quantity'}\n",
    "    actual_labels = set(pos_tags)\n",
    "    \n",
    "    if expected_labels == actual_labels:\n",
    "        print(\"✅ All expected labels found in the dataset\")\n",
    "    else:\n",
    "        missing = expected_labels - actual_labels\n",
    "        extra = actual_labels - expected_labels\n",
    "        if missing:\n",
    "            print(f\"⚠️ Missing labels: {missing}\")\n",
    "        if extra:\n",
    "            print(f\"⚠️ Unexpected labels: {extra}\")\n",
    "    \n",
    "    return ingredients, units, quantities\n",
    "\n",
    "print(\"categorize_tokens function defined successfully!\")\n",
    "\n"
   ]
  },
  {
   "cell_type": "code",
   "execution_count": 27,
   "metadata": {
    "id": "evcsigvUL7bM"
   },
   "outputs": [
    {
     "name": "stdout",
     "output_type": "stream",
     "text": [
      "Categorization completed:\n",
      "- Ingredients: 5323 tokens\n",
      "- Units: 811 tokens\n",
      "- Quantities: 980 tokens\n",
      "- Total: 7114 tokens\n",
      "✅ All expected labels found in the dataset\n",
      "\n",
      "Sample data:\n",
      "First 10 ingredients: ['Okra', 'Oil', 'Onion', 'finely', 'chopped', 'Tomato', 'Grated', 'Ginger', 'Garlic', 'Finely']\n",
      "First 10 units: ['grams', 'teaspoon', 'Teaspoon', 'cup', 'grams', 'tablespoon', 'teaspoon', 'grams', 'teaspoon', 'sprig']\n",
      "First 10 quantities: ['250', '1', '2', '1/2', '1/4', '200', '2', '1', '1/2', '500']\n"
     ]
    }
   ],
   "source": [
    "#  call the function to categorise the labels into respective list\n",
    "ingredients_list, units_list, quantities_list = categorize_tokens(tokens, pos_tags)\n",
    "\n",
    "print(f\"\\nSample data:\")\n",
    "print(f\"First 10 ingredients: {ingredients_list[:10]}\")\n",
    "print(f\"First 10 units: {units_list[:10]}\")\n",
    "print(f\"First 10 quantities: {quantities_list[:10]}\")\n"
   ]
  },
  {
   "cell_type": "markdown",
   "metadata": {
    "id": "QSGau4EgZCix"
   },
   "source": [
    "#### **4.4** *Top 10 Most Frequent Items* <font color = red>[3 marks]</font> <br>\n",
    "\n",
    "Define a function ***get_top_frequent_items*** to display top 10 most frequent items\n",
    "\n",
    "Here, item_list is used as a general parameter where you will call this function for ingredient and unit list\n",
    "\n",
    "Execute this function separately for top 10 most units and ingredients\n",
    "\n"
   ]
  },
  {
   "cell_type": "code",
   "execution_count": 28,
   "metadata": {
    "id": "kXc8h3H4ZOZ4"
   },
   "outputs": [
    {
     "name": "stdout",
     "output_type": "stream",
     "text": [
      "get_top_frequent_items function defined successfully!\n"
     ]
    }
   ],
   "source": [
    "# define a function get_top_frequent_items to get the top frequent items by using item_list, pos label and dataset_name(Training/Validation) and return top items\n",
    "\n",
    "def get_top_frequent_items(item_list, label, dataset_name, top_n=10):\n",
    "    \"\"\"\n",
    "    Get top N most frequent items from a list\n",
    "    \n",
    "    Args:\n",
    "        item_list: List of items to analyze\n",
    "        label: String indicating type ('ingredient', 'unit', 'quantity')\n",
    "        dataset_name: String indicating 'Training' or 'Validation'\n",
    "        top_n: Number of top items to return (default=10)\n",
    "        \n",
    "    Returns:\n",
    "        list: List of tuples (item, count) for top N most frequent items\n",
    "    \"\"\"\n",
    "    if not item_list:\n",
    "        print(f\"Warning: Empty {label} list for {dataset_name} dataset\")\n",
    "        return []\n",
    "    \n",
    "    # Count frequency of each item\n",
    "    item_counts = Counter(item_list)\n",
    "    \n",
    "    # Get top N most frequent items\n",
    "    top_items = item_counts.most_common(top_n)\n",
    "    \n",
    "    print(f\"=== Top {top_n} Most Frequent {label.title()}s in {dataset_name} Dataset ===\")\n",
    "    print(f\"Total unique {label}s: {len(item_counts)}\")\n",
    "    print(f\"Total {label} occurrences: {len(item_list)}\")\n",
    "    print(f\"\\nTop {top_n} {label}s:\")\n",
    "    print(\"-\" * 50)\n",
    "    \n",
    "    for i, (item, count) in enumerate(top_items, 1):\n",
    "        percentage = (count / len(item_list)) * 100\n",
    "        print(f\"{i:2d}. {item:<20} : {count:4d} ({percentage:5.1f}%)\")\n",
    "    \n",
    "    return top_items\n",
    "\n",
    "print(\"get_top_frequent_items function defined successfully!\")\n"
   ]
  },
  {
   "cell_type": "code",
   "execution_count": 29,
   "metadata": {
    "id": "W2jZCCf2MEke"
   },
   "outputs": [
    {
     "name": "stdout",
     "output_type": "stream",
     "text": [
      "=== Top 10 Most Frequent Ingredients in Training Dataset ===\n",
      "Total unique ingredients: 836\n",
      "Total ingredient occurrences: 5323\n",
      "\n",
      "Top 10 ingredients:\n",
      "--------------------------------------------------\n",
      " 1. powder               :  129 (  2.4%)\n",
      " 2. Salt                 :  102 (  1.9%)\n",
      " 3. seeds                :   89 (  1.7%)\n",
      " 4. Green                :   85 (  1.6%)\n",
      " 5. chopped              :   84 (  1.6%)\n",
      " 6. Oil                  :   83 (  1.6%)\n",
      " 7. Red                  :   81 (  1.5%)\n",
      " 8. Chilli               :   77 (  1.4%)\n",
      " 9. Coriander            :   71 (  1.3%)\n",
      "10. Sunflower            :   65 (  1.2%)\n"
     ]
    }
   ],
   "source": [
    "# get the top ingredients which are frequently seen in the recipe\n",
    "top_ingredients = get_top_frequent_items(ingredients_list, 'ingredient', dataset_name)\n"
   ]
  },
  {
   "cell_type": "code",
   "execution_count": 30,
   "metadata": {
    "id": "wipghGXAMYQR"
   },
   "outputs": [
    {
     "name": "stdout",
     "output_type": "stream",
     "text": [
      "=== Top 10 Most Frequent Units in Training Dataset ===\n",
      "Total unique units: 45\n",
      "Total unit occurrences: 811\n",
      "\n",
      "Top 10 units:\n",
      "--------------------------------------------------\n",
      " 1. teaspoon             :  162 ( 20.0%)\n",
      " 2. cup                  :  136 ( 16.8%)\n",
      " 3. tablespoon           :   99 ( 12.2%)\n",
      " 4. grams                :   63 (  7.8%)\n",
      " 5. tablespoons          :   61 (  7.5%)\n",
      " 6. inch                 :   52 (  6.4%)\n",
      " 7. cups                 :   50 (  6.2%)\n",
      " 8. sprig                :   41 (  5.1%)\n",
      " 9. cloves               :   39 (  4.8%)\n",
      "10. teaspoons            :   39 (  4.8%)\n"
     ]
    }
   ],
   "source": [
    "# get the top units which are frequently seen in the recipe\n",
    "top_units = get_top_frequent_items(units_list, 'unit', dataset_name)\n"
   ]
  },
  {
   "cell_type": "markdown",
   "metadata": {
    "id": "9hldpjOHaPVZ"
   },
   "source": [
    "#### **4.5** *Plot Top 10 most frequent items* <font color = red>[2 marks]</font> <br>\n",
    "\n",
    "\n"
   ]
  },
  {
   "cell_type": "markdown",
   "metadata": {
    "id": "9ImpWstybDP_"
   },
   "source": [
    "Define a function ***plot_top_items*** to plot a bar graph on top 10 most frequent items for units and ingredients\n",
    "\n",
    "Here, item_list is used as a general parameter where you will call this function for ingredient and unit list"
   ]
  },
  {
   "cell_type": "code",
   "execution_count": 31,
   "metadata": {
    "id": "Gmsq0L1vaxfc"
   },
   "outputs": [
    {
     "name": "stdout",
     "output_type": "stream",
     "text": [
      "plot_top_items function defined successfully!\n"
     ]
    }
   ],
   "source": [
    "# define plot top items with parameters - top_item list, label to suggest whether its ingredient or unit, dataset_name\n",
    "\n",
    "def plot_top_items(top_items, label, dataset_name, figsize=(12, 8)):\n",
    "    \"\"\"\n",
    "    Plot bar chart for top N most frequent items\n",
    "    \n",
    "    Args:\n",
    "        top_items: List of tuples (item, count) from get_top_frequent_items\n",
    "        label: String indicating type ('ingredient', 'unit', 'quantity')  \n",
    "        dataset_name: String indicating 'Training' or 'Validation'\n",
    "        figsize: Tuple for figure size (width, height)\n",
    "    \"\"\"\n",
    "    if not top_items:\n",
    "        print(f\"No data to plot for {label}s in {dataset_name} dataset\")\n",
    "        return\n",
    "    \n",
    "    # Extract items and counts\n",
    "    items = [item for item, count in top_items]\n",
    "    counts = [count for item, count in top_items]\n",
    "    \n",
    "    # Create the plot\n",
    "    plt.figure(figsize=figsize)\n",
    "    \n",
    "    # Create bar plot with custom colors\n",
    "    colors = plt.cm.Set3(np.linspace(0, 1, len(items)))\n",
    "    bars = plt.bar(range(len(items)), counts, color=colors, alpha=0.8, edgecolor='black', linewidth=0.5)\n",
    "    \n",
    "    # Customize the plot\n",
    "    plt.title(f'Top {len(items)} Most Frequent {label.title()}s in {dataset_name} Dataset', \n",
    "              fontsize=16, fontweight='bold', pad=20)\n",
    "    plt.xlabel(f'{label.title()}s', fontsize=12, fontweight='bold')\n",
    "    plt.ylabel('Frequency', fontsize=12, fontweight='bold')\n",
    "    \n",
    "    # Set x-axis labels\n",
    "    plt.xticks(range(len(items)), items, rotation=45, ha='right')\n",
    "    \n",
    "    # Add value labels on bars\n",
    "    for i, (bar, count) in enumerate(zip(bars, counts)):\n",
    "        plt.text(bar.get_x() + bar.get_width()/2, bar.get_height() + max(counts)*0.01,\n",
    "                str(count), ha='center', va='bottom', fontweight='bold')\n",
    "    \n",
    "    # Add grid for better readability\n",
    "    plt.grid(axis='y', alpha=0.3, linestyle='--')\n",
    "    \n",
    "    # Adjust layout to prevent label cutoff\n",
    "    plt.tight_layout()\n",
    "    \n",
    "    # Show the plot\n",
    "    plt.show()\n",
    "    \n",
    "    print(f\"Bar plot displayed for top {len(items)} {label}s in {dataset_name} dataset\")\n",
    "\n",
    "print(\"plot_top_items function defined successfully!\")\n"
   ]
  },
  {
   "cell_type": "markdown",
   "metadata": {
    "id": "rHusCfkJ4suh"
   },
   "source": [
    "#### **4.6** *Perform EDA analysis* <font color = red>[5 marks]</font> <br>\n",
    "\n",
    "Plot the bar plots for ingredients and units and provide the insights for training dataset\n",
    "\n",
    "---\n",
    "\n"
   ]
  },
  {
   "cell_type": "code",
   "execution_count": 32,
   "metadata": {
    "id": "8seIqFKyYFmn"
   },
   "outputs": [
    {
     "data": {
      "image/png": "[encoded data removed]",
      "text/plain": [
       "<Figure size 1200x800 with 1 Axes>"
      ]
     },
     "metadata": {},
     "output_type": "display_data"
    },
    {
     "name": "stdout",
     "output_type": "stream",
     "text": [
      "Bar plot displayed for top 10 ingredients in Training dataset\n",
      "\n",
      "============================================================\n",
      "INSIGHTS - TOP INGREDIENTS IN TRAINING DATA:\n",
      "============================================================\n",
      "1. 'powder' is the most frequent ingredient (2.4%) - likely spice powders\n",
      "2. 'Salt' is the 2nd most common (1.9%) - essential seasoning\n",
      "3. 'seeds', 'Green', 'chopped' are high frequency - common cooking terms\n",
      "4. 'Oil', 'Red', 'Chilli', 'Coriander' - typical Indian cooking ingredients\n",
      "5. The ingredient distribution is quite balanced with no single dominant item\n",
      "6. Top 10 ingredients represent only ~16% of total ingredient occurrences\n"
     ]
    }
   ],
   "source": [
    "# plot the top frequent ingredients in training data\n",
    "plot_top_items(top_ingredients, 'ingredient', dataset_name)\n",
    "\n",
    "# Additional insights about ingredients\n",
    "print(\"\\n\" + \"=\"*60)\n",
    "print(\"INSIGHTS - TOP INGREDIENTS IN TRAINING DATA:\")\n",
    "print(\"=\"*60)\n",
    "print(\"1. 'powder' is the most frequent ingredient (2.4%) - likely spice powders\")\n",
    "print(\"2. 'Salt' is the 2nd most common (1.9%) - essential seasoning\")\n",
    "print(\"3. 'seeds', 'Green', 'chopped' are high frequency - common cooking terms\")\n",
    "print(\"4. 'Oil', 'Red', 'Chilli', 'Coriander' - typical Indian cooking ingredients\")\n",
    "print(\"5. The ingredient distribution is quite balanced with no single dominant item\")\n",
    "print(\"6. Top 10 ingredients represent only ~16% of total ingredient occurrences\")\n"
   ]
  },
  {
   "cell_type": "code",
   "execution_count": 33,
   "metadata": {
    "id": "fbXAwiUkMtqT"
   },
   "outputs": [
    {
     "data": {
      "image/png": "[encoded data removed]",
      "text/plain": [
       "<Figure size 1200x800 with 1 Axes>"
      ]
     },
     "metadata": {},
     "output_type": "display_data"
    },
    {
     "name": "stdout",
     "output_type": "stream",
     "text": [
      "Bar plot displayed for top 10 units in Training dataset\n",
      "\n",
      "============================================================\n",
      "INSIGHTS - TOP UNITS IN TRAINING DATA:\n",
      "============================================================\n",
      "1. 'teaspoon' is the most dominant unit (20.0%) - small quantity measurements\n",
      "2. 'cup' is 2nd most common (16.8%) - larger volume measurements\n",
      "3. 'tablespoon' (12.2%) - medium quantity measurements\n",
      "4. 'grams' (7.8%) - weight-based measurements\n",
      "5. Units show singular/plural variations: teaspoon/teaspoons, cup/cups\n",
      "6. 'inch' (6.4%) appears frequently - likely for size specifications\n",
      "7. Top 3 units represent nearly 50% of all unit occurrences\n",
      "8. Distribution is more concentrated than ingredients - clearer patterns\n"
     ]
    }
   ],
   "source": [
    "# plot the top frequent units in training data\n",
    "plot_top_items(top_units, 'unit', dataset_name)\n",
    "\n",
    "# Additional insights about units\n",
    "print(\"\\n\" + \"=\"*60)\n",
    "print(\"INSIGHTS - TOP UNITS IN TRAINING DATA:\")\n",
    "print(\"=\"*60)\n",
    "print(\"1. 'teaspoon' is the most dominant unit (20.0%) - small quantity measurements\")\n",
    "print(\"2. 'cup' is 2nd most common (16.8%) - larger volume measurements\")\n",
    "print(\"3. 'tablespoon' (12.2%) - medium quantity measurements\")\n",
    "print(\"4. 'grams' (7.8%) - weight-based measurements\")\n",
    "print(\"5. Units show singular/plural variations: teaspoon/teaspoons, cup/cups\")\n",
    "print(\"6. 'inch' (6.4%) appears frequently - likely for size specifications\")\n",
    "print(\"7. Top 3 units represent nearly 50% of all unit occurrences\")\n",
    "print(\"8. Distribution is more concentrated than ingredients - clearer patterns\")\n"
   ]
  },
  {
   "cell_type": "markdown",
   "metadata": {
    "id": "vYh7zbJpCajJ"
   },
   "source": [
    "## **5** Exploratory Recipe Data Analysis on Validation Dataset (Optional)<font color = red> [0 marks]</font> <br>"
   ]
  },
  {
   "cell_type": "markdown",
   "metadata": {
    "id": "K2wPIaOGCmk2"
   },
   "source": [
    "#### **5.1** *Execute EDA on Validation Dataset with insights (Optional)* <font color = red> [0 marks]</font> <br>\n",
    "Initialise the dataset_name as ***Validation*** and call the ***plot_top_items*** for top 10 ingredients and units in the recipe data\n",
    "Provide the insights for the same.\n",
    "\n"
   ]
  },
  {
   "cell_type": "code",
   "execution_count": 34,
   "metadata": {
    "id": "atSk0ChLPXHd"
   },
   "outputs": [
    {
     "name": "stdout",
     "output_type": "stream",
     "text": [
      "Dataset name set to: Validation\n"
     ]
    }
   ],
   "source": [
    "# initialise the dataset_name\n",
    "dataset_name = 'Validation'\n",
    "print(f\"Dataset name set to: {dataset_name}\")\n"
   ]
  },
  {
   "cell_type": "code",
   "execution_count": 35,
   "metadata": {
    "id": "AFPxheIuj1o8"
   },
   "outputs": [
    {
     "name": "stdout",
     "output_type": "stream",
     "text": [
      "=== Validation Dataset Token Extraction ===\n",
      "Total Validation input tokens: 2876\n",
      "Total Validation POS tokens: 2876\n",
      "Lengths match: True\n",
      "\n",
      "First 10 input tokens: ['1', 'cup', 'Ada', '2', 'liter', 'Milk', '3/4', 'Sugar', 'tablespoon', 'Ghee']\n",
      "First 10 POS tokens: ['quantity', 'unit', 'ingredient', 'quantity', 'unit', 'ingredient', 'quantity', 'ingredient', 'unit', 'ingredient']\n",
      "Categorization completed:\n",
      "- Ingredients: 2107 tokens\n",
      "- Units: 358 tokens\n",
      "- Quantities: 411 tokens\n",
      "- Total: 2876 tokens\n",
      "✅ All expected labels found in the dataset\n",
      "=== Top 10 Most Frequent Ingredients in Validation Dataset ===\n",
      "Total unique ingredients: 546\n",
      "Total ingredient occurrences: 2107\n",
      "\n",
      "Top 10 ingredients:\n",
      "--------------------------------------------------\n",
      " 1. powder               :   54 (  2.6%)\n",
      " 2. Salt                 :   47 (  2.2%)\n",
      " 3. Oil                  :   39 (  1.9%)\n",
      " 4. Red                  :   39 (  1.9%)\n",
      " 5. seeds                :   36 (  1.7%)\n",
      " 6. Chilli               :   36 (  1.7%)\n",
      " 7. chopped              :   31 (  1.5%)\n",
      " 8. Green                :   30 (  1.4%)\n",
      " 9. Leaves               :   29 (  1.4%)\n",
      "10. Coriander            :   27 (  1.3%)\n",
      "\n",
      "==================================================\n",
      "=== Top 10 Most Frequent Units in Validation Dataset ===\n",
      "Total unique units: 44\n",
      "Total unit occurrences: 358\n",
      "\n",
      "Top 10 units:\n",
      "--------------------------------------------------\n",
      " 1. teaspoon             :   59 ( 16.5%)\n",
      " 2. cup                  :   57 ( 15.9%)\n",
      " 3. tablespoon           :   32 (  8.9%)\n",
      " 4. tablespoons          :   32 (  8.9%)\n",
      " 5. cups                 :   24 (  6.7%)\n",
      " 6. sprig                :   21 (  5.9%)\n",
      " 7. inch                 :   20 (  5.6%)\n",
      " 8. grams                :   19 (  5.3%)\n",
      " 9. teaspoons            :   18 (  5.0%)\n",
      "10. cloves               :   16 (  4.5%)\n"
     ]
    }
   ],
   "source": [
    "# use extract and validate tokens, categorise tokens, get top frequent items for ingredient list and unit list on validation dataframe\n",
    "\n",
    "# Extract and validate tokens from validation dataset\n",
    "val_tokens, val_pos_tags = extract_and_validate_tokens(val_df, dataset_name)\n",
    "\n",
    "# Categorize tokens into ingredients, units, and quantities\n",
    "val_ingredients_list, val_units_list, val_quantities_list = categorize_tokens(val_tokens, val_pos_tags)\n",
    "\n",
    "# Get top frequent items for validation dataset\n",
    "val_top_ingredients = get_top_frequent_items(val_ingredients_list, 'ingredient', dataset_name)\n",
    "print(\"\\n\" + \"=\"*50)\n",
    "val_top_units = get_top_frequent_items(val_units_list, 'unit', dataset_name)\n"
   ]
  },
  {
   "cell_type": "code",
   "execution_count": 36,
   "metadata": {
    "id": "ikwox7ccMaU8"
   },
   "outputs": [
    {
     "data": {
      "image/png": "[encoded data removed]",
      "text/plain": [
       "<Figure size 1200x800 with 1 Axes>"
      ]
     },
     "metadata": {},
     "output_type": "display_data"
    },
    {
     "name": "stdout",
     "output_type": "stream",
     "text": [
      "Bar plot displayed for top 10 ingredients in Validation dataset\n"
     ]
    }
   ],
   "source": [
    "# plot the top frequent ingredients in validation data\n",
    "plot_top_items(val_top_ingredients, 'ingredient', dataset_name)\n"
   ]
  },
  {
   "cell_type": "code",
   "execution_count": 37,
   "metadata": {
    "id": "9QjVeMWpPwKO"
   },
   "outputs": [
    {
     "data": {
      "image/png": "[encoded data removed]",
      "text/plain": [
       "<Figure size 1200x800 with 1 Axes>"
      ]
     },
     "metadata": {},
     "output_type": "display_data"
    },
    {
     "name": "stdout",
     "output_type": "stream",
     "text": [
      "Bar plot displayed for top 10 units in Validation dataset\n",
      "\n",
      "============================================================\n",
      "VALIDATION DATASET INSIGHTS:\n",
      "============================================================\n",
      "✅ CONSISTENCY CHECK - Training vs Validation:\n",
      "• Same top ingredients: powder, Salt, Oil, Red, seeds, Chilli\n",
      "• Same top units: teaspoon, cup, tablespoon\n",
      "• Similar distribution patterns observed\n",
      "• Validation data is representative of training data\n",
      "• Model should generalize well on this validation set\n"
     ]
    }
   ],
   "source": [
    "# plot the top frequent units in validation data\n",
    "plot_top_items(val_top_units, 'unit', dataset_name)\n",
    "\n",
    "# Validation insights\n",
    "print(\"\\n\" + \"=\"*60)\n",
    "print(\"VALIDATION DATASET INSIGHTS:\")\n",
    "print(\"=\"*60)\n",
    "print(\"✅ CONSISTENCY CHECK - Training vs Validation:\")\n",
    "print(\"• Same top ingredients: powder, Salt, Oil, Red, seeds, Chilli\")\n",
    "print(\"• Same top units: teaspoon, cup, tablespoon\")\n",
    "print(\"• Similar distribution patterns observed\")\n",
    "print(\"• Validation data is representative of training data\")\n",
    "print(\"• Model should generalize well on this validation set\")\n"
   ]
  },
  {
   "cell_type": "markdown",
   "metadata": {
    "id": "IvE92ait9GIS"
   },
   "source": [
    "## **6** Feature Extraction For CRF Model <font color = red>[30 marks]</font> <br>"
   ]
  },
  {
   "cell_type": "markdown",
   "metadata": {
    "id": "Gc5Q_Lj09GIT"
   },
   "source": [
    "### **6.1** *Define a feature functions to take each token from recipe* <font color = red>[10 marks]</font>\n",
    "\n",
    "Define a function as ***word2features*** which takes a particular recipe and its index to work with all recipe input tokens and include custom key-value pairs.\n",
    "\n",
    "Also, use feature key-value pairs to mark the beginning and end of the sequence and to also check whether the word belongs to unit, quantity etc. Use keyword sets for unit and quantity for differentiating feature functions well. Also make use of relevant regex patterns on fractions, whole numbers etc."
   ]
  },
  {
   "cell_type": "markdown",
   "metadata": {
    "id": "pyxmQ0PrhBra"
   },
   "source": [
    "##### **6.1.1** **Define keywords for unit and quantity and create a quantity pattern to work on fractions, numbers and decimals** <font color = red>[3 marks]</font> <br>\n",
    "\n",
    "Create sets for **unit_keywords** and ***quantity_keywords*** and include all the words relevant for measuring the ingredients such as cup, tbsp, tsp etc. and in quantity keywords, include words such as half, quarter etc.\n",
    "\n",
    "Also suggested to use regex pattern as ***quantity_pattern*** to work with quantity in any format such as fractions, numbers and decimals.\n",
    "\n",
    "Then, load the spacy model and process the entire sentence"
   ]
  },
  {
   "cell_type": "code",
   "execution_count": 2,
   "metadata": {
    "id": "GhFUPxeth0KI"
   },
   "outputs": [
    {
     "name": "stdout",
     "output_type": "stream",
     "text": [
      "Keywords and patterns defined successfully!\n",
      "Unit keywords: 72 items\n",
      "Quantity keywords: 34 items\n",
      "Quantity pattern compiled for: decimals, fractions, mixed numbers, whole numbers\n"
     ]
    }
   ],
   "source": [
    "# define unit and quantity keywords along with quantity pattern\n",
    "\n",
    "# Unit keywords - common measurement units in recipes\n",
    "unit_keywords = {\n",
    "    'cup', 'cups', 'tablespoon', 'tablespoons', 'tbsp', 'tbs',\n",
    "    'teaspoon', 'teaspoons', 'tsp', 'ts',\n",
    "    'ounce', 'ounces', 'oz', 'pound', 'pounds', 'lb', 'lbs',\n",
    "    'gram', 'grams', 'g', 'kilogram', 'kilograms', 'kg',\n",
    "    'liter', 'liters', 'l', 'milliliter', 'milliliters', 'ml',\n",
    "    'inch', 'inches', 'in', 'foot', 'feet', 'ft',\n",
    "    'quart', 'quarts', 'qt', 'pint', 'pints', 'pt',\n",
    "    'gallon', 'gallons', 'gal', 'piece', 'pieces', 'pc', 'pcs',\n",
    "    'slice', 'slices', 'clove', 'cloves', 'sprig', 'sprigs',\n",
    "    'bunch', 'bunches', 'head', 'heads', 'stick', 'sticks',\n",
    "    'can', 'cans', 'bottle', 'bottles', 'package', 'packages',\n",
    "    'pinch', 'pinches', 'dash', 'dashes', 'drop', 'drops'\n",
    "}\n",
    "\n",
    "# Quantity keywords - words that indicate quantity\n",
    "quantity_keywords = {\n",
    "    'half', 'quarter', 'third', 'whole', 'dozen', 'few', 'some',\n",
    "    'little', 'bit', 'lots', 'many', 'several', 'pair', 'couple',\n",
    "    'one', 'two', 'three', 'four', 'five', 'six', 'seven', 'eight', \n",
    "    'nine', 'ten', 'eleven', 'twelve', 'thirteen', 'fourteen', 'fifteen',\n",
    "    'sixteen', 'seventeen', 'eighteen', 'nineteen', 'twenty'\n",
    "}\n",
    "\n",
    "# Quantity pattern - regex to match various quantity formats\n",
    "quantity_pattern = re.compile(r'''\n",
    "    (\n",
    "        \\d+\\.\\d+|                    # Decimal numbers (e.g., 2.5, 1.75)\n",
    "        \\d+\\s*-\\s*\\d+/\\d+|          # Range fractions (e.g., 2-1/2, 1-3/4)\n",
    "        \\d+/\\d+|                    # Simple fractions (e.g., 1/2, 3/4)\n",
    "        \\d+\\s*\\d+/\\d+|              # Mixed numbers (e.g., 1 1/2, 2 3/4)\n",
    "        \\d+                         # Whole numbers (e.g., 1, 2, 10)\n",
    "    )\n",
    "''', re.VERBOSE)\n",
    "\n",
    "print(\"Keywords and patterns defined successfully!\")\n",
    "print(f\"Unit keywords: {len(unit_keywords)} items\")\n",
    "print(f\"Quantity keywords: {len(quantity_keywords)} items\")\n",
    "print(\"Quantity pattern compiled for: decimals, fractions, mixed numbers, whole numbers\")\n"
   ]
  },
  {
   "cell_type": "code",
   "execution_count": 3,
   "metadata": {
    "id": "9qmM8rw4VtJh"
   },
   "outputs": [
    {
     "name": "stdout",
     "output_type": "stream",
     "text": [
      "❌ spaCy model 'en_core_web_sm' not found. Downloading...\n",
      "❌ Could not download spaCy model. Creating a basic nlp object...\n",
      "✅ Basic spaCy model created successfully!\n",
      "spaCy model ready for feature extraction!\n"
     ]
    }
   ],
   "source": [
    "# load spaCy model\n",
    "try:\n",
    "    # Try to load the English model\n",
    "    nlp = spacy.load(\"en_core_web_sm\")\n",
    "    print(\"✅ spaCy model 'en_core_web_sm' loaded successfully!\")\n",
    "except OSError:\n",
    "    print(\"❌ spaCy model 'en_core_web_sm' not found. Downloading...\")\n",
    "    try:\n",
    "        # Download the model\n",
    "        import subprocess\n",
    "        subprocess.run([\"python\", \"-m\", \"spacy\", \"download\", \"en_core_web_sm\"], check=True)\n",
    "        nlp = spacy.load(\"en_core_web_sm\")\n",
    "        print(\"✅ spaCy model downloaded and loaded successfully!\")\n",
    "    except Exception as e:\n",
    "        print(f\"❌ Could not download spaCy model. Creating a basic nlp object...\")\n",
    "        # Create a minimal spaCy nlp object for basic tokenization\n",
    "        try:\n",
    "            nlp = spacy.blank(\"en\")\n",
    "            print(\"✅ Basic spaCy model created successfully!\")\n",
    "        except Exception as e2:\n",
    "            print(f\"❌ Error creating spaCy model: {e2}\")\n",
    "            nlp = None\n",
    "\n",
    "if nlp is not None:\n",
    "    print(\"spaCy model ready for feature extraction!\")\n"
   ]
  },
  {
   "cell_type": "markdown",
   "metadata": {
    "id": "vrYD5tMNiFc-"
   },
   "source": [
    "##### **6.1.2** **Define feature functions for CRF** <font color = red>[7 marks]</font> <br>\n",
    "\n",
    "Define ***word2features*** function and use the parameters such as sentence and its indexing as ***sent*** and ***i*** for extracting token level features for CRF Training.\n",
    "Build ***features*** dictionary, also mark the beginning and end of the sequence and use the ***unit_keywords***, ***quantity_keywords*** and ***quantity_pattern*** for knowing the presence of quantity or unit in the tokens"
   ]
  },
  {
   "cell_type": "markdown",
   "metadata": {
    "id": "yAjf6j-dQtpr"
   },
   "source": [
    "While building ***features*** dictionary, include\n",
    "- ***Core Features*** - The core features of a token should capture its lexical\n",
    "and grammatical properties. Include attributes like the raw token, its lemma, part-of-speech tag, dependency relation, and shape, as well as indicators for whether it's a stop word, digit, or punctuation. The details of the features are given below:\n",
    "\n",
    "    - `bias` - Constant feature with a fixed value of 1.0 to aid model learning.\n",
    "    - `token` - The lowercase form of the current token.\n",
    "    - `lemma` - The lowercase lemma (base form) of the token.\n",
    "    - `pos_tag` - Part-of-speech (POS) tag of the token.\n",
    "    - `tag` - Detailed POS tag of the token.\n",
    "    - `dep` - Dependency relation of the token in the sentence.\n",
    "    - `shape` - Shape of the token (e.g., \"Xxx\" for \"Milk\").\n",
    "    - `is_stop` - Boolean indicating if the token is a stopword.\n",
    "    - `is_digit` - Boolean indicating if the token consists of only digits.\n",
    "    - `has_digit` - Boolean indicating if the token contains at least one digit.\n",
    "    - `has_alpha` - Boolean indicating if the token contains at least one alphabetic character.\n",
    "    - `hyphenated` - Boolean indicating if the token contains a hyphen (-).\n",
    "    - `slash_present` - Boolean indicating if the token contains a slash (/).\n",
    "    - `is_title` - Boolean indicating if the token starts with an uppercase letter.\n",
    "    - `is_upper` - Boolean indicating if the token is fully uppercase.\n",
    "    - `is_punct` - Boolean indicating if the token is a punctuation mark.\n",
    "\n",
    "- ***Improved Quantity and Unit Detection*** - Use key-value pairs to mark the presence of quantities and units in the features dictionary. Utilise the unit_keywords, quantity_keywords, and quantity_pattern to identify and flag these elements. The details of the features are given below:\n",
    "\n",
    "    - `is_quantity` - Boolean indicating if the token matches a quantity pattern or keyword.\n",
    "    - `is_unit` - Boolean indicating if the token is a known measurement unit.\n",
    "    - `is_numeric` - Boolean indicating if the token matches a numeric pattern.\n",
    "    - `is_fraction` - Boolean indicating if the token represents a fraction (e.g., 1/2).\n",
    "    - `is_decimal` - Boolean indicating if the token represents a decimal number (e.g., 3.14).\n",
    "    - `preceding_word` - The previous token in the sentence, if available.\n",
    "    - `following_word` - The next token in the sentence, if available.\n",
    "\n",
    "- ***Contextual Features*** - Incorporate contextual information by adding features for the preceding and following tokens. Include indicators like BOS and EOS to mark the beginning and end of the sequence, and utilise unit_keywords, quantity_keywords, and quantity_pattern to identify the types of neighboring tokens. The features are given below:\n",
    "\n",
    "    - `prev_token` - The lowercase form of the previous token.\n",
    "    - `prev_is_quantity` - Boolean indicating if the previous token is a quantity.\n",
    "    - `prev_is_digit` - Boolean indicating if the previous token is a digit.\n",
    "    - `BOS` - Boolean indicating if the token is at the beginning of the sentence.\n",
    "    - `next_token` - The lowercase form of the next token.\n",
    "    - `next_is_unit` - Boolean indicating if the next token is a unit.\n",
    "    - `next_is_ingredient` - Boolean indicating if the next token is not a unit or quantity.\n",
    "    - `EOS` - Boolean indicating if the token is at the end of the sentence.\n",
    "\n"
   ]
  },
  {
   "cell_type": "code",
   "execution_count": 4,
   "metadata": {
    "id": "pRU7efTF9GIW"
   },
   "outputs": [
    {
     "name": "stdout",
     "output_type": "stream",
     "text": [
      "word2features function defined successfully!\n",
      "Features include: Core features, Quantity/Unit detection, Contextual features\n"
     ]
    }
   ],
   "source": [
    "# define word2features for processing each token in the sentence sent by using index i.\n",
    "# use your own feature functions\n",
    "\n",
    "def word2features(sent, i):\n",
    "    \"\"\"\n",
    "    Extract comprehensive features for a token at position i in sentence sent\n",
    "    \n",
    "    Args:\n",
    "        sent: List of tokens (sentence)\n",
    "        i: Index of current token\n",
    "        \n",
    "    Returns:\n",
    "        dict: Dictionary of features for the token\n",
    "    \"\"\"\n",
    "    # Initialize features dictionary\n",
    "    features = {}\n",
    "    \n",
    "    # Get current token\n",
    "    word = sent[i]\n",
    "    \n",
    "    # Process the entire sentence with spaCy\n",
    "    if nlp is not None:\n",
    "        try:\n",
    "            doc = nlp(' '.join(sent))\n",
    "            if i < len(doc):\n",
    "                token = doc[i]\n",
    "            else:\n",
    "                token = None\n",
    "        except:\n",
    "            token = None\n",
    "    else:\n",
    "        token = None\n",
    "\n",
    "    # --- Core Features ---\n",
    "    features['bias'] = 1.0\n",
    "    features['token'] = word.lower()\n",
    "    features['lemma'] = token.lemma_.lower() if token else word.lower()\n",
    "    features['pos_tag'] = token.pos_ if token else 'UNKNOWN'\n",
    "    features['tag'] = token.tag_ if token else 'UNKNOWN'\n",
    "    features['dep'] = token.dep_ if token else 'UNKNOWN'\n",
    "    features['shape'] = token.shape_ if token else word\n",
    "    features['is_stop'] = token.is_stop if token else False\n",
    "    features['is_digit'] = word.isdigit()\n",
    "    features['has_digit'] = any(c.isdigit() for c in word)\n",
    "    features['has_alpha'] = any(c.isalpha() for c in word)\n",
    "    features['hyphenated'] = '-' in word\n",
    "    features['slash_present'] = '/' in word\n",
    "    features['is_title'] = word.istitle()\n",
    "    features['is_upper'] = word.isupper()\n",
    "    features['is_punct'] = token.is_punct if token else not word.isalnum()\n",
    "\n",
    "    # --- Improved Quantity & Unit Detection ---\n",
    "    features['is_quantity'] = (word.lower() in quantity_keywords or \n",
    "                              bool(quantity_pattern.match(word)))\n",
    "    features['is_unit'] = word.lower() in unit_keywords\n",
    "    features['is_numeric'] = bool(re.match(r'^\\d+$', word))\n",
    "    features['is_fraction'] = bool(re.match(r'^\\d+/\\d+$', word))\n",
    "    features['is_decimal'] = bool(re.match(r'^\\d+\\.\\d+$', word))\n",
    "    \n",
    "    # Get preceding and following words\n",
    "    features['preceding_word'] = sent[i-1].lower() if i > 0 else ''\n",
    "    features['following_word'] = sent[i+1].lower() if i < len(sent)-1 else ''\n",
    "\n",
    "    # --- Contextual Features ---\n",
    "    # Previous token features\n",
    "    if i > 0:\n",
    "        prev_word = sent[i-1]\n",
    "        features['prev_token'] = prev_word.lower()\n",
    "        features['prev_is_quantity'] = (prev_word.lower() in quantity_keywords or \n",
    "                                       bool(quantity_pattern.match(prev_word)))\n",
    "        features['prev_is_digit'] = prev_word.isdigit()\n",
    "        features['BOS'] = False\n",
    "    else:\n",
    "        features['prev_token'] = '<BOS>'\n",
    "        features['prev_is_quantity'] = False\n",
    "        features['prev_is_digit'] = False\n",
    "        features['BOS'] = True\n",
    "\n",
    "    # Next token features\n",
    "    if i < len(sent) - 1:\n",
    "        next_word = sent[i+1]\n",
    "        features['next_token'] = next_word.lower()\n",
    "        features['next_is_unit'] = next_word.lower() in unit_keywords\n",
    "        features['next_is_ingredient'] = (next_word.lower() not in unit_keywords and \n",
    "                                         next_word.lower() not in quantity_keywords and\n",
    "                                         not bool(quantity_pattern.match(next_word)))\n",
    "        features['EOS'] = False\n",
    "    else:\n",
    "        features['next_token'] = '<EOS>'\n",
    "        features['next_is_unit'] = False\n",
    "        features['next_is_ingredient'] = False\n",
    "        features['EOS'] = True\n",
    "    \n",
    "    # Additional contextual features\n",
    "    features['word_length'] = len(word)\n",
    "    features['starts_with_digit'] = word[0].isdigit() if word else False\n",
    "    features['ends_with_digit'] = word[-1].isdigit() if word else False\n",
    "    \n",
    "    return features\n",
    "\n",
    "print(\"word2features function defined successfully!\")\n",
    "print(\"Features include: Core features, Quantity/Unit detection, Contextual features\")\n"
   ]
  },
  {
   "cell_type": "markdown",
   "metadata": {
    "id": "hJm2nUw0998s"
   },
   "source": [
    "### **6.2** *Preparation of Recipe level features* <font color = red>[2 marks]</font>\n"
   ]
  },
  {
   "cell_type": "markdown",
   "metadata": {
    "id": "KL19ooQejA5z"
   },
   "source": [
    "##### **6.2.1** **Define function to work on all the recipes and call word2features for each recipe** <font color = red>[2 marks]</font> <br>\n",
    "\n",
    "Define ***sent2features*** function and inputs ***sent*** as a parameter and correctly generate feature functions for each token present in the sentence"
   ]
  },
  {
   "cell_type": "code",
   "execution_count": 9,
   "metadata": {
    "id": "NlQEifz-9GIW"
   },
   "outputs": [
    {
     "name": "stdout",
     "output_type": "stream",
     "text": [
      "sent2features function defined successfully!\n",
      "This function will extract features for each token in a recipe sentence.\n"
     ]
    }
   ],
   "source": [
    "# define sent2features by working on each token in the sentence and correctly generate dictionaries for features\n",
    "def sent2features(sent):\n",
    "    \"\"\"\n",
    "    Extract features for all tokens in a sentence\n",
    "    \n",
    "    Args:\n",
    "        sent: List of tokens (sentence)\n",
    "        \n",
    "    Returns:\n",
    "        list: List of feature dictionaries for each token\n",
    "    \"\"\"\n",
    "    return [word2features(sent, i) for i in range(len(sent))]\n",
    "\n",
    "print(\"sent2features function defined successfully!\")\n",
    "print(\"This function will extract features for each token in a recipe sentence.\")\n"
   ]
  },
  {
   "cell_type": "markdown",
   "metadata": {
    "id": "FOK0t3c6-RiV"
   },
   "source": [
    "### **6.3** *Convert X_train, X_val, y_train and y_val into train and validation feature sets and labels* <font color = red>[6 marks]</font>\n",
    "\n"
   ]
  },
  {
   "cell_type": "markdown",
   "metadata": {
    "id": "7tsd50b_nX0J"
   },
   "source": [
    "##### **6.3.1** **Convert recipe into feature functions by using X_train and X_val** <font color = red>[2 marks]</font> <br>\n",
    "\n",
    "Create ***X_train_features*** and ***X_val_features*** as list to include the feature functions for each recipe present in training and validation sets"
   ]
  },
  {
   "cell_type": "code",
   "execution_count": 21,
   "metadata": {
    "id": "-bVPGPa39GIW"
   },
   "outputs": [
    {
     "name": "stdout",
     "output_type": "stream",
     "text": [
      "Converting X_train and X_val into feature sets...\n",
      "Processed 1/199 training recipes\n",
      "Processed 51/199 training recipes\n",
      "Processed 101/199 training recipes\n",
      "Processed 151/199 training recipes\n",
      "X_train_features created with 199 recipes\n",
      "Processed 1/86 validation recipes\n",
      "Processed 26/86 validation recipes\n",
      "Processed 51/86 validation recipes\n",
      "Processed 76/86 validation recipes\n",
      "X_val_features created with 86 recipes\n",
      "\n",
      "Feature extraction completed!\n",
      "X_train_features type: <class 'list'>, length: 199\n",
      "X_val_features type: <class 'list'>, length: 86\n",
      "\n",
      "Sample features for first token of first recipe:\n",
      "Token: 15\n",
      "Features: ['bias', 'token', 'lemma', 'pos_tag', 'tag', 'dep', 'shape', 'is_stop', 'is_digit', 'has_digit']...\n"
     ]
    }
   ],
   "source": [
    "# Convert input sentences into feature sets by taking training and validation dataset as X_train_features and X_val_features\n",
    "\n",
    "print(\"Converting X_train and X_val into feature sets...\")\n",
    "\n",
    "# Convert training data to features\n",
    "X_train_features = []\n",
    "for i, recipe in enumerate(X_train):\n",
    "    features = sent2features(recipe)\n",
    "    X_train_features.append(features)\n",
    "    if i % 50 == 0:\n",
    "        print(f\"Processed {i+1}/{len(X_train)} training recipes\")\n",
    "\n",
    "print(f\"X_train_features created with {len(X_train_features)} recipes\")\n",
    "\n",
    "# Convert validation data to features\n",
    "X_val_features = []\n",
    "for i, recipe in enumerate(X_val):\n",
    "    features = sent2features(recipe)\n",
    "    X_val_features.append(features)\n",
    "    if i % 25 == 0:\n",
    "        print(f\"Processed {i+1}/{len(X_val)} validation recipes\")\n",
    "\n",
    "print(f\"X_val_features created with {len(X_val_features)} recipes\")\n",
    "\n",
    "print(\"\\nFeature extraction completed!\")\n",
    "print(f\"X_train_features type: {type(X_train_features)}, length: {len(X_train_features)}\")\n",
    "print(f\"X_val_features type: {type(X_val_features)}, length: {len(X_val_features)}\")\n",
    "\n",
    "# Show sample features for first recipe\n",
    "print(f\"\\nSample features for first token of first recipe:\")\n",
    "print(f\"Token: {X_train[0][0]}\")\n",
    "print(f\"Features: {list(X_train_features[0][0].keys())[:10]}...\")  # Show first 10 feature names\n"
   ]
  },
  {
   "cell_type": "markdown",
   "metadata": {
    "id": "jcwmwXn-n6cs"
   },
   "source": [
    "##### **6.3.2** **Convert lables of y_train and y_val into list** <font color = red>[2 marks]</font> <br>\n",
    "\n",
    "Create ***y_train_labels*** and ***y_val_labels*** by using the list of y_train and y_val"
   ]
  },
  {
   "cell_type": "code",
   "execution_count": 22,
   "metadata": {
    "id": "TiGgP3O6nfPg"
   },
   "outputs": [
    {
     "name": "stdout",
     "output_type": "stream",
     "text": [
      "Labels converted to list format!\n",
      "y_train_labels type: <class 'list'>, length: 199\n",
      "y_val_labels type: <class 'list'>, length: 86\n",
      "\n",
      "Sample labels from first recipe:\n",
      "Original y_train[0]: ['quantity', 'ingredient', 'ingredient', 'ingredient', 'ingredient', 'ingredient', 'quantity', 'unit', 'ingredient', 'quantity']...\n",
      "y_train_labels[0]: ['quantity', 'ingredient', 'ingredient', 'ingredient', 'ingredient', 'ingredient', 'quantity', 'unit', 'ingredient', 'quantity']...\n",
      "Length of first recipe labels: 41\n"
     ]
    }
   ],
   "source": [
    "# Convert labels into list as y_train_labels and y_val_labels\n",
    "\n",
    "# y_train and y_val are already lists of lists, so we can use them directly\n",
    "y_train_labels = y_train.copy()\n",
    "y_val_labels = y_val.copy()\n",
    "\n",
    "print(\"Labels converted to list format!\")\n",
    "print(f\"y_train_labels type: {type(y_train_labels)}, length: {len(y_train_labels)}\")\n",
    "print(f\"y_val_labels type: {type(y_val_labels)}, length: {len(y_val_labels)}\")\n",
    "\n",
    "# Verify the structure\n",
    "print(f\"\\nSample labels from first recipe:\")\n",
    "print(f\"Original y_train[0]: {y_train[0][:10]}...\")\n",
    "print(f\"y_train_labels[0]: {y_train_labels[0][:10]}...\")\n",
    "print(f\"Length of first recipe labels: {len(y_train_labels[0])}\")\n"
   ]
  },
  {
   "cell_type": "markdown",
   "metadata": {
    "id": "4c-kjqtaoZvb"
   },
   "source": [
    "##### **6.3.3** **Print the length of val and train features and labels** <font color = red>[2 marks]</font> <br>\n",
    "\n"
   ]
  },
  {
   "cell_type": "code",
   "execution_count": 23,
   "metadata": {
    "id": "mWId2Nn0okMV"
   },
   "outputs": [
    {
     "name": "stdout",
     "output_type": "stream",
     "text": [
      "TRAINING DATASET LENGTHS:\n",
      "========================================\n",
      "X_train_features length: 199\n",
      "y_train_labels length: 199\n",
      "Total training tokens: 7076\n",
      "Total training labels: 7073\n",
      "Average tokens per recipe: 35.6\n",
      "✅ Training features and labels are consistent!\n"
     ]
    }
   ],
   "source": [
    "# print the length of train features and labels\n",
    "\n",
    "print(\"TRAINING DATASET LENGTHS:\")\n",
    "print(\"=\" * 40)\n",
    "print(f\"X_train_features length: {len(X_train_features)}\")\n",
    "print(f\"y_train_labels length: {len(y_train_labels)}\")\n",
    "\n",
    "# Additional details\n",
    "total_train_tokens = sum(len(recipe) for recipe in X_train_features)\n",
    "total_train_labels = sum(len(labels) for labels in y_train_labels)\n",
    "\n",
    "print(f\"Total training tokens: {total_train_tokens}\")\n",
    "print(f\"Total training labels: {total_train_labels}\")\n",
    "print(f\"Average tokens per recipe: {total_train_tokens / len(X_train_features):.1f}\")\n",
    "\n",
    "# Verify consistency\n",
    "assert len(X_train_features) == len(y_train_labels), \"Mismatch in number of recipes!\"\n",
    "print(\"✅ Training features and labels are consistent!\")\n"
   ]
  },
  {
   "cell_type": "code",
   "execution_count": 24,
   "metadata": {
    "id": "LAt_m_LubRvn"
   },
   "outputs": [
    {
     "name": "stdout",
     "output_type": "stream",
     "text": [
      "VALIDATION DATASET LENGTHS:\n",
      "========================================\n",
      "X_val_features length: 86\n",
      "y_val_labels length: 86\n",
      "Total validation tokens: 3076\n",
      "Total validation labels: 3074\n",
      "Average tokens per recipe: 35.8\n",
      "✅ Validation features and labels are consistent!\n",
      "\n",
      "OVERALL SUMMARY:\n",
      "========================================\n",
      "Training recipes: 199\n",
      "Validation recipes: 86\n",
      "Total recipes: 285\n",
      "Train/Val split ratio: 69.8%/30.2%\n"
     ]
    }
   ],
   "source": [
    "# print the length of validation features and labels\n",
    "\n",
    "print(\"VALIDATION DATASET LENGTHS:\")\n",
    "print(\"=\" * 40)\n",
    "print(f\"X_val_features length: {len(X_val_features)}\")\n",
    "print(f\"y_val_labels length: {len(y_val_labels)}\")\n",
    "\n",
    "# Additional details\n",
    "total_val_tokens = sum(len(recipe) for recipe in X_val_features)\n",
    "total_val_labels = sum(len(labels) for labels in y_val_labels)\n",
    "\n",
    "print(f\"Total validation tokens: {total_val_tokens}\")\n",
    "print(f\"Total validation labels: {total_val_labels}\")\n",
    "print(f\"Average tokens per recipe: {total_val_tokens / len(X_val_features):.1f}\")\n",
    "\n",
    "# Verify consistency\n",
    "assert len(X_val_features) == len(y_val_labels), \"Mismatch in number of recipes!\"\n",
    "print(\"✅ Validation features and labels are consistent!\")\n",
    "\n",
    "print(\"\\nOVERALL SUMMARY:\")\n",
    "print(\"=\" * 40)\n",
    "print(f\"Training recipes: {len(X_train_features)}\")\n",
    "print(f\"Validation recipes: {len(X_val_features)}\")\n",
    "print(f\"Total recipes: {len(X_train_features) + len(X_val_features)}\")\n",
    "print(f\"Train/Val split ratio: {len(X_train_features)/(len(X_train_features) + len(X_val_features)):.1%}/{len(X_val_features)/(len(X_train_features) + len(X_val_features)):.1%}\")\n"
   ]
  },
  {
   "cell_type": "markdown",
   "metadata": {
    "id": "dZffFBH-pVhx"
   },
   "source": [
    "### **6.4** *Applying weights to feature sets* <font color = red>[12 marks]</font> <br>\n",
    "\n",
    "\n"
   ]
  },
  {
   "cell_type": "markdown",
   "metadata": {
    "id": "Goh_fX-6pqhN"
   },
   "source": [
    "##### **6.4.1** **Flatten the labels of y_train** <font color = red>[2 marks]</font> <br>\n",
    "\n",
    "Create ***y_train_flat*** to flatten the structure of nested y_train"
   ]
  },
  {
   "cell_type": "code",
   "execution_count": 25,
   "metadata": {
    "id": "adLWfYn_p3gM"
   },
   "outputs": [
    {
     "name": "stdout",
     "output_type": "stream",
     "text": [
      "y_train_flat created!\n",
      "Original y_train_labels: 199 recipes\n",
      "Flattened y_train_flat: 7073 individual labels\n",
      "\n",
      "First 20 flattened labels: ['quantity', 'ingredient', 'ingredient', 'ingredient', 'ingredient', 'ingredient', 'quantity', 'unit', 'ingredient', 'quantity', 'unit', 'ingredient', 'quantity', 'ingredient', 'ingredient', 'quantity', 'unit', 'ingredient', 'ingredient', 'ingredient']\n",
      "\n",
      "Verification:\n",
      "Total labels in original nested structure: 7073\n",
      "Total labels in flattened structure: 7073\n",
      "✅ Labels preserved correctly!\n"
     ]
    }
   ],
   "source": [
    "# Flatten labels in y_train\n",
    "\n",
    "# Flatten the nested list structure of y_train_labels\n",
    "y_train_flat = []\n",
    "for recipe_labels in y_train_labels:\n",
    "    y_train_flat.extend(recipe_labels)\n",
    "\n",
    "print(f\"y_train_flat created!\")\n",
    "print(f\"Original y_train_labels: {len(y_train_labels)} recipes\")\n",
    "print(f\"Flattened y_train_flat: {len(y_train_flat)} individual labels\")\n",
    "\n",
    "# Show sample of flattened labels\n",
    "print(f\"\\nFirst 20 flattened labels: {y_train_flat[:20]}\")\n",
    "\n",
    "# Verify that flattening preserved all labels\n",
    "total_original_labels = sum(len(recipe) for recipe in y_train_labels)\n",
    "print(f\"\\nVerification:\")\n",
    "print(f\"Total labels in original nested structure: {total_original_labels}\")\n",
    "print(f\"Total labels in flattened structure: {len(y_train_flat)}\")\n",
    "print(f\"✅ Labels preserved correctly!\" if total_original_labels == len(y_train_flat) else \"❌ Label count mismatch!\")\n"
   ]
  },
  {
   "cell_type": "markdown",
   "metadata": {
    "id": "qk9UMBrbp9dp"
   },
   "source": [
    "##### **6.4.2** **Count the labels present in training target dataset** <font color = red>[2 marks]</font> <br>\n",
    "\n",
    "Create ***label_counts*** to count the frequencies of labels present in y_train_flat and retrieve the total samples by using the values of label_counts as ***total_samples***"
   ]
  },
  {
   "cell_type": "code",
   "execution_count": 26,
   "metadata": {
    "id": "6Kiu8jckqZSH"
   },
   "outputs": [
    {
     "name": "stdout",
     "output_type": "stream",
     "text": [
      "LABEL FREQUENCY ANALYSIS:\n",
      "==================================================\n",
      "Total samples: 7073\n",
      "Number of unique labels: 3\n",
      "\n",
      "Label distribution:\n",
      "------------------------------\n",
      "ingredient  :  5251 ( 74.2%)\n",
      "quantity    :   989 ( 14.0%)\n",
      "unit        :   833 ( 11.8%)\n",
      "\n",
      "Label counts dictionary: {'quantity': 989, 'ingredient': 5251, 'unit': 833}\n",
      "Total samples: 7073\n",
      "✅ Total samples calculation verified!\n"
     ]
    }
   ],
   "source": [
    "# Count label frequencies as label_counts and total_samples as getting the summation of values of label_counts\n",
    "\n",
    "# Count the frequency of each label in the flattened training labels\n",
    "label_counts = {}\n",
    "for label in y_train_flat:\n",
    "    label_counts[label] = label_counts.get(label, 0) + 1\n",
    "\n",
    "# Calculate total samples\n",
    "total_samples = sum(label_counts.values())\n",
    "\n",
    "print(\"LABEL FREQUENCY ANALYSIS:\")\n",
    "print(\"=\" * 50)\n",
    "print(f\"Total samples: {total_samples}\")\n",
    "print(f\"Number of unique labels: {len(label_counts)}\")\n",
    "\n",
    "print(\"\\nLabel distribution:\")\n",
    "print(\"-\" * 30)\n",
    "for label, count in sorted(label_counts.items(), key=lambda x: x[1], reverse=True):\n",
    "    percentage = (count / total_samples) * 100\n",
    "    print(f\"{label:12s}: {count:5d} ({percentage:5.1f}%)\")\n",
    "\n",
    "print(f\"\\nLabel counts dictionary: {label_counts}\")\n",
    "print(f\"Total samples: {total_samples}\")\n",
    "\n",
    "# Verify total_samples calculation\n",
    "assert total_samples == len(y_train_flat), \"Total samples calculation error!\"\n",
    "print(\"✅ Total samples calculation verified!\")\n"
   ]
  },
  {
   "cell_type": "markdown",
   "metadata": {
    "id": "4aCmDsZYqYA-"
   },
   "source": [
    "##### **6.4.3** **Compute weight_dict by using inverse frequency method for label weights** <font color = red>[2 marks]</font> <br>\n",
    "\n",
    "- Create ***weight_dict*** as dictionary with label and its inverse frequency count in ***label_counts***\n",
    "\n",
    "- Penalise ingredient label in the dictionary"
   ]
  },
  {
   "cell_type": "code",
   "execution_count": 27,
   "metadata": {
    "id": "FpbEAZ3zqxEo"
   },
   "outputs": [
    {
     "name": "stdout",
     "output_type": "stream",
     "text": [
      "CLASS WEIGHTS CALCULATION (Inverse Frequency Method):\n",
      "============================================================\n",
      "Formula: weight = total_samples / (num_classes * label_count)\n",
      "Total samples: 7073\n",
      "Number of classes: 3\n",
      "\n",
      "Class weights:\n",
      "------------------------------\n",
      "unit        : 2.8303 (count:  833)\n",
      "quantity    : 2.3839 (count:  989)\n",
      "ingredient  : 0.4490 (count: 5251)\n",
      "\n",
      "Weight dictionary: {'quantity': 2.3838894506235255, 'ingredient': 0.44899384244270935, 'unit': 2.8303321328531412}\n",
      "\n",
      "INTERPRETATION:\n",
      "- Higher weights for rarer classes (to balance the dataset)\n",
      "- Lower weights for more frequent classes\n",
      "- This helps the model pay more attention to underrepresented labels\n"
     ]
    }
   ],
   "source": [
    "# Compute class weights (inverse frequency method) by considering total_samples and label_counts\n",
    "\n",
    "# Calculate inverse frequency weights for each label\n",
    "weight_dict = {}\n",
    "for label, count in label_counts.items():\n",
    "    # Inverse frequency: total_samples / (number_of_classes * count)\n",
    "    weight_dict[label] = total_samples / (len(label_counts) * count)\n",
    "\n",
    "print(\"CLASS WEIGHTS CALCULATION (Inverse Frequency Method):\")\n",
    "print(\"=\" * 60)\n",
    "print(\"Formula: weight = total_samples / (num_classes * label_count)\")\n",
    "print(f\"Total samples: {total_samples}\")\n",
    "print(f\"Number of classes: {len(label_counts)}\")\n",
    "\n",
    "print(\"\\nClass weights:\")\n",
    "print(\"-\" * 30)\n",
    "for label, weight in sorted(weight_dict.items(), key=lambda x: x[1], reverse=True):\n",
    "    count = label_counts[label]\n",
    "    print(f\"{label:12s}: {weight:.4f} (count: {count:4d})\")\n",
    "\n",
    "print(f\"\\nWeight dictionary: {weight_dict}\")\n",
    "\n",
    "# Show the relationship: higher weights for less frequent classes\n",
    "print(\"\\nINTERPRETATION:\")\n",
    "print(\"- Higher weights for rarer classes (to balance the dataset)\")\n",
    "print(\"- Lower weights for more frequent classes\")\n",
    "print(\"- This helps the model pay more attention to underrepresented labels\")\n"
   ]
  },
  {
   "cell_type": "code",
   "execution_count": 28,
   "metadata": {
    "id": "hns3HbujXESs"
   },
   "outputs": [
    {
     "name": "stdout",
     "output_type": "stream",
     "text": [
      "BEFORE PENALIZING INGREDIENT LABEL:\n",
      "Original weight_dict: {'quantity': 2.3838894506235255, 'ingredient': 0.44899384244270935, 'unit': 2.8303321328531412}\n",
      "\n",
      "AFTER PENALIZING INGREDIENT LABEL (penalty factor: 0.5):\n",
      "Updated weight_dict: {'quantity': 2.3838894506235255, 'ingredient': 0.22449692122135467, 'unit': 2.8303321328531412}\n",
      "\n",
      "UPDATED CLASS WEIGHTS:\n",
      "------------------------------\n",
      "unit        : 2.8303 (count:  833)\n",
      "quantity    : 2.3839 (count:  989)\n",
      "ingredient  : 0.2245 (count: 5251)\n",
      "\n",
      "EFFECT OF PENALIZATION:\n",
      "- Ingredient weight reduced further to emphasize quantity and unit detection\n",
      "- This helps the model focus more on correctly identifying quantities and units\n",
      "- Useful since ingredients are often the majority class in recipe data\n"
     ]
    }
   ],
   "source": [
    "# penalise ingredient label\n",
    "\n",
    "print(\"BEFORE PENALIZING INGREDIENT LABEL:\")\n",
    "print(f\"Original weight_dict: {weight_dict}\")\n",
    "\n",
    "# Penalize the ingredient label by reducing its weight further\n",
    "# Since ingredient is already the most frequent class with lowest weight,\n",
    "# we can reduce it even more to emphasize quantity and unit detection\n",
    "penalty_factor = 0.5  # Reduce ingredient weight by half\n",
    "\n",
    "# Apply penalty to ingredient\n",
    "weight_dict['ingredient'] = weight_dict['ingredient'] * penalty_factor\n",
    "\n",
    "print(f\"\\nAFTER PENALIZING INGREDIENT LABEL (penalty factor: {penalty_factor}):\")\n",
    "print(f\"Updated weight_dict: {weight_dict}\")\n",
    "\n",
    "print(\"\\nUPDATED CLASS WEIGHTS:\")\n",
    "print(\"-\" * 30)\n",
    "for label, weight in sorted(weight_dict.items(), key=lambda x: x[1], reverse=True):\n",
    "    count = label_counts[label]\n",
    "    print(f\"{label:12s}: {weight:.4f} (count: {count:4d})\")\n",
    "\n",
    "print(\"\\nEFFECT OF PENALIZATION:\")\n",
    "print(\"- Ingredient weight reduced further to emphasize quantity and unit detection\")\n",
    "print(\"- This helps the model focus more on correctly identifying quantities and units\")\n",
    "print(\"- Useful since ingredients are often the majority class in recipe data\")\n"
   ]
  },
  {
   "cell_type": "markdown",
   "metadata": {
    "id": "V8TdHMlPrhh8"
   },
   "source": [
    "##### **6.4.4** **Extract features along with class weights** <font color = red>[4 marks]</font> <br>\n",
    "\n",
    "Define a function ***extract_features_with_class_weights*** to work with training and validation datasets and extract features by applying class weights\n",
    "\n",
    "\n",
    "\n"
   ]
  },
  {
   "cell_type": "code",
   "execution_count": 29,
   "metadata": {
    "id": "1km6GR4TjXPX"
   },
   "outputs": [
    {
     "name": "stdout",
     "output_type": "stream",
     "text": [
      "extract_features_with_class_weights function defined successfully!\n",
      "This function applies class weights to balance the training data.\n"
     ]
    }
   ],
   "source": [
    "# Apply weights to feature extraction in extract_features_with_class_weights by using parameters such as X (input tokens), y(labels) and weight_dict (Class weights)\n",
    "\n",
    "def extract_features_with_class_weights(X, y, weight_dict):\n",
    "    \"\"\"\n",
    "    Extract features from input data and apply class weights to labels\n",
    "    \n",
    "    Args:\n",
    "        X: List of feature dictionaries for each token (from sent2features)\n",
    "        y: List of labels for each token\n",
    "        weight_dict: Dictionary containing class weights for each label\n",
    "        \n",
    "    Returns:\n",
    "        tuple: (weighted_features, weighted_labels) where weights are applied\n",
    "    \"\"\"\n",
    "    weighted_features = []\n",
    "    weighted_labels = []\n",
    "    \n",
    "    # Process each recipe\n",
    "    for recipe_features, recipe_labels in zip(X, y):\n",
    "        # Ensure the number of features matches the number of labels\n",
    "        assert len(recipe_features) == len(recipe_labels), f\"Feature-label length mismatch: {len(recipe_features)} vs {len(recipe_labels)}\"\n",
    "        \n",
    "        # Process each token in the recipe\n",
    "        for token_features, label in zip(recipe_features, recipe_labels):\n",
    "            # Get the weight for this label\n",
    "            weight = weight_dict.get(label, 1.0)\n",
    "            \n",
    "            # Add weight information to features\n",
    "            weighted_token_features = token_features.copy()\n",
    "            weighted_token_features['class_weight'] = weight\n",
    "            weighted_token_features['label_weight_' + label] = weight\n",
    "            \n",
    "            # Append to weighted lists\n",
    "            weighted_features.append(weighted_token_features)\n",
    "            weighted_labels.append(label)\n",
    "    \n",
    "    print(f\"Processed {len(weighted_features)} tokens with class weights\")\n",
    "    print(f\"Applied weights: {weight_dict}\")\n",
    "    \n",
    "    return weighted_features, weighted_labels\n",
    "\n",
    "print(\"extract_features_with_class_weights function defined successfully!\")\n",
    "print(\"This function applies class weights to balance the training data.\")\n"
   ]
  },
  {
   "cell_type": "markdown",
   "metadata": {
    "id": "51ABmKwKsaiz"
   },
   "source": [
    "##### **6.4.5** **Execute extract_features_with_class_weights on training and validation datasets** <font color = red>[2 marks]</font> <br>\n",
    "\n",
    "Create ***X_train_weighted_features*** and ***X_val_weighted_features*** for extracting training and validation features along with their weights by calling ***extract_features_with_class_weights*** on the datasets"
   ]
  },
  {
   "cell_type": "code",
   "execution_count": 31,
   "metadata": {
    "id": "-XUFFnm5sYE6"
   },
   "outputs": [
    {
     "name": "stdout",
     "output_type": "stream",
     "text": [
      "INVESTIGATING FEATURE-LABEL LENGTH MISMATCH:\n",
      "==================================================\n",
      "Found 3 recipes with length mismatches:\n",
      "Recipe 82: 18 features vs 17 labels\n",
      "  Tokens: ['1', 'cup', 'Cashew', 'nuts', 'Badam', 'Almond', '1', '1/4', 'cups', 'Sugar']...\n",
      "  Labels: ['quantity', 'unit', 'ingredient', 'ingredient', 'ingredient', 'ingredient', 'quantity', 'unit', 'ingredient', 'quantity']...\n",
      "Recipe 88: 37 features vs 36 labels\n",
      "  Tokens: ['1', 'Baguette', 'sliced', '1', '1/2', 'tablespoon', 'Butter', '1/2', 'Garlic', 'minced']...\n",
      "  Labels: ['quantity', 'ingredient', 'ingredient', 'quantity', 'unit', 'ingredient', 'quantity', 'ingredient', 'ingredient', 'unit']...\n",
      "Recipe 160: 15 features vs 14 labels\n",
      "  Tokens: ['2', 'cups', 'curd', '1', 'cup', 'gourd', 'cucumber', 'green', 'cor', 'coriander']...\n",
      "  Labels: ['quantity', 'unit', 'ingredient', 'quantity', 'unit', 'ingredient', 'ingredient', 'ingredient', 'ingredient', 'quantity']...\n",
      "\n",
      "Filtering out 3 recipes with mismatched lengths...\n",
      "Training data: 199 -> 196 recipes\n",
      "Validation data: 86 -> 84 recipes\n",
      "\n",
      "APPLYING CLASS WEIGHTS TO CLEANED DATASETS:\n",
      "--------------------------------------------------\n",
      "Processing training dataset...\n",
      "Processed 7006 tokens with class weights\n",
      "Applied weights: {'quantity': 2.3838894506235255, 'ingredient': 0.22449692122135467, 'unit': 2.8303321328531412}\n",
      "\n",
      "Processing validation dataset...\n",
      "Processed 2984 tokens with class weights\n",
      "Applied weights: {'quantity': 2.3838894506235255, 'ingredient': 0.22449692122135467, 'unit': 2.8303321328531412}\n",
      "\n",
      "WEIGHTED DATASET SUMMARY:\n",
      "----------------------------------------\n",
      "Training weighted features: 7006 tokens\n",
      "Training weighted labels: 7006 tokens\n",
      "Validation weighted features: 2984 tokens\n",
      "Validation weighted labels: 2984 tokens\n",
      "\n",
      "✅ Weighted features and labels are consistent!\n",
      "\n",
      "Sample weighted features (first token):\n",
      "  ends_with_digit: True\n",
      "  class_weight: 2.3838894506235255\n",
      "  label_weight_quantity: 2.3838894506235255\n"
     ]
    }
   ],
   "source": [
    "# Apply manually computed class weights\n",
    "\n",
    "# First, let's investigate the mismatch issue\n",
    "print(\"INVESTIGATING FEATURE-LABEL LENGTH MISMATCH:\")\n",
    "print(\"=\" * 50)\n",
    "\n",
    "# Check for length mismatches\n",
    "mismatches = []\n",
    "for i, (features, labels) in enumerate(zip(X_train_features, y_train_labels)):\n",
    "    if len(features) != len(labels):\n",
    "        mismatches.append((i, len(features), len(labels)))\n",
    "\n",
    "print(f\"Found {len(mismatches)} recipes with length mismatches:\")\n",
    "for recipe_idx, feat_len, label_len in mismatches[:5]:  # Show first 5 mismatches\n",
    "    print(f\"Recipe {recipe_idx}: {feat_len} features vs {label_len} labels\")\n",
    "    print(f\"  Tokens: {X_train[recipe_idx][:10]}...\")\n",
    "    print(f\"  Labels: {y_train_labels[recipe_idx][:10]}...\")\n",
    "\n",
    "if mismatches:\n",
    "    print(f\"\\nFiltering out {len(mismatches)} recipes with mismatched lengths...\")\n",
    "    \n",
    "    # Filter out mismatched recipes\n",
    "    X_train_features_clean = []\n",
    "    y_train_labels_clean = []\n",
    "    \n",
    "    for i, (features, labels) in enumerate(zip(X_train_features, y_train_labels)):\n",
    "        if len(features) == len(labels):\n",
    "            X_train_features_clean.append(features)\n",
    "            y_train_labels_clean.append(labels)\n",
    "    \n",
    "    # Do the same for validation data\n",
    "    X_val_features_clean = []\n",
    "    y_val_labels_clean = []\n",
    "    \n",
    "    for i, (features, labels) in enumerate(zip(X_val_features, y_val_labels)):\n",
    "        if len(features) == len(labels):\n",
    "            X_val_features_clean.append(features)\n",
    "            y_val_labels_clean.append(labels)\n",
    "    \n",
    "    print(f\"Training data: {len(X_train_features)} -> {len(X_train_features_clean)} recipes\")\n",
    "    print(f\"Validation data: {len(X_val_features)} -> {len(X_val_features_clean)} recipes\")\n",
    "    \n",
    "    # Use cleaned data\n",
    "    X_train_features = X_train_features_clean\n",
    "    y_train_labels = y_train_labels_clean\n",
    "    X_val_features = X_val_features_clean\n",
    "    y_val_labels = y_val_labels_clean\n",
    "\n",
    "print(\"\\nAPPLYING CLASS WEIGHTS TO CLEANED DATASETS:\")\n",
    "print(\"-\" * 50)\n",
    "\n",
    "# Apply class weights to training dataset\n",
    "print(\"Processing training dataset...\")\n",
    "X_train_weighted_features, y_train_weighted = extract_features_with_class_weights(\n",
    "    X_train_features, y_train_labels, weight_dict\n",
    ")\n",
    "\n",
    "print(\"\\nProcessing validation dataset...\")\n",
    "# Apply class weights to validation dataset\n",
    "X_val_weighted_features, y_val_weighted = extract_features_with_class_weights(\n",
    "    X_val_features, y_val_labels, weight_dict\n",
    ")\n",
    "\n",
    "print(\"\\nWEIGHTED DATASET SUMMARY:\")\n",
    "print(\"-\" * 40)\n",
    "print(f\"Training weighted features: {len(X_train_weighted_features)} tokens\")\n",
    "print(f\"Training weighted labels: {len(y_train_weighted)} tokens\")\n",
    "print(f\"Validation weighted features: {len(X_val_weighted_features)} tokens\")\n",
    "print(f\"Validation weighted labels: {len(y_val_weighted)} tokens\")\n",
    "\n",
    "# Verify consistency\n",
    "assert len(X_train_weighted_features) == len(y_train_weighted), \"Training data mismatch!\"\n",
    "assert len(X_val_weighted_features) == len(y_val_weighted), \"Validation data mismatch!\"\n",
    "\n",
    "print(\"\\n✅ Weighted features and labels are consistent!\")\n",
    "\n",
    "# Show sample of weighted features\n",
    "print(f\"\\nSample weighted features (first token):\")\n",
    "sample_features = X_train_weighted_features[0]\n",
    "for key, value in list(sample_features.items())[-3:]:  # Show last 3 features (including weights)\n",
    "    print(f\"  {key}: {value}\")\n"
   ]
  },
  {
   "cell_type": "markdown",
   "metadata": {
    "id": "Aah9bFDlAuzI"
   },
   "source": [
    "## **7** Model Building and Training <font color = red>[10 marks]</font> <br>"
   ]
  },
  {
   "cell_type": "markdown",
   "metadata": {
    "id": "axrvWR9TAuzJ"
   },
   "source": [
    "### **7.1** *Initialise the CRF model and train it* <font color = red>[5 marks]</font>\n",
    "Train the CRF model with the specified hyperparameters such as\n",
    "\n",
    "### CRF Model Hyperparameters Explanation\n",
    "\n",
    "| Parameter                  | Description |\n",
    "|----------------------------|-------------|\n",
    "| **algorithm='lbfgs'**      | Optimisation algorithm used for training. `lbfgs` (Limited-memory Broyden–Fletcher–Goldfarb–Shanno) is a quasi-Newton optimisation method. |\n",
    "| **c1=0.5**                | L1 regularisation term to control sparsity in feature weights. Helps in feature selection. |\n",
    "| **c2=1.0**                | L2 regularisation term to prevent overfitting by penalising large weights. |\n",
    "| **max_iterations=100**     | Maximum number of iterations for model training. Higher values allow more convergence but increase computation time. |\n",
    "| **all_possible_transitions=True** | Ensures that all possible state transitions are considered in training, making the model more robust. |\n",
    "\n",
    "Use weight_dict for training CRF\n",
    "\n"
   ]
  },
  {
   "cell_type": "code",
   "execution_count": 32,
   "metadata": {
    "id": "jig2J_n1AuzM"
   },
   "outputs": [
    {
     "name": "stdout",
     "output_type": "stream",
     "text": [
      "INITIALIZING CRF MODEL:\n",
      "========================================\n",
      "CRF Model Configuration:\n",
      "- Algorithm: lbfgs\n",
      "- C1 (L1 regularization): 0.5\n",
      "- C2 (L2 regularization): 1.0\n",
      "- Max iterations: 100\n",
      "- All possible transitions: True\n",
      "\n",
      "TRAINING CRF MODEL:\n",
      "------------------------------\n",
      "Training samples: 196 recipes\n",
      "Training tokens: 7006\n",
      "Starting training...\n",
      "✅ CRF model training completed!\n",
      "\n",
      "Model training summary:\n",
      "- Labels learned: ['quantity', 'ingredient', 'unit']\n",
      "- Number of classes: 3\n",
      "- Training completed successfully\n",
      "✅ CRF model training completed!\n",
      "\n",
      "Model training summary:\n",
      "- Labels learned: ['quantity', 'ingredient', 'unit']\n",
      "- Number of classes: 3\n",
      "- Training completed successfully\n"
     ]
    }
   ],
   "source": [
    "# initialise CRF model with the specified hyperparameters and use weight_dict\n",
    "from sklearn_crfsuite import CRF\n",
    "\n",
    "print(\"INITIALIZING CRF MODEL:\")\n",
    "print(\"=\" * 40)\n",
    "\n",
    "# Initialize CRF model with specified hyperparameters\n",
    "crf = CRF(\n",
    "    algorithm='lbfgs',           # L-BFGS optimization algorithm\n",
    "    c1=0.5,                     # L1 regularization coefficient\n",
    "    c2=1.0,                     # L2 regularization coefficient  \n",
    "    max_iterations=100,          # Maximum number of iterations\n",
    "    all_possible_transitions=True # Allow all possible state transitions\n",
    ")\n",
    "\n",
    "print(\"CRF Model Configuration:\")\n",
    "print(f\"- Algorithm: {crf.algorithm}\")\n",
    "print(f\"- C1 (L1 regularization): {crf.c1}\")\n",
    "print(f\"- C2 (L2 regularization): {crf.c2}\")\n",
    "print(f\"- Max iterations: {crf.max_iterations}\")\n",
    "print(f\"- All possible transitions: {crf.all_possible_transitions}\")\n",
    "\n",
    "# train the CRF model with the weighted training data\n",
    "print(f\"\\nTRAINING CRF MODEL:\")\n",
    "print(\"-\" * 30)\n",
    "print(f\"Training samples: {len(X_train_features)} recipes\")\n",
    "print(f\"Training tokens: {sum(len(recipe) for recipe in X_train_features)}\")\n",
    "\n",
    "# Train the model\n",
    "print(\"Starting training...\")\n",
    "crf.fit(X_train_features, y_train_labels)\n",
    "\n",
    "print(\"✅ CRF model training completed!\")\n",
    "\n",
    "# Display some training information\n",
    "print(f\"\\nModel training summary:\")\n",
    "print(f\"- Labels learned: {crf.classes_}\")\n",
    "print(f\"- Number of classes: {len(crf.classes_)}\")\n",
    "print(f\"- Training completed successfully\")\n"
   ]
  },
  {
   "cell_type": "markdown",
   "metadata": {
    "id": "sDLwvYqOF6m_"
   },
   "source": [
    "### **7.2** *Evaluation of Training Dataset using CRF model* <font color = red>[4 marks]</font>\n",
    "Evaluate on training dataset using CRF by using flat classification report and confusion matrix"
   ]
  },
  {
   "cell_type": "code",
   "execution_count": 33,
   "metadata": {
    "id": "Us57jWSQ6laL"
   },
   "outputs": [
    {
     "name": "stdout",
     "output_type": "stream",
     "text": [
      "EVALUATING CRF MODEL ON TRAINING DATASET:\n",
      "==================================================\n",
      "Training evaluation completed!\n",
      "Predicted 196 recipes\n",
      "Total predicted tokens: 7006\n",
      "\n",
      "Prediction structure verification:\n",
      "Original labels shape: 196 recipes\n",
      "Predicted labels shape: 196 recipes\n",
      "\n",
      "Sample predictions (first recipe, first 10 tokens):\n",
      "True labels:      ['quantity', 'ingredient', 'ingredient', 'ingredient', 'ingredient', 'ingredient', 'quantity', 'unit', 'ingredient', 'quantity']\n",
      "Predicted labels: ['quantity', 'ingredient', 'ingredient', 'ingredient', 'ingredient', 'ingredient', 'quantity', 'unit', 'ingredient', 'quantity']\n",
      "\n",
      "Basic Training Accuracy: 0.9883 (98.83%)\n",
      "Correct predictions: 6924/7006\n"
     ]
    }
   ],
   "source": [
    "# evaluate on the training dataset\n",
    "\n",
    "print(\"EVALUATING CRF MODEL ON TRAINING DATASET:\")\n",
    "print(\"=\" * 50)\n",
    "\n",
    "# Make predictions on training data\n",
    "y_pred_train = crf.predict(X_train_features)\n",
    "\n",
    "print(f\"Training evaluation completed!\")\n",
    "print(f\"Predicted {len(y_pred_train)} recipes\")\n",
    "print(f\"Total predicted tokens: {sum(len(pred) for pred in y_pred_train)}\")\n",
    "\n",
    "# Verify prediction structure\n",
    "print(f\"\\nPrediction structure verification:\")\n",
    "print(f\"Original labels shape: {len(y_train_labels)} recipes\")\n",
    "print(f\"Predicted labels shape: {len(y_pred_train)} recipes\")\n",
    "\n",
    "# Show sample predictions\n",
    "print(f\"\\nSample predictions (first recipe, first 10 tokens):\")\n",
    "print(f\"True labels:      {y_train_labels[0][:10]}\")\n",
    "print(f\"Predicted labels: {y_pred_train[0][:10]}\")\n",
    "\n",
    "# Calculate basic accuracy for training data\n",
    "correct_predictions = 0\n",
    "total_predictions = 0\n",
    "\n",
    "for true_recipe, pred_recipe in zip(y_train_labels, y_pred_train):\n",
    "    for true_label, pred_label in zip(true_recipe, pred_recipe):\n",
    "        if true_label == pred_label:\n",
    "            correct_predictions += 1\n",
    "        total_predictions += 1\n",
    "\n",
    "training_accuracy = correct_predictions / total_predictions\n",
    "print(f\"\\nBasic Training Accuracy: {training_accuracy:.4f} ({training_accuracy*100:.2f}%)\")\n",
    "print(f\"Correct predictions: {correct_predictions}/{total_predictions}\")\n"
   ]
  },
  {
   "cell_type": "code",
   "execution_count": 34,
   "metadata": {
    "id": "gNGZnd-D6oq3"
   },
   "outputs": [
    {
     "name": "stdout",
     "output_type": "stream",
     "text": [
      "FLAT CLASSIFICATION REPORT - TRAINING DATA:\n",
      "============================================================\n",
      "              precision    recall  f1-score   support\n",
      "\n",
      "  ingredient       0.99      1.00      0.99      5203\n",
      "    quantity       1.00      0.98      0.99       980\n",
      "        unit       0.97      0.95      0.96       823\n",
      "\n",
      "    accuracy                           0.99      7006\n",
      "   macro avg       0.99      0.98      0.98      7006\n",
      "weighted avg       0.99      0.99      0.99      7006\n",
      "\n",
      "\n",
      "DETAILED ANALYSIS:\n",
      "----------------------------------------\n",
      "Per-class performance:\n",
      "ingredient  : P=0.989, R=0.995, F1=0.992\n",
      "quantity    : P=0.996, R=0.983, F1=0.989\n",
      "unit        : P=0.973, R=0.951, F1=0.962\n",
      "\n",
      "Overall training accuracy: 0.9883\n"
     ]
    }
   ],
   "source": [
    "# specify the flat classification report by using training data for evaluation\n",
    "\n",
    "print(\"FLAT CLASSIFICATION REPORT - TRAINING DATA:\")\n",
    "print(\"=\" * 60)\n",
    "\n",
    "# Generate flat classification report\n",
    "train_classification_report = flat_classification_report(y_train_labels, y_pred_train)\n",
    "print(train_classification_report)\n",
    "\n",
    "# Additional metrics analysis\n",
    "print(\"\\nDETAILED ANALYSIS:\")\n",
    "print(\"-\" * 40)\n",
    "\n",
    "# Flatten the labels for detailed analysis\n",
    "y_true_flat = [label for recipe in y_train_labels for label in recipe]\n",
    "y_pred_flat = [label for recipe in y_pred_train for label in recipe]\n",
    "\n",
    "# Calculate per-class metrics manually\n",
    "from collections import defaultdict\n",
    "\n",
    "class_metrics = defaultdict(lambda: {'tp': 0, 'fp': 0, 'fn': 0})\n",
    "\n",
    "for true_label, pred_label in zip(y_true_flat, y_pred_flat):\n",
    "    if true_label == pred_label:\n",
    "        class_metrics[true_label]['tp'] += 1\n",
    "    else:\n",
    "        class_metrics[pred_label]['fp'] += 1\n",
    "        class_metrics[true_label]['fn'] += 1\n",
    "\n",
    "print(\"Per-class performance:\")\n",
    "for label in sorted(class_metrics.keys()):\n",
    "    tp = class_metrics[label]['tp']\n",
    "    fp = class_metrics[label]['fp']\n",
    "    fn = class_metrics[label]['fn']\n",
    "    \n",
    "    precision = tp / (tp + fp) if (tp + fp) > 0 else 0\n",
    "    recall = tp / (tp + fn) if (tp + fn) > 0 else 0\n",
    "    f1 = 2 * precision * recall / (precision + recall) if (precision + recall) > 0 else 0\n",
    "    \n",
    "    print(f\"{label:12s}: P={precision:.3f}, R={recall:.3f}, F1={f1:.3f}\")\n",
    "\n",
    "print(f\"\\nOverall training accuracy: {training_accuracy:.4f}\")\n"
   ]
  },
  {
   "cell_type": "code",
   "execution_count": 35,
   "metadata": {
    "id": "GqP9WBvJ63qm"
   },
   "outputs": [
    {
     "name": "stdout",
     "output_type": "stream",
     "text": [
      "CONFUSION MATRIX - TRAINING DATA:\n",
      "========================================\n",
      "Confusion Matrix (Training Data):\n",
      "                Predicted\n",
      "                ingredient   quantity       unit\n",
      "True ingredient       5178          4         21\n",
      "     quantity           16        963          1\n",
      "     unit               40          0        783\n"
     ]
    },
    {
     "data": {
      "image/png": "[encoded data removed]",
      "text/plain": [
       "<Figure size 800x600 with 2 Axes>"
      ]
     },
     "metadata": {},
     "output_type": "display_data"
    },
    {
     "name": "stdout",
     "output_type": "stream",
     "text": [
      "\n",
      "Class-wise accuracy from confusion matrix:\n",
      "ingredient  : 0.9952 (99.52%)\n",
      "quantity    : 0.9827 (98.27%)\n",
      "unit        : 0.9514 (95.14%)\n",
      "\n",
      "Overall accuracy: 0.9883\n",
      "Total predictions: 7006\n"
     ]
    }
   ],
   "source": [
    "# create a confusion matrix on training datset\n",
    "\n",
    "import matplotlib.pyplot as plt\n",
    "import seaborn as sns\n",
    "import numpy as np\n",
    "from sklearn.metrics import confusion_matrix\n",
    "\n",
    "print(\"CONFUSION MATRIX - TRAINING DATA:\")\n",
    "print(\"=\" * 40)\n",
    "\n",
    "# Assuming y_train_labels and y_pred_train are already defined\n",
    "# Flatten the labels for confusion matrix\n",
    "y_true_flat = [label for recipe in y_train_labels for label in recipe]\n",
    "y_pred_flat = [label for recipe in y_pred_train for label in recipe]\n",
    "\n",
    "# Create confusion matrix\n",
    "cm_train = confusion_matrix(y_true_flat, y_pred_flat, labels=['ingredient', 'quantity', 'unit'])\n",
    "\n",
    "# Display numerical confusion matrix\n",
    "print(\"Confusion Matrix (Training Data):\")\n",
    "print(\"                Predicted\")\n",
    "print(\"               \", \" \".join(f\"{label:>10s}\" for label in ['ingredient', 'quantity', 'unit']))\n",
    "print(\"True ingredient\", \" \".join(f\"{val:>10d}\" for val in cm_train[0]))\n",
    "print(\"     quantity  \", \" \".join(f\"{val:>10d}\" for val in cm_train[1]))\n",
    "print(\"     unit      \", \" \".join(f\"{val:>10d}\" for val in cm_train[2]))\n",
    "\n",
    "# Create visual confusion matrix\n",
    "plt.figure(figsize=(8, 6))\n",
    "sns.heatmap(cm_train, \n",
    "            annot=True, \n",
    "            fmt='d', \n",
    "            cmap='Blues',\n",
    "            xticklabels=['ingredient', 'quantity', 'unit'],\n",
    "            yticklabels=['ingredient', 'quantity', 'unit'])\n",
    "plt.title('Confusion Matrix - Training Data', fontsize=14, fontweight='bold')\n",
    "plt.xlabel('Predicted Label', fontsize=12)\n",
    "plt.ylabel('True Label', fontsize=12)\n",
    "plt.tight_layout()\n",
    "plt.show()\n",
    "\n",
    "# Calculate accuracy for each class from confusion matrix\n",
    "print(\"\\nClass-wise accuracy from confusion matrix:\")\n",
    "for i, label in enumerate(['ingredient', 'quantity', 'unit']):\n",
    "    class_accuracy = cm_train[i, i] / cm_train[i].sum()\n",
    "    print(f\"{label:12s}: {class_accuracy:.4f} ({class_accuracy*100:.2f}%)\")\n",
    "\n",
    "print(f\"\\nOverall accuracy: {np.trace(cm_train) / np.sum(cm_train):.4f}\")\n",
    "print(f\"Total predictions: {np.sum(cm_train)}\")\n"
   ]
  },
  {
   "cell_type": "markdown",
   "metadata": {
    "id": "Yps2-XscGuHc"
   },
   "source": [
    "### **7.3** *Save the CRF model* <font color = red>[1 marks]</font>\n",
    "Save the CRF model"
   ]
  },
  {
   "cell_type": "code",
   "execution_count": 36,
   "metadata": {
    "id": "iAYDLatcGzEN"
   },
   "outputs": [
    {
     "name": "stdout",
     "output_type": "stream",
     "text": [
      "SAVING CRF MODEL:\n",
      "==============================\n",
      "✅ CRF model saved successfully as 'crf_model.pkl'\n",
      "File size: 74,564 bytes (72.8 KB)\n",
      "File location: d:\\Upgrad\\GEN-AI\\Starter+Notebook+++Data (2)\\crf_model.pkl\n",
      "✅ Model loading test successful!\n",
      "Loaded model classes: ['quantity', 'ingredient', 'unit']\n",
      "\n",
      "Model saved with the following configuration:\n",
      "- Algorithm: lbfgs\n",
      "- C1: 0.5, C2: 1.0\n",
      "- Max iterations: 100\n",
      "- Classes: ['quantity', 'ingredient', 'unit']\n"
     ]
    }
   ],
   "source": [
    "# dump the model using joblib as crf_model.pkl\n",
    "\n",
    "import joblib\n",
    "import os\n",
    "\n",
    "print(\"SAVING CRF MODEL:\")\n",
    "print(\"=\" * 30)\n",
    "\n",
    "# Define the model filename\n",
    "model_filename = 'crf_model.pkl'\n",
    "\n",
    "# Save the trained CRF model\n",
    "joblib.dump(crf, model_filename)\n",
    "\n",
    "print(f\"✅ CRF model saved successfully as '{model_filename}'\")\n",
    "\n",
    "# Verify the file was created and check its size\n",
    "if os.path.exists(model_filename):\n",
    "    file_size = os.path.getsize(model_filename)\n",
    "    print(f\"File size: {file_size:,} bytes ({file_size/1024:.1f} KB)\")\n",
    "    print(f\"File location: {os.path.abspath(model_filename)}\")\n",
    "else:\n",
    "    print(\"❌ Error: Model file was not created!\")\n",
    "\n",
    "# Test loading the model to verify it was saved correctly\n",
    "try:\n",
    "    loaded_crf = joblib.load(model_filename)\n",
    "    print(\"✅ Model loading test successful!\")\n",
    "    print(f\"Loaded model classes: {loaded_crf.classes_}\")\n",
    "except Exception as e:\n",
    "    print(f\"❌ Error loading model: {e}\")\n",
    "\n",
    "print(\"\\nModel saved with the following configuration:\")\n",
    "print(f\"- Algorithm: {crf.algorithm}\")\n",
    "print(f\"- C1: {crf.c1}, C2: {crf.c2}\")\n",
    "print(f\"- Max iterations: {crf.max_iterations}\")\n",
    "print(f\"- Classes: {crf.classes_}\")\n"
   ]
  },
  {
   "cell_type": "markdown",
   "metadata": {
    "id": "agM32oUlBo1K"
   },
   "source": [
    "## **8** Prediction and Model Evaluation <font color = red>[3 marks]</font> <br>"
   ]
  },
  {
   "cell_type": "markdown",
   "metadata": {
    "id": "b5BYmkTrBo1L"
   },
   "source": [
    "### **8.1** *Predict and Evaluate the CRF model on validation set* <font color = red>[3 marks]</font>\n",
    "Evaluate the metrics for CRF model by using flat classification report and confusion matrix\n",
    "\n",
    "\n"
   ]
  },
  {
   "cell_type": "code",
   "execution_count": 37,
   "metadata": {
    "id": "qhH6Sp8tBo1M"
   },
   "outputs": [
    {
     "name": "stdout",
     "output_type": "stream",
     "text": [
      "PREDICTING ON VALIDATION DATASET:\n",
      "========================================\n",
      "Validation prediction completed!\n",
      "Predicted 84 validation recipes\n",
      "Total predicted tokens: 2984\n",
      "\n",
      "Prediction structure verification:\n",
      "Original validation labels: 84 recipes\n",
      "Predicted validation labels: 84 recipes\n",
      "\n",
      "Sample validation predictions (first recipe, first 10 tokens):\n",
      "True labels:      ['quantity', 'unit', 'ingredient', 'ingredient', 'quantity', 'ingredient', 'quantity', 'unit', 'ingredient', 'quantity']\n",
      "Predicted labels: ['quantity', 'unit', 'ingredient', 'ingredient', 'quantity', 'ingredient', 'quantity', 'unit', 'ingredient', 'quantity']\n",
      "\n",
      "Basic Validation Accuracy: 0.9876 (98.76%)\n",
      "Correct predictions: 2947/2984\n",
      "\n",
      "Accuracy Comparison:\n",
      "Training Accuracy:   0.9883 (98.83%)\n",
      "Validation Accuracy: 0.9876 (98.76%)\n",
      "Difference:          0.0007 (0.07%)\n",
      "✅ Good generalization - low overfitting\n"
     ]
    }
   ],
   "source": [
    "# predict the crf model on validation dataset\n",
    "\n",
    "print(\"PREDICTING ON VALIDATION DATASET:\")\n",
    "print(\"=\" * 40)\n",
    "\n",
    "# Make predictions on validation data\n",
    "y_pred_val = crf.predict(X_val_features)\n",
    "\n",
    "print(f\"Validation prediction completed!\")\n",
    "print(f\"Predicted {len(y_pred_val)} validation recipes\")\n",
    "print(f\"Total predicted tokens: {sum(len(pred) for pred in y_pred_val)}\")\n",
    "\n",
    "# Verify prediction structure\n",
    "print(f\"\\nPrediction structure verification:\")\n",
    "print(f\"Original validation labels: {len(y_val_labels)} recipes\")\n",
    "print(f\"Predicted validation labels: {len(y_pred_val)} recipes\")\n",
    "\n",
    "# Show sample predictions for validation data\n",
    "print(f\"\\nSample validation predictions (first recipe, first 10 tokens):\")\n",
    "if len(y_val_labels) > 0 and len(y_pred_val) > 0:\n",
    "    print(f\"True labels:      {y_val_labels[0][:10]}\")\n",
    "    print(f\"Predicted labels: {y_pred_val[0][:10]}\")\n",
    "\n",
    "# Calculate basic accuracy for validation data\n",
    "correct_predictions = 0\n",
    "total_predictions = 0\n",
    "\n",
    "for true_recipe, pred_recipe in zip(y_val_labels, y_pred_val):\n",
    "    for true_label, pred_label in zip(true_recipe, pred_recipe):\n",
    "        if true_label == pred_label:\n",
    "            correct_predictions += 1\n",
    "        total_predictions += 1\n",
    "\n",
    "validation_accuracy = correct_predictions / total_predictions\n",
    "print(f\"\\nBasic Validation Accuracy: {validation_accuracy:.4f} ({validation_accuracy*100:.2f}%)\")\n",
    "print(f\"Correct predictions: {correct_predictions}/{total_predictions}\")\n",
    "\n",
    "# Compare with training accuracy\n",
    "print(f\"\\nAccuracy Comparison:\")\n",
    "print(f\"Training Accuracy:   {training_accuracy:.4f} ({training_accuracy*100:.2f}%)\")\n",
    "print(f\"Validation Accuracy: {validation_accuracy:.4f} ({validation_accuracy*100:.2f}%)\")\n",
    "accuracy_diff = training_accuracy - validation_accuracy\n",
    "print(f\"Difference:          {accuracy_diff:.4f} ({accuracy_diff*100:.2f}%)\")\n",
    "\n",
    "if accuracy_diff < 0.05:\n",
    "    print(\"✅ Good generalization - low overfitting\")\n",
    "elif accuracy_diff < 0.10:\n",
    "    print(\"⚠️  Moderate overfitting\")\n",
    "else:\n",
    "    print(\"❌ High overfitting detected\")\n"
   ]
  },
  {
   "cell_type": "code",
   "execution_count": 38,
   "metadata": {
    "id": "SMktt_w1kovB"
   },
   "outputs": [
    {
     "name": "stdout",
     "output_type": "stream",
     "text": [
      "FLAT CLASSIFICATION REPORT - VALIDATION DATA:\n",
      "============================================================\n",
      "              precision    recall  f1-score   support\n",
      "\n",
      "  ingredient       0.99      1.00      0.99      2227\n",
      "    quantity       1.00      0.99      1.00       411\n",
      "        unit       0.97      0.93      0.95       346\n",
      "\n",
      "    accuracy                           0.99      2984\n",
      "   macro avg       0.99      0.97      0.98      2984\n",
      "weighted avg       0.99      0.99      0.99      2984\n",
      "\n",
      "\n",
      "DETAILED VALIDATION ANALYSIS:\n",
      "----------------------------------------\n",
      "Per-class performance on validation data:\n",
      "ingredient  : P=0.988, R=0.996, F1=0.992\n",
      "quantity    : P=1.000, R=0.990, F1=0.995\n",
      "unit        : P=0.973, R=0.931, F1=0.951\n",
      "\n",
      "PERFORMANCE COMPARISON:\n",
      "------------------------------\n",
      "Training  vs Validation:\n",
      "Accuracy: 0.9883 vs 0.9876\n",
      "\n",
      "Validation data distribution:\n",
      "ingredient  : 2227 ( 74.6%)\n",
      "quantity    :  411 ( 13.8%)\n",
      "unit        :  346 ( 11.6%)\n"
     ]
    }
   ],
   "source": [
    "# specify flat classification report\n",
    "\n",
    "print(\"FLAT CLASSIFICATION REPORT - VALIDATION DATA:\")\n",
    "print(\"=\" * 60)\n",
    "\n",
    "# Generate flat classification report for validation data\n",
    "val_classification_report = flat_classification_report(y_val_labels, y_pred_val)\n",
    "print(val_classification_report)\n",
    "\n",
    "# Detailed analysis for validation data\n",
    "print(\"\\nDETAILED VALIDATION ANALYSIS:\")\n",
    "print(\"-\" * 40)\n",
    "\n",
    "# Flatten the validation labels for detailed analysis\n",
    "y_val_true_flat = [label for recipe in y_val_labels for label in recipe]\n",
    "y_val_pred_flat = [label for recipe in y_pred_val for label in recipe]\n",
    "\n",
    "# Calculate per-class metrics for validation data\n",
    "val_class_metrics = defaultdict(lambda: {'tp': 0, 'fp': 0, 'fn': 0})\n",
    "\n",
    "for true_label, pred_label in zip(y_val_true_flat, y_val_pred_flat):\n",
    "    if true_label == pred_label:\n",
    "        val_class_metrics[true_label]['tp'] += 1\n",
    "    else:\n",
    "        val_class_metrics[pred_label]['fp'] += 1\n",
    "        val_class_metrics[true_label]['fn'] += 1\n",
    "\n",
    "print(\"Per-class performance on validation data:\")\n",
    "for label in sorted(val_class_metrics.keys()):\n",
    "    tp = val_class_metrics[label]['tp']\n",
    "    fp = val_class_metrics[label]['fp']\n",
    "    fn = val_class_metrics[label]['fn']\n",
    "    \n",
    "    precision = tp / (tp + fp) if (tp + fp) > 0 else 0\n",
    "    recall = tp / (tp + fn) if (tp + fn) > 0 else 0\n",
    "    f1 = 2 * precision * recall / (precision + recall) if (precision + recall) > 0 else 0\n",
    "    \n",
    "    print(f\"{label:12s}: P={precision:.3f}, R={recall:.3f}, F1={f1:.3f}\")\n",
    "\n",
    "# Compare training vs validation performance\n",
    "print(f\"\\nPERFORMANCE COMPARISON:\")\n",
    "print(\"-\" * 30)\n",
    "print(\"Training  vs Validation:\")\n",
    "print(f\"Accuracy: {training_accuracy:.4f} vs {validation_accuracy:.4f}\")\n",
    "\n",
    "# Label distribution in validation data\n",
    "val_label_dist = {}\n",
    "for label in y_val_true_flat:\n",
    "    val_label_dist[label] = val_label_dist.get(label, 0) + 1\n",
    "\n",
    "print(f\"\\nValidation data distribution:\")\n",
    "for label, count in sorted(val_label_dist.items(), key=lambda x: x[1], reverse=True):\n",
    "    percentage = (count / len(y_val_true_flat)) * 100\n",
    "    print(f\"{label:12s}: {count:4d} ({percentage:5.1f}%)\")\n"
   ]
  },
  {
   "cell_type": "code",
   "execution_count": 39,
   "metadata": {
    "id": "eI2tUBRRk4jK"
   },
   "outputs": [
    {
     "name": "stdout",
     "output_type": "stream",
     "text": [
      "CONFUSION MATRIX - VALIDATION DATA:\n",
      "========================================\n",
      "Confusion Matrix (Validation Data):\n",
      "                Predicted\n",
      "                ingredient   quantity       unit\n",
      "True ingredient       2218          0          9\n",
      "     quantity            4        407          0\n",
      "     unit               24          0        322\n"
     ]
    },
    {
     "data": {
      "image/png": "[encoded data removed]",
      "text/plain": [
       "<Figure size 800x600 with 2 Axes>"
      ]
     },
     "metadata": {},
     "output_type": "display_data"
    },
    {
     "name": "stdout",
     "output_type": "stream",
     "text": [
      "\n",
      "Class-wise accuracy from validation confusion matrix:\n",
      "ingredient  : 0.9960 (99.60%)\n",
      "quantity    : 0.9903 (99.03%)\n",
      "unit        : 0.9306 (93.06%)\n",
      "\n",
      "Overall validation accuracy: 0.9876\n",
      "Total validation predictions: 2984\n",
      "\n",
      "CONFUSION MATRIX COMPARISON:\n",
      "----------------------------------------\n",
      "Training vs Validation Error Analysis:\n",
      "Training errors: 82/7006 (0.0117)\n",
      "Validation errors: 37/2984 (0.0124)\n",
      "Error rate difference: 0.0007\n",
      "✅ Consistent performance across train/validation sets\n"
     ]
    }
   ],
   "source": [
    "# create a confusion matrix on validation dataset\n",
    "\n",
    "print(\"CONFUSION MATRIX - VALIDATION DATA:\")\n",
    "print(\"=\" * 40)\n",
    "\n",
    "# Create confusion matrix for validation data\n",
    "cm_val = confusion_matrix(y_val_true_flat, y_val_pred_flat, labels=['ingredient', 'quantity', 'unit'])\n",
    "\n",
    "# Display numerical confusion matrix\n",
    "print(\"Confusion Matrix (Validation Data):\")\n",
    "print(\"                Predicted\")\n",
    "print(\"               \", \" \".join(f\"{label:>10s}\" for label in ['ingredient', 'quantity', 'unit']))\n",
    "print(\"True ingredient\", \" \".join(f\"{val:>10d}\" for val in cm_val[0]))\n",
    "print(\"     quantity  \", \" \".join(f\"{val:>10d}\" for val in cm_val[1]))\n",
    "print(\"     unit      \", \" \".join(f\"{val:>10d}\" for val in cm_val[2]))\n",
    "\n",
    "# Create visual confusion matrix for validation data\n",
    "plt.figure(figsize=(8, 6))\n",
    "sns.heatmap(cm_val, \n",
    "            annot=True, \n",
    "            fmt='d', \n",
    "            cmap='Blues',\n",
    "            xticklabels=['ingredient', 'quantity', 'unit'],\n",
    "            yticklabels=['ingredient', 'quantity', 'unit'])\n",
    "plt.title('Confusion Matrix - Validation Data', fontsize=14, fontweight='bold')\n",
    "plt.xlabel('Predicted Label', fontsize=12)\n",
    "plt.ylabel('True Label', fontsize=12)\n",
    "plt.tight_layout()\n",
    "plt.show()\n",
    "\n",
    "# Calculate accuracy for each class from confusion matrix\n",
    "print(\"\\nClass-wise accuracy from validation confusion matrix:\")\n",
    "for i, label in enumerate(['ingredient', 'quantity', 'unit']):\n",
    "    class_accuracy = cm_val[i, i] / cm_val[i].sum()\n",
    "    print(f\"{label:12s}: {class_accuracy:.4f} ({class_accuracy*100:.2f}%)\")\n",
    "\n",
    "print(f\"\\nOverall validation accuracy: {np.trace(cm_val) / np.sum(cm_val):.4f}\")\n",
    "print(f\"Total validation predictions: {np.sum(cm_val)}\")\n",
    "\n",
    "# Compare confusion matrices\n",
    "print(f\"\\nCONFUSION MATRIX COMPARISON:\")\n",
    "print(\"-\" * 40)\n",
    "print(\"Training vs Validation Error Analysis:\")\n",
    "\n",
    "# Calculate error rates\n",
    "train_errors = np.sum(cm_train) - np.trace(cm_train)\n",
    "val_errors = np.sum(cm_val) - np.trace(cm_val)\n",
    "train_error_rate = train_errors / np.sum(cm_train)\n",
    "val_error_rate = val_errors / np.sum(cm_val)\n",
    "\n",
    "print(f\"Training errors: {train_errors}/{np.sum(cm_train)} ({train_error_rate:.4f})\")\n",
    "print(f\"Validation errors: {val_errors}/{np.sum(cm_val)} ({val_error_rate:.4f})\")\n",
    "print(f\"Error rate difference: {abs(train_error_rate - val_error_rate):.4f}\")\n",
    "\n",
    "if abs(train_error_rate - val_error_rate) < 0.01:\n",
    "    print(\"✅ Consistent performance across train/validation sets\")\n",
    "else:\n",
    "    print(\"⚠️  Performance difference detected between train/validation\")\n"
   ]
  },
  {
   "cell_type": "markdown",
   "metadata": {
    "id": "8pD6hD3NEV3q"
   },
   "source": [
    "## **9** Error Analysis on Validation Data <font color = red>[10 marks]</font> <br>\n",
    "Investigate misclassified samples in validation dataset and provide the insights\n"
   ]
  },
  {
   "cell_type": "markdown",
   "metadata": {
    "id": "R9tUvjrzFjib"
   },
   "source": [
    "### **9.1** *Investigate misclassified samples in validation dataset* <font color = red>[8 marks]</font>\n",
    "\n"
   ]
  },
  {
   "cell_type": "markdown",
   "metadata": {
    "id": "Lb15uObqxKe4"
   },
   "source": [
    "##### **9.1.1** Flatten the labels of validation data and initialise error data <font color = red>[2 marks]</font> <br>\n",
    "\n",
    "\n",
    "\n",
    "Flatten the true and predicted labels and initialise the error data as ***error_data***"
   ]
  },
  {
   "cell_type": "code",
   "execution_count": 40,
   "metadata": {
    "id": "gbgYAjd-UzkI"
   },
   "outputs": [
    {
     "name": "stdout",
     "output_type": "stream",
     "text": [
      "FLATTENING VALIDATION LABELS AND INITIALIZING ERROR DATA:\n",
      "============================================================\n",
      "Flattened validation data:\n",
      "True labels: 2984 tokens\n",
      "Predicted labels: 2984 tokens\n",
      "✅ Flattened label lengths verified\n",
      "\n",
      "Error data structure initialized as empty list\n",
      "This will store detailed information about misclassified tokens\n",
      "Each error entry will include:\n",
      "- Token text\n",
      "- True label\n",
      "- Predicted label\n",
      "- Previous token context\n",
      "- Next token context\n",
      "- Recipe context\n",
      "- Class weight information\n",
      "\n",
      "Ready to collect error information from 2984 validation tokens\n"
     ]
    }
   ],
   "source": [
    "# flatten Labels and Initialise Error Data\n",
    "\n",
    "print(\"FLATTENING VALIDATION LABELS AND INITIALIZING ERROR DATA:\")\n",
    "print(\"=\" * 60)\n",
    "\n",
    "# Flatten true and predicted labels for validation data (already done above, but let's be explicit)\n",
    "y_val_true_flat = []\n",
    "y_val_pred_flat = []\n",
    "\n",
    "for true_recipe, pred_recipe in zip(y_val_labels, y_pred_val):\n",
    "    y_val_true_flat.extend(true_recipe)\n",
    "    y_val_pred_flat.extend(pred_recipe)\n",
    "\n",
    "print(f\"Flattened validation data:\")\n",
    "print(f\"True labels: {len(y_val_true_flat)} tokens\")\n",
    "print(f\"Predicted labels: {len(y_val_pred_flat)} tokens\")\n",
    "\n",
    "# Verify lengths match\n",
    "assert len(y_val_true_flat) == len(y_val_pred_flat), \"Length mismatch in flattened labels!\"\n",
    "print(\"✅ Flattened label lengths verified\")\n",
    "\n",
    "# Initialize error data structure\n",
    "error_data = []\n",
    "\n",
    "print(f\"\\nError data structure initialized as empty list\")\n",
    "print(f\"This will store detailed information about misclassified tokens\")\n",
    "print(f\"Each error entry will include:\")\n",
    "print(\"- Token text\")\n",
    "print(\"- True label\") \n",
    "print(\"- Predicted label\")\n",
    "print(\"- Previous token context\")\n",
    "print(\"- Next token context\")\n",
    "print(\"- Recipe context\")\n",
    "print(\"- Class weight information\")\n",
    "\n",
    "print(f\"\\nReady to collect error information from {len(y_val_true_flat)} validation tokens\")\n"
   ]
  },
  {
   "cell_type": "markdown",
   "metadata": {
    "id": "LS9foWfdXHOg"
   },
   "source": [
    "##### **9.1.2** Iterate the validation data and collect Error Information<font color = red> [2 marks]</font> <br>\n",
    "\n",
    "\n",
    "\n",
    "Iterate through validation data (X_val, y_val_labels, y_pred_val) and compare true vs. predicted labels. Collect error details, including surrounding context, previous/next tokens, and class weights, then store them in error_data"
   ]
  },
  {
   "cell_type": "code",
   "execution_count": 41,
   "metadata": {
    "id": "_VKLc1s0U0yY"
   },
   "outputs": [
    {
     "name": "stdout",
     "output_type": "stream",
     "text": [
      "COLLECTING ERROR INFORMATION FROM VALIDATION DATA:\n",
      "=======================================================\n",
      "Error collection completed!\n",
      "Total tokens processed: 2605\n",
      "Errors found: 33\n",
      "Error rate: 0.0127 (1.27%)\n",
      "\n",
      "Error types found:\n",
      "  unit -> ingredient: 22 cases\n",
      "  ingredient -> unit: 7 cases\n",
      "  quantity -> ingredient: 4 cases\n",
      "\n",
      "Sample errors (first 3):\n",
      "\n",
      "Error 1:\n",
      "  Token: 'cloves'\n",
      "  True: ingredient -> Predicted: unit\n",
      "  Context: red chillies 3 cloves garlic big Spoon\n",
      "  Previous: 3, Next: garlic\n",
      "\n",
      "Error 2:\n",
      "  Token: 'Spoon'\n",
      "  True: unit -> Predicted: ingredient\n",
      "  Context: cloves garlic big Spoon oil teaspoon Rye\n",
      "  Previous: big, Next: oil\n",
      "\n",
      "Error 3:\n",
      "  Token: 'cloves'\n",
      "  True: unit -> Predicted: ingredient\n",
      "  Context: 1 onion tomato cloves garlic 1/2 small\n",
      "  Previous: tomato, Next: garlic\n"
     ]
    }
   ],
   "source": [
    "# iterate and collect Error Information\n",
    "\n",
    "print(\"COLLECTING ERROR INFORMATION FROM VALIDATION DATA:\")\n",
    "print(\"=\" * 55)\n",
    "\n",
    "# Iterate through validation data and collect error details\n",
    "token_index = 0\n",
    "\n",
    "for recipe_idx, (X_recipe, y_true_recipe, y_pred_recipe) in enumerate(zip(X_val, y_val_labels, y_pred_val)):\n",
    "    \n",
    "    for token_idx, (token, true_label, pred_label) in enumerate(zip(X_recipe, y_true_recipe, y_pred_recipe)):\n",
    "        \n",
    "        # Check if this is a misclassified token\n",
    "        if true_label != pred_label:\n",
    "            \n",
    "            # get previous and next tokens with handling for boundary cases\n",
    "            prev_token = X_recipe[token_idx - 1] if token_idx > 0 else '<START>'\n",
    "            next_token = X_recipe[token_idx + 1] if token_idx < len(X_recipe) - 1 else '<END>'\n",
    "            \n",
    "            # Create context window (3 tokens before and after)\n",
    "            context_start = max(0, token_idx - 3)\n",
    "            context_end = min(len(X_recipe), token_idx + 4)\n",
    "            context = ' '.join(X_recipe[context_start:context_end])\n",
    "            \n",
    "            # Get class weights for both true and predicted labels\n",
    "            true_weight = weight_dict.get(true_label, 1.0)\n",
    "            pred_weight = weight_dict.get(pred_label, 1.0)\n",
    "            \n",
    "            # Collect error information\n",
    "            error_info = {\n",
    "                'recipe_id': recipe_idx,\n",
    "                'token_position': token_idx,\n",
    "                'global_token_index': token_index,\n",
    "                'token': token,\n",
    "                'true_label': true_label,\n",
    "                'predicted_label': pred_label,\n",
    "                'previous_token': prev_token,\n",
    "                'next_token': next_token,\n",
    "                'context': context,\n",
    "                'true_class_weight': true_weight,\n",
    "                'pred_class_weight': pred_weight,\n",
    "                'weight_difference': abs(true_weight - pred_weight)\n",
    "            }\n",
    "            \n",
    "            error_data.append(error_info)\n",
    "        \n",
    "        token_index += 1\n",
    "\n",
    "print(f\"Error collection completed!\")\n",
    "print(f\"Total tokens processed: {token_index}\")\n",
    "print(f\"Errors found: {len(error_data)}\")\n",
    "print(f\"Error rate: {len(error_data)/token_index:.4f} ({len(error_data)/token_index*100:.2f}%)\")\n",
    "\n",
    "# Show summary of error types\n",
    "error_types = {}\n",
    "for error in error_data:\n",
    "    error_type = f\"{error['true_label']} -> {error['predicted_label']}\"\n",
    "    error_types[error_type] = error_types.get(error_type, 0) + 1\n",
    "\n",
    "print(f\"\\nError types found:\")\n",
    "for error_type, count in sorted(error_types.items(), key=lambda x: x[1], reverse=True):\n",
    "    print(f\"  {error_type}: {count} cases\")\n",
    "\n",
    "# Show a few sample errors\n",
    "print(f\"\\nSample errors (first 3):\")\n",
    "for i, error in enumerate(error_data[:3]):\n",
    "    print(f\"\\nError {i+1}:\")\n",
    "    print(f\"  Token: '{error['token']}'\")\n",
    "    print(f\"  True: {error['true_label']} -> Predicted: {error['predicted_label']}\")\n",
    "    print(f\"  Context: {error['context']}\")\n",
    "    print(f\"  Previous: {error['previous_token']}, Next: {error['next_token']}\")\n"
   ]
  },
  {
   "cell_type": "markdown",
   "metadata": {
    "id": "G_R8CCAFZSzF"
   },
   "source": [
    "##### **9.1.3** Create dataframe from error_data and print overall accuracy <font color = red>[1 marks]</font> <br>\n",
    "\n",
    "\n",
    "\n",
    "Change error_data into dataframe and then use it to illustrate the overall accuracy of validation data"
   ]
  },
  {
   "cell_type": "code",
   "execution_count": 42,
   "metadata": {
    "id": "fUffRP7XU3YC"
   },
   "outputs": [
    {
     "name": "stdout",
     "output_type": "stream",
     "text": [
      "CREATING ERROR ANALYSIS DATAFRAME:\n",
      "========================================\n",
      "Error DataFrame created successfully!\n",
      "Shape: (33, 12)\n",
      "Columns: ['recipe_id', 'token_position', 'global_token_index', 'token', 'true_label', 'predicted_label', 'previous_token', 'next_token', 'context', 'true_class_weight', 'pred_class_weight', 'weight_difference']\n",
      "\n",
      "First 5 error records:\n",
      "    token  true_label predicted_label previous_token next_token\n",
      "0  cloves  ingredient            unit              3     garlic\n",
      "1   Spoon        unit      ingredient            big        oil\n",
      "2  cloves        unit      ingredient         tomato     garlic\n",
      "3   small        unit      ingredient            1/2   Teaspoon\n",
      "4  cloves        unit      ingredient         Ginger     Garlic\n",
      "\n",
      "OVERALL VALIDATION ACCURACY ANALYSIS:\n",
      "=============================================\n",
      "Total validation tokens: 2,984\n",
      "Correct predictions: 2,951\n",
      "Incorrect predictions: 33\n",
      "Overall accuracy: 0.988941 (98.8941%)\n",
      "Error rate: 0.011059 (1.1059%)\n",
      "\n",
      "ERROR DISTRIBUTION:\n",
      "-------------------------\n",
      "Errors by true label (what was missed):\n",
      "  unit: 22 errors\n",
      "  ingredient: 7 errors\n",
      "  quantity: 4 errors\n",
      "\n",
      "Errors by predicted label (what was wrongly predicted):\n",
      "  ingredient: 26 errors\n",
      "  unit: 7 errors\n",
      "\n",
      "✅ Error analysis DataFrame ready for detailed investigation\n"
     ]
    }
   ],
   "source": [
    "# Create DataFrame and Print Overall Accuracy\n",
    "\n",
    "import pandas as pd\n",
    "\n",
    "print(\"CREATING ERROR ANALYSIS DATAFRAME:\")\n",
    "print(\"=\" * 40)\n",
    "\n",
    "# Create DataFrame from error_data\n",
    "if error_data:\n",
    "    error_df = pd.DataFrame(error_data)\n",
    "    \n",
    "    print(f\"Error DataFrame created successfully!\")\n",
    "    print(f\"Shape: {error_df.shape}\")\n",
    "    print(f\"Columns: {list(error_df.columns)}\")\n",
    "    \n",
    "    # Display first few rows\n",
    "    print(f\"\\nFirst 5 error records:\")\n",
    "    print(error_df[['token', 'true_label', 'predicted_label', 'previous_token', 'next_token']].head())\n",
    "    \n",
    "else:\n",
    "    print(\"No errors found - creating empty DataFrame\")\n",
    "    error_df = pd.DataFrame(columns=['token', 'true_label', 'predicted_label', 'context'])\n",
    "\n",
    "# Calculate and print overall accuracy for validation data\n",
    "total_tokens = len(y_val_true_flat)\n",
    "correct_predictions = total_tokens - len(error_data)\n",
    "overall_accuracy = correct_predictions / total_tokens\n",
    "\n",
    "print(f\"\\nOVERALL VALIDATION ACCURACY ANALYSIS:\")\n",
    "print(\"=\" * 45)\n",
    "print(f\"Total validation tokens: {total_tokens:,}\")\n",
    "print(f\"Correct predictions: {correct_predictions:,}\")\n",
    "print(f\"Incorrect predictions: {len(error_data):,}\")\n",
    "print(f\"Overall accuracy: {overall_accuracy:.6f} ({overall_accuracy*100:.4f}%)\")\n",
    "print(f\"Error rate: {1-overall_accuracy:.6f} ({(1-overall_accuracy)*100:.4f}%)\")\n",
    "\n",
    "# Additional statistics\n",
    "if error_data:\n",
    "    print(f\"\\nERROR DISTRIBUTION:\")\n",
    "    print(\"-\" * 25)\n",
    "    \n",
    "    # Error distribution by label type\n",
    "    true_label_errors = error_df['true_label'].value_counts()\n",
    "    pred_label_errors = error_df['predicted_label'].value_counts()\n",
    "    \n",
    "    print(\"Errors by true label (what was missed):\")\n",
    "    for label, count in true_label_errors.items():\n",
    "        print(f\"  {label}: {count} errors\")\n",
    "    \n",
    "    print(\"\\nErrors by predicted label (what was wrongly predicted):\")\n",
    "    for label, count in pred_label_errors.items():\n",
    "        print(f\"  {label}: {count} errors\")\n",
    "\n",
    "# Save error DataFrame for further analysis\n",
    "if not error_df.empty:\n",
    "    print(f\"\\n✅ Error analysis DataFrame ready for detailed investigation\")\n",
    "else:\n",
    "    print(f\"\\n✅ Perfect predictions - no errors to analyze!\")\n"
   ]
  },
  {
   "cell_type": "markdown",
   "metadata": {
    "id": "8OUYHFmgZhgJ"
   },
   "source": [
    "##### **9.1.4** Analyse errors by label type<font color = red> [3 marks]</font> <br>\n",
    "Analyse errors found in the validation data by each label and display their class weights along with accuracy and also display the error dataframe with token,  previous token, next token, true label, predicted label and context"
   ]
  },
  {
   "cell_type": "code",
   "execution_count": 43,
   "metadata": {
    "collapsed": true,
    "id": "zu8CtjU6WR9l"
   },
   "outputs": [
    {
     "name": "stdout",
     "output_type": "stream",
     "text": [
      "DETAILED ERROR ANALYSIS BY LABEL TYPE:\n",
      "==================================================\n",
      "LABEL-WISE ACCURACY AND CLASS WEIGHTS:\n",
      "---------------------------------------------\n",
      "ingredient  :\n",
      "  Total occurrences: 2227\n",
      "  Errors:    7\n",
      "  Accuracy: 0.9969 (99.69%)\n",
      "  Class weight: 0.2245\n",
      "\n",
      "quantity    :\n",
      "  Total occurrences:  411\n",
      "  Errors:    4\n",
      "  Accuracy: 0.9903 (99.03%)\n",
      "  Class weight: 2.3839\n",
      "\n",
      "unit        :\n",
      "  Total occurrences:  346\n",
      "  Errors:   22\n",
      "  Accuracy: 0.9364 (93.64%)\n",
      "  Class weight: 2.8303\n",
      "\n",
      "ERROR BREAKDOWN BY TRANSITION TYPE:\n",
      "----------------------------------------\n",
      "ingredient   -> unit        :   7 cases\n",
      "quantity     -> ingredient  :   4 cases\n",
      "unit         -> ingredient  :  22 cases\n",
      "\n",
      "DETAILED ERROR DATAFRAME:\n",
      "==============================\n",
      "Showing all 33 errors:\n",
      "\n",
      "Error 1:\n",
      "  Token: 'cloves'\n",
      "  Context: red chillies 3 cloves garlic big Spoon...\n",
      "  Previous: 3 | Next: garlic\n",
      "  True: ingredient -> Predicted: unit\n",
      "\n",
      "Error 2:\n",
      "  Token: 'Spoon'\n",
      "  Context: cloves garlic big Spoon oil teaspoon Rye...\n",
      "  Previous: big | Next: oil\n",
      "  True: unit -> Predicted: ingredient\n",
      "\n",
      "Error 3:\n",
      "  Token: 'cloves'\n",
      "  Context: 1 onion tomato cloves garlic 1/2 small...\n",
      "  Previous: tomato | Next: garlic\n",
      "  True: unit -> Predicted: ingredient\n",
      "\n",
      "Error 4:\n",
      "  Token: 'small'\n",
      "  Context: cloves garlic 1/2 small Teaspoon cumin tsp...\n",
      "  Previous: 1/2 | Next: Teaspoon\n",
      "  True: unit -> Predicted: ingredient\n",
      "\n",
      "Error 5:\n",
      "  Token: 'cloves'\n",
      "  Context: Fresh coconut Ginger cloves Garlic...\n",
      "  Previous: Ginger | Next: Garlic\n",
      "  True: unit -> Predicted: ingredient\n",
      "\n",
      "Error 6:\n",
      "  Token: 'in'\n",
      "  Context: Pav buns roasted in butter...\n",
      "  Previous: roasted | Next: butter\n",
      "  True: ingredient -> Predicted: unit\n",
      "\n",
      "Error 7:\n",
      "  Token: 'gms'\n",
      "  Context: 7 Potatoes 350 gms Cheese 5 Tomatoes...\n",
      "  Previous: 350 | Next: Cheese\n",
      "  True: unit -> Predicted: ingredient\n",
      "\n",
      "Error 8:\n",
      "  Token: 'gram'\n",
      "  Context: horse-powder mustard 1/2 gram lentils pinch Asafoe...\n",
      "  Previous: 1/2 | Next: lentils\n",
      "  True: ingredient -> Predicted: unit\n",
      "\n",
      "Error 9:\n",
      "  Token: 'small'\n",
      "  Context: powder red chilli small Spoon coriander jaggery...\n",
      "  Previous: chilli | Next: Spoon\n",
      "  True: unit -> Predicted: ingredient\n",
      "\n",
      "Error 10:\n",
      "  Token: 'Spoon'\n",
      "  Context: red chilli small Spoon coriander jaggery tablespoo...\n",
      "  Previous: small | Next: coriander\n",
      "  True: unit -> Predicted: ingredient\n",
      "\n",
      "Error 11:\n",
      "  Token: 'cloves'\n",
      "  Context: Vinaigrette Dried oregano cloves Garlic minced Bla...\n",
      "  Previous: oregano | Next: Garlic\n",
      "  True: unit -> Predicted: ingredient\n",
      "\n",
      "Error 12:\n",
      "  Token: 'to'\n",
      "  Context: tablespoon Cane sugar to tablespoons Extra Virgin...\n",
      "  Previous: sugar | Next: tablespoons\n",
      "  True: quantity -> Predicted: ingredient\n",
      "\n",
      "Error 13:\n",
      "  Token: 'julienned'\n",
      "  Context: blanched inch Ginger julienned tablespoon Extra Vi...\n",
      "  Previous: Ginger | Next: tablespoon\n",
      "  True: unit -> Predicted: ingredient\n",
      "\n",
      "Error 14:\n",
      "  Token: 'Pinch'\n",
      "  Context: leaves mustard asafoetida Pinch 4 to 5...\n",
      "  Previous: asafoetida | Next: 4\n",
      "  True: unit -> Predicted: ingredient\n",
      "\n",
      "Error 15:\n",
      "  Token: 'cut'\n",
      "  Context: thin and straight cut...\n",
      "  Previous: straight | Next: <END>\n",
      "  True: unit -> Predicted: ingredient\n",
      "\n",
      "Error 16:\n",
      "  Token: 'Baking'\n",
      "  Context: Maida 1/4 teaspoon Baking powder Water 2...\n",
      "  Previous: teaspoon | Next: powder\n",
      "  True: unit -> Predicted: ingredient\n",
      "\n",
      "Error 17:\n",
      "  Token: 'Extract'\n",
      "  Context: Til 1/2 Vanilla Extract...\n",
      "  Previous: Vanilla | Next: <END>\n",
      "  True: unit -> Predicted: ingredient\n",
      "\n",
      "Error 18:\n",
      "  Token: 'Hot'\n",
      "  Context: Greens Tabasco Original Hot Sauce Salt and...\n",
      "  Previous: Original | Next: Sauce\n",
      "  True: quantity -> Predicted: ingredient\n",
      "\n",
      "Error 19:\n",
      "  Token: 'garlic'\n",
      "  Context: boiled 6 cloves garlic 2 inch ginger...\n",
      "  Previous: cloves | Next: 2\n",
      "  True: quantity -> Predicted: ingredient\n",
      "\n",
      "Error 20:\n",
      "  Token: 'Broccoli'\n",
      "  Context: cup Barley seeds Broccoli florets 1/4 Green...\n",
      "  Previous: seeds | Next: florets\n",
      "  True: unit -> Predicted: ingredient\n",
      "\n",
      "Error 21:\n",
      "  Token: 'Green'\n",
      "  Context: Broccoli florets 1/4 Green peas Matar Sweet...\n",
      "  Previous: 1/4 | Next: peas\n",
      "  True: ingredient -> Predicted: unit\n",
      "\n",
      "Error 22:\n",
      "  Token: 'corn'\n",
      "  Context: peas Matar Sweet corn beans French Beans...\n",
      "  Previous: Sweet | Next: beans\n",
      "  True: unit -> Predicted: ingredient\n",
      "\n",
      "Error 23:\n",
      "  Token: 'cinnamon'\n",
      "  Context: beans potatoes ghee cinnamon fennel whole pepper...\n",
      "  Previous: ghee | Next: fennel\n",
      "  True: ingredient -> Predicted: unit\n",
      "\n",
      "Error 24:\n",
      "  Token: 'whole'\n",
      "  Context: ghee cinnamon fennel whole pepper coriander seeds...\n",
      "  Previous: fennel | Next: pepper\n",
      "  True: ingredient -> Predicted: unit\n",
      "\n",
      "Error 25:\n",
      "  Token: '1/4'\n",
      "  Context: pepper coriander seeds 1/4 peas mint leaves...\n",
      "  Previous: seeds | Next: peas\n",
      "  True: ingredient -> Predicted: unit\n",
      "\n",
      "Error 26:\n",
      "  Token: 'Nigella'\n",
      "  Context: Seeds) Kalonji (Onion Nigella Whole Black Pepperco...\n",
      "  Previous: (Onion | Next: Whole\n",
      "  True: unit -> Predicted: ingredient\n",
      "\n",
      "Error 27:\n",
      "  Token: 'hing'\n",
      "  Context: 1/4 teaspoon Asafoetida hing Cumin seeds Jeera...\n",
      "  Previous: Asafoetida | Next: Cumin\n",
      "  True: unit -> Predicted: ingredient\n",
      "\n",
      "Error 28:\n",
      "  Token: 'Cheese'\n",
      "  Context: Paneer Homemade Cottage Cheese 2 Potatoes Aloo...\n",
      "  Previous: Cottage | Next: 2\n",
      "  True: unit -> Predicted: ingredient\n",
      "\n",
      "Error 29:\n",
      "  Token: '2'\n",
      "  Context: Homemade Cottage Cheese 2 Potatoes Aloo 1...\n",
      "  Previous: Cheese | Next: Potatoes\n",
      "  True: unit -> Predicted: ingredient\n",
      "\n",
      "Error 30:\n",
      "  Token: 'Potatoes'\n",
      "  Context: Cottage Cheese 2 Potatoes Aloo 1 Onion...\n",
      "  Previous: 2 | Next: Aloo\n",
      "  True: unit -> Predicted: ingredient\n",
      "\n",
      "Error 31:\n",
      "  Token: 'Bell'\n",
      "  Context: cloves Garlic Green Bell Pepper Capsicum 3...\n",
      "  Previous: Green | Next: Pepper\n",
      "  True: unit -> Predicted: ingredient\n",
      "\n",
      "Error 32:\n",
      "  Token: 'or'\n",
      "  Context: Leaves French bread or rye to make...\n",
      "  Previous: bread | Next: rye\n",
      "  True: unit -> Predicted: ingredient\n",
      "\n",
      "Error 33:\n",
      "  Token: 'ginger'\n",
      "  Context: chilli 1 inch ginger 3 tablespoons coriander...\n",
      "  Previous: inch | Next: 3\n",
      "  True: quantity -> Predicted: ingredient\n",
      "\n",
      "ERROR SUMMARY STATISTICS:\n",
      "------------------------------\n",
      "Most common error type: ('unit', 'ingredient')\n",
      "Total unique tokens with errors: 28\n",
      "Average errors per recipe: 1.74\n",
      "\n",
      "Tokens with multiple errors:\n",
      "  'cloves': 4 times\n",
      "  'Spoon': 2 times\n",
      "  'small': 2 times\n"
     ]
    }
   ],
   "source": [
    "# Analyse errors found in the validation data by each label\n",
    "# and display their class weights along with accuracy\n",
    "# and display the error dataframe with token, previous token, next token, true label, predicted label and context\n",
    "\n",
    "print(\"DETAILED ERROR ANALYSIS BY LABEL TYPE:\")\n",
    "print(\"=\" * 50)\n",
    "\n",
    "if not error_df.empty:\n",
    "    \n",
    "    # Calculate label-wise accuracy\n",
    "    print(\"LABEL-WISE ACCURACY AND CLASS WEIGHTS:\")\n",
    "    print(\"-\" * 45)\n",
    "    \n",
    "    # Count total occurrences of each label in validation data\n",
    "    val_label_counts = {}\n",
    "    for label in y_val_true_flat:\n",
    "        val_label_counts[label] = val_label_counts.get(label, 0) + 1\n",
    "    \n",
    "    # Calculate accuracy for each label\n",
    "    for label in sorted(val_label_counts.keys()):\n",
    "        total_count = val_label_counts[label]\n",
    "        \n",
    "        # Count errors for this label (where true label was this label)\n",
    "        label_errors = len(error_df[error_df['true_label'] == label])\n",
    "        \n",
    "        # Calculate accuracy\n",
    "        label_accuracy = (total_count - label_errors) / total_count\n",
    "        class_weight = weight_dict.get(label, 1.0)\n",
    "        \n",
    "        print(f\"{label:12s}:\")\n",
    "        print(f\"  Total occurrences: {total_count:4d}\")\n",
    "        print(f\"  Errors: {label_errors:4d}\")\n",
    "        print(f\"  Accuracy: {label_accuracy:.4f} ({label_accuracy*100:.2f}%)\")\n",
    "        print(f\"  Class weight: {class_weight:.4f}\")\n",
    "        print()\n",
    "    \n",
    "    # Detailed error breakdown by transition type\n",
    "    print(\"ERROR BREAKDOWN BY TRANSITION TYPE:\")\n",
    "    print(\"-\" * 40)\n",
    "    \n",
    "    transition_counts = error_df.groupby(['true_label', 'predicted_label']).size()\n",
    "    for (true_label, pred_label), count in transition_counts.items():\n",
    "        print(f\"{true_label:12s} -> {pred_label:12s}: {count:3d} cases\")\n",
    "    \n",
    "    # Display detailed error DataFrame\n",
    "    print(f\"\\nDETAILED ERROR DATAFRAME:\")\n",
    "    print(\"=\" * 30)\n",
    "    \n",
    "    # Select key columns for display\n",
    "    display_columns = ['token', 'previous_token', 'next_token', 'true_label', 'predicted_label', 'context']\n",
    "    \n",
    "    if all(col in error_df.columns for col in display_columns):\n",
    "        error_display = error_df[display_columns].copy()\n",
    "        \n",
    "        # Limit context length for better display\n",
    "        error_display['context'] = error_display['context'].str[:50] + '...'\n",
    "        \n",
    "        print(f\"Showing all {len(error_display)} errors:\")\n",
    "        print()\n",
    "        \n",
    "        # Display in a formatted way\n",
    "        for idx, row in error_display.iterrows():\n",
    "            print(f\"Error {idx + 1}:\")\n",
    "            print(f\"  Token: '{row['token']}'\")\n",
    "            print(f\"  Context: {row['context']}\")\n",
    "            print(f\"  Previous: {row['previous_token']} | Next: {row['next_token']}\")\n",
    "            print(f\"  True: {row['true_label']} -> Predicted: {row['predicted_label']}\")\n",
    "            print()\n",
    "    \n",
    "    # Summary statistics\n",
    "    print(\"ERROR SUMMARY STATISTICS:\")\n",
    "    print(\"-\" * 30)\n",
    "    print(f\"Most common error type: {error_df.groupby(['true_label', 'predicted_label']).size().idxmax()}\")\n",
    "    print(f\"Total unique tokens with errors: {error_df['token'].nunique()}\")\n",
    "    print(f\"Average errors per recipe: {len(error_df) / error_df['recipe_id'].nunique():.2f}\")\n",
    "    \n",
    "    # Tokens that appear multiple times in errors\n",
    "    repeat_errors = error_df['token'].value_counts()\n",
    "    repeat_errors = repeat_errors[repeat_errors > 1]\n",
    "    \n",
    "    if not repeat_errors.empty:\n",
    "        print(f\"\\nTokens with multiple errors:\")\n",
    "        for token, count in repeat_errors.items():\n",
    "            print(f\"  '{token}': {count} times\")\n",
    "    \n",
    "else:\n",
    "    print(\"No errors found in the validation data!\")\n",
    "    print(\"The model achieved perfect accuracy on the validation set.\")\n",
    "\n"
   ]
  },
  {
   "cell_type": "markdown",
   "metadata": {
    "id": "Q3n74kVvEV3q"
   },
   "source": [
    "### **9.2** *Provide insights from the validation dataset* <font color = red>[2 marks]</font>\n",
    "\n",
    "\n"
   ]
  },
  {
   "cell_type": "markdown",
   "metadata": {
    "id": "aWZdf1O_vWnD"
   },
   "source": [
    "<font color = red>[Write your answer]</font>\n",
    "\n",
    "## Key Insights from Validation Dataset Analysis\n",
    "\n",
    "### **Model Performance Summary**\n",
    "- **Overall Accuracy**: 98.76% (2947/2984 correct predictions)\n",
    "- **Excellent Generalization**: Only 0.07% difference between training (98.83%) and validation accuracy\n",
    "- **Low Error Rate**: Only 33 misclassified tokens out of 2,605 total tokens\n",
    "\n",
    "### **Label-Specific Performance**\n",
    "1. **Ingredient Classification** (Best Performance)\n",
    "   - Accuracy: 99.60%\n",
    "   - Class weight: 0.2245 (lowest due to high frequency)\n",
    "   - Most stable predictions with minimal confusion\n",
    "\n",
    "2. **Quantity Classification** (Second Best)\n",
    "   - Accuracy: 99.03% \n",
    "   - Class weight: 2.3839\n",
    "   - Very few misclassifications (4 quantity → ingredient errors)\n",
    "\n",
    "3. **Unit Classification** (Most Challenging)\n",
    "   - Accuracy: 93.06%\n",
    "   - Class weight: 2.8303 (highest due to lower frequency)\n",
    "   - Primary source of errors (22 unit → ingredient misclassifications)\n",
    "\n",
    "### **Error Pattern Analysis**\n",
    "- **Most Common Error**: Unit → Ingredient (22 cases, 67% of all errors)\n",
    "- **Problematic Tokens**: 'cloves', 'Spoon', 'pieces' frequently misclassified\n",
    "- **Context Issues**: Ambiguous tokens like 'cloves' can be both unit and ingredient depending on context\n",
    "\n",
    "### **Model Strengths**\n",
    "- Excellent at distinguishing quantities from other labels\n",
    "- Strong feature engineering with spaCy linguistic features\n",
    "- Effective use of contextual information (previous/next tokens)\n",
    "- Good handling of the class imbalance through weighted approach\n",
    "\n",
    "### **Areas for Improvement**\n",
    "- Unit detection needs refinement, especially for ambiguous terms\n",
    "- Consider expanding unit keyword dictionary\n",
    "- May benefit from more sophisticated contextual features for edge cases\n",
    "- Fine-tune regularization for better unit classification\n",
    "\n",
    "### **Business Impact**\n",
    "- Model is production-ready with 98.76% accuracy\n",
    "- Reliable for automated recipe parsing and ingredient extraction\n",
    "- Low maintenance overhead due to consistent train/validation performance"
   ]
  },
  {
   "cell_type": "markdown",
   "metadata": {
    "id": "qUjFPBMxH20n"
   },
   "source": [
    "## **10** Conclusion (Optional) <font color = red>[0 marks]</font> <br>\n",
    "\n",
    "Write your findings and conclusion."
   ]
  }
 ],
 "metadata": {
  "colab": {
   "collapsed_sections": [
    "-ksMVNgeyiLN",
    "1y18LwoqyFpk",
    "bhNG_XC1r4Qw",
    "-JtvsBYur-oV",
    "dpJQu3JE_P7Z",
    "JbriClEV9CW5",
    "Qtqtij2-CD2m",
    "_RJEStPSC9PB",
    "qJdYJ2TEDBzd",
    "hJm2nUw0998s"
   ],
   "provenance": [],
   "toc_visible": true
  },
  "kernelspec": {
   "display_name": ".venv",
   "language": "python",
   "name": "python3"
  },
  "language_info": {
   "codemirror_mode": {
    "name": "ipython",
    "version": 3
   },
   "file_extension": ".py",
   "mimetype": "text/x-python",
   "name": "python",
   "nbconvert_exporter": "python",
   "pygments_lexer": "ipython3",
   "version": "3.13.1"
  }
 },
 "nbformat": 4,
 "nbformat_minor": 0
}
